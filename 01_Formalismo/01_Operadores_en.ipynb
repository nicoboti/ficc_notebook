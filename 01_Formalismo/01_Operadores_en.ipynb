{
 "cells": [
  {
   "cell_type": "markdown",
   "id": "5cb046c7",
   "metadata": {
    "slideshow": {
     "slide_type": "slide"
    }
   },
   "source": [
    "<img src=\"../figuras/logos/logo_usc.jpg\" align=right width='80px'/>\n",
    "<br>\n",
    "\n",
    "\n",
    "<table width=\"100%\">\n",
    "<td style=\"font-size:40px;font-style:italic;text-align:left;background-color:rgba(0, 220, 170,0.7)\">\n",
    "Operators\n",
    "</td></table>\n",
    "\n",
    "$ \\newcommand{\\bra}[1]{\\langle #1|} $\n",
    "$ \\newcommand{\\ket}[1]{|#1\\rangle} $\n",
    "$ \\newcommand{\\braket}[2]{\\langle #1|#2\\rangle} $\n",
    "$ \\newcommand{\\ketbra}[2]{| #1\\rangle  \\langle #2|} $\n",
    "$ \\newcommand{\\tr}{{\\rm tr}} $\n",
    "$ \\newcommand{\\i}{{\\color{blue} i}} $ \n",
    "$ \\newcommand{\\Tr}{{\\rm Tr}\\,} $\n",
    "$ \\newcommand{\\Hil}{{\\cal H}} $\n",
    "$ \\newcommand{\\V}{{\\cal V}} $\n",
    "$ \\newcommand{\\Lin}{\\hbox{Lin}} $\n"
   ]
  },
  {
   "cell_type": "code",
   "execution_count": 2,
   "id": "c7bd5d4c",
   "metadata": {
    "slideshow": {
     "slide_type": "-"
    }
   },
   "outputs": [],
   "source": [
    "import sys\n",
    "sys.path.append('../')\n",
    "import macro_tQ as tQ\n",
    "\n",
    "import numpy as np\n",
    "import scipy.linalg as la\n",
    "from IPython.display import display,Markdown,Latex\n",
    "import matplotlib.pyplot as plt\n",
    "from qiskit.visualization import array_to_latex"
   ]
  },
  {
   "cell_type": "markdown",
   "id": "c346dccd",
   "metadata": {
    "slideshow": {
     "slide_type": "skip"
    }
   },
   "source": [
    "<a id='top'></a>\n",
    "\n",
    "- [Operators and matrices](#opdefi) \n",
    "\n",
    "    - [*Matrix of an operator*](#matriz_op)  \n",
    "<br>\n",
    "\n",
    "- [Basis of operators](#op_basis)\n",
    "\n",
    "    - [*Outer product*](#prod_ext)\n",
    "    \n",
    "    - [*Canonical basis*](#base_can)  \n",
    "\n",
    "<br>    \n",
    "  \n",
    "\n",
    "- [El espacio vectorial Lin($\\Hil$)](#linh)\n",
    "<br>\n",
    "\n",
    "    - [Classes of operators](#op_class)\n",
    "    \n",
    "        - [*Adjoint operator*](#opadj)\n",
    "\n",
    "        - [*Unitary perator*](#opunit)\n",
    "    \n",
    "        - [*Normal operador*](#opnormal)\n",
    "    \n",
    "        - [*Hermitian operator*](#opermit)\n",
    "    \n",
    "        - [*Proyectors*](#opproyec)\n",
    "<br>        \n",
    "\n",
    "- [Eigenvalues and eigenvectors](#eigen) \n",
    "\n",
    "    - [*Eigenspaces*](#subesprop)\n",
    "   \n",
    "    - [*Spectrum of operators*](#especope)\n",
    "    \n",
    "\n",
    "<br>\n",
    "\n",
    "- [Operator decompositions](#op_decomp)\n",
    "\n",
    "    - [*Spectral Decomposition*](#spec_dec)\n",
    "\n",
    "    - [*Polar decomposition*](#pol_dec)\n",
    "    \n",
    "    - [*Singular Value Decomposition (SVD)*](#svd_dec)\n",
    "\n",
    "<br>    \n",
    "\n",
    "- [Operator trace](#optrace)\n",
    "\n",
    "    - [*Lin($\\Hil$*) as a Hilbert space](#linhil)\n",
    "    - [Operator norm and distance](#op_norm)\n",
    "\n",
    "<br>\n",
    "\n",
    "\n",
    "- [Linear Maps](#lin_map)\n",
    "    - [Classes of linear maps](#class_lin_map)\n",
    "    \n",
    "<br>\n",
    "\n",
    "\n",
    "- [Functions of operators](#func_op)\n",
    "    - [Analytic functions](#anal_fun)\n",
    "    - [General functions](#gen_func)\n",
    "\n",
    "<br>    \n",
    "\n",
    "- [Pauli matrices](#paulis)\n",
    "    - [Pauli Algebra](#pauli_alg)\n",
    "\n",
    "<br>    \n"
   ]
  },
  {
   "cell_type": "markdown",
   "id": "db311637",
   "metadata": {
    "slideshow": {
     "slide_type": "skip"
    }
   },
   "source": [
    "<a id='opdefi'></a>\n",
    "# Operators and Matrices\n",
    "\n",
    "[<<<](#top)  "
   ]
  },
  {
   "cell_type": "markdown",
   "id": "6f3b844e",
   "metadata": {
    "slideshow": {
     "slide_type": "skip"
    }
   },
   "source": [
    "In a vector space, besides the vectors themselves, it is essential to understand the different ways in which they can be **transformed** into one another,\n"
   ]
  },
  {
   "cell_type": "markdown",
   "id": "d39ab68c",
   "metadata": {
    "slideshow": {
     "slide_type": "slide"
    }
   },
   "source": [
    "<div class=\"alert alert-block alert-info\",text-align:center>\n",
    "<p style=\"text-align: left ;color: navy;\">  \n",
    "    <b>Definition:</b> <i>linear operator</i> \n",
    "<br>\n",
    "<br>    \n",
    "A linear operator is a map $A:\\Hil \\to \\Hil$ that transforms one vector into another \n",
    "<br>\n",
    "<br>\n",
    "$$\n",
    "A: \\ket{u} ~~\\to ~~ \\ket{v}   \n",
    "$$\n",
    "<br>    \n",
    "in a <i>linear</i> manner.   \n",
    "<p>\n",
    "</div>\n"
   ]
  },
  {
   "cell_type": "markdown",
   "id": "5e0c26af",
   "metadata": {
    "slideshow": {
     "slide_type": "-"
    }
   },
   "source": [
    "Linearity refers to the following property:\n",
    "\n",
    "$$\n",
    "A: (\\alpha\\ket{u} + \\beta\\ket{w})~~\\to ~~ \\ket{v} = \\alpha A\\ket{u} + \\beta A\\ket{w}\n",
    "$$\n"
   ]
  },
  {
   "cell_type": "markdown",
   "id": "ad9d3f3c",
   "metadata": {
    "slideshow": {
     "slide_type": "skip"
    }
   },
   "source": [
    "<div class=\"alert alert-block alert-danger\",text-align:center>\n",
    "<p style=\"text-align: left \">  \n",
    "<b>Notation:</b>  \n",
    "We also write $\\ket{v} = A\\ket{u} \\equiv \\ket{Au}$ $~~$ (where $Au$ should be understood as a label)\n",
    "<br>\n",
    "</p>\n",
    "</div>\n"
   ]
  },
  {
   "cell_type": "markdown",
   "id": "ac0bfdd6",
   "metadata": {
    "slideshow": {
     "slide_type": "skip"
    }
   },
   "source": [
    "<div class=\"alert alert-block alert-warning\">\n",
    "<b>Example:</b> \n",
    "<br> An <i>operator</i> easy to visualize is the <i>rotation operator in a plane</i>. Given an angle $\\theta \\in (0,2\\pi)$, the operator $A = R(\\theta)$ rotates any vector by an angle $\\theta$ counterclockwise.\n",
    "<br>\n",
    "<br>\n",
    "A vector in the plane ${\\bf u} = (u_1, u_2)$ is equivalent to the complex number $u = u_1 + i u_2$ in the complex plane $V = \\mathbb{C}$.\n",
    "\n",
    "Written in polar form, $u = |u| e^{i\\phi}$, and we know that a rotation by an angle $\\theta$ is equivalent to adding this angle to the phase:\n",
    "<br>\n",
    "<br>\n",
    "$$\n",
    "v = R(\\theta) u = |u| e^{i(\\phi + \\theta)} = |u| e^{i\\phi} e^{i\\theta} = u \\cdot e^{i\\theta}\n",
    "$$\n",
    "<br>    \n",
    "Therefore, to rotate a complex number by an angle $\\theta$, it is enough to multiply it by the phase factor $e^{i\\theta}$, which corresponds to the operator $R(\\theta)$ in the vector space $V = \\mathbb{C}$.\n",
    "\n",
    "The fundamental property of a rotation is to keep the modulus invariant, $|v| = |u|$.    \n",
    "</div>\n"
   ]
  },
  {
   "cell_type": "markdown",
   "id": "3ef157c2",
   "metadata": {
    "slideshow": {
     "slide_type": "skip"
    }
   },
   "source": [
    "<div class=\"alert alert-block alert-success\">\n",
    "<b>Exercise 1.3.1</b>\n",
    "    \n",
    "Using the previous example, define a function $R$ that receives a vector in the plane $(u_1,u_2)$ and returns the vector $(v_1,v_2)$ with components rotated by an angle $\\theta$.\n",
    "         \n",
    "</div>\n",
    "<br>\n",
    "<details>\n",
    "<summary><p style=\"text-align:left\"> >> Solution </p></summary>\n",
    "\n",
    "```python\n",
    "def R(u1, u2, theta):\n",
    "    u = u1 + u2*1j\n",
    "    v = u * np.exp(1j * theta)  # u rotated by angle theta\n",
    "    return v.real, v.imag\n",
    "</details>"
   ]
  },
  {
   "cell_type": "code",
   "execution_count": 3,
   "id": "f2f96fd9",
   "metadata": {
    "slideshow": {
     "slide_type": "skip"
    }
   },
   "outputs": [
    {
     "data": {
      "image/png": "[encoded data removed]",
      "text/plain": [
       "<Figure size 800x800 with 1 Axes>"
      ]
     },
     "metadata": {},
     "output_type": "display_data"
    }
   ],
   "source": [
    "\n",
    "'''ángulo que queremos rotar'''\n",
    "theta=0.6 \n",
    "\n",
    "'''vector a rotar'''\n",
    "u1=2.\n",
    "u2=2.\n",
    "\n",
    "'''v1 y v2 a partir de u1, u2 y theta'''\n",
    "def R(u1,u2,theta):\n",
    "        u = u1 + u2*1j\n",
    "        v = u*np.exp(1j*theta) # u rotado un angulo theta\n",
    "        return v.real,v.imag\n",
    "    \n",
    "v1,v2 =  R(u1,u2,theta)\n",
    "\n",
    "''' Representación en el plano complejo '''\n",
    "v = v1**2+v2**2\n",
    "tQ.plot_2D_plane(left=-int(abs(v1))-2,right=int(abs(v1))+2,up=int(abs(v2))+1,down=-int(abs(v2))-1)\n",
    "tQ.draw_vector(u1,u1,vcolor='b')\n",
    "tQ.draw_vector(v1,v2,vcolor='r')\n"
   ]
  },
  {
   "cell_type": "markdown",
   "id": "bd92d755",
   "metadata": {
    "slideshow": {
     "slide_type": "slide"
    }
   },
   "source": [
    "<a id='matriz_op'></a>\n",
    "\n",
    "## Matrix of an operator\n",
    "\n"
   ]
  },
  {
   "cell_type": "markdown",
   "id": "29cd66be",
   "metadata": {
    "slideshow": {
     "slide_type": "-"
    }
   },
   "source": [
    "\n",
    "*Given a basis* $\\ket{i}$\n",
    "\n",
    "$\\Rightarrow$ a vector is specified by a *column of components*\n",
    "\n",
    "$$\n",
    "\\ket{v} \\sim \\begin{pmatrix} v_1 \\\\ v_2\\\\ \\vdots \\\\ v_N\\end{pmatrix}\n",
    "$$\n"
   ]
  },
  {
   "cell_type": "markdown",
   "id": "af12e90b",
   "metadata": {
    "slideshow": {
     "slide_type": "slide"
    }
   },
   "source": [
    "$\\Rightarrow$ an operator is defined by a *matrix of components*.\n",
    "\n",
    "$$\n",
    "A \\sim \\begin{pmatrix} \n",
    "A_{11} & A_{12} & \\cdots & A_{1N} \\\\\n",
    "A_{21} & A_{22} & \\cdots & A_{2N} \\\\\n",
    "\\vdots & \\vdots &  \\ddots      & \\vdots \\\\\n",
    "A_{N1} & A_{N2} &    \\cdots    & A_{NN}\n",
    "\\end{pmatrix}\n",
    "$$\n"
   ]
  },
  {
   "cell_type": "markdown",
   "id": "62a56d79",
   "metadata": {
    "slideshow": {
     "slide_type": "skip"
    }
   },
   "source": [
    "Indeed, in a basis, the relation $\\ket{v} = A\\ket{u}$ is equivalent to an equation relating the components of both vectors.\n",
    "\n",
    "$$\n",
    "v_i = \\sum_{j=1}^N A_{ij} u_j  \\, .\n",
    "$$"
   ]
  },
  {
   "cell_type": "markdown",
   "id": "509b8331",
   "metadata": {
    "slideshow": {
     "slide_type": "skip"
    }
   },
   "source": [
    "This operation corresponds to the following matrix multiplication:\n",
    "\n",
    "$$\n",
    "\\begin{pmatrix}\n",
    "v_1 \\\\ v_2 \\\\ \\vdots \\\\ v_N \\end{pmatrix} =  \\begin{pmatrix} \n",
    "A_{11} & A_{12} & \\cdots & A_{1N} \\\\\n",
    "A_{21} & A_{22} & \\cdots & A_{2N} \\\\\n",
    "\\vdots & \\vdots &  \\ddots      & \\vdots \\\\\n",
    "A_{N1} & A_{N2} &    \\cdots    & A_{NN}\n",
    "\\end{pmatrix}\n",
    " \\begin{pmatrix} \n",
    "u_1 \\\\ u_2 \\\\ \\vdots \\\\ u_N\\end{pmatrix} \\hspace{4cm}\n",
    "$$"
   ]
  },
  {
   "cell_type": "markdown",
   "id": "580815fb",
   "metadata": {
    "slideshow": {
     "slide_type": "skip"
    }
   },
   "source": [
    "<div class=\"alert alert-block alert-warning\">\n",
    "    <b>Example:</b> \n",
    "<br> Continuing with the example of the rotation operator in a plane, we have seen that the components of $u = u_1 + i u_2$ and of $R(\\theta)u = v = v_1 + i v_2$ are obtained by multiplication by a pure phase:\n",
    "\\begin{eqnarray}\n",
    "v &=& u e^{i\\theta} \\\\\n",
    "\\end{eqnarray}\n",
    "    \n",
    "Let's develop each side in Cartesian coordinates, separating the real and imaginary parts:\n",
    "<br>    \n",
    "\\begin{eqnarray}\n",
    "v_1 + i v_2 &=& (u_1 + i u_2)(\\cos \\theta + i \\sin \\theta)  \\\\\n",
    "    \\rule{0mm}{6mm}\n",
    "    &=& (\\cos\\theta \\, u_1 - \\sin \\theta\\,  u_2) + i(\\sin\\theta\\,  u_1 + \\cos \\theta\\,  u_2)\n",
    "\\end{eqnarray}\n",
    "<br>\n",
    "    \n",
    "That is, the coordinates of the original vector and the rotated image vector are related as\n",
    "\n",
    "<br>\n",
    "\\begin{eqnarray}\n",
    "v_1 = \\cos\\theta \\, u_1 - \\sin \\theta\\,  u_2 ~~~~~~~,~~~~~~~~\n",
    "v_2 = \\sin\\theta \\, u_1 + \\cos \\theta\\,  u_2     \n",
    "\\end{eqnarray}\n",
    "<br>\n",
    "\n",
    "which can be expressed in matrix form as\n",
    "\n",
    "$$\n",
    "\\begin{pmatrix} v_1 \\\\ v_2 \\end{pmatrix} = \\begin{pmatrix} \\cos\\theta & -\\sin\\theta \\\\ \\sin\\theta & \\cos\\theta \\end{pmatrix} \\begin{pmatrix} u_1 \\\\ u_2 \\end{pmatrix}\n",
    "$$    \n",
    "    \n",
    "</div>\n"
   ]
  },
  {
   "cell_type": "markdown",
   "id": "a493c0e4",
   "metadata": {
    "slideshow": {
     "slide_type": "skip"
    }
   },
   "source": [
    "<a id='op_basis'></a>\n",
    "\n",
    "# Basis of Operators  \n",
    "\n",
    "[<<<](#top)"
   ]
  },
  {
   "cell_type": "markdown",
   "id": "d807f34c",
   "metadata": {
    "jp-MarkdownHeadingCollapsed": true,
    "slideshow": {
     "slide_type": "slide"
    }
   },
   "source": [
    "<a id='prod_ext'></a>\n",
    "## Outer Product \n",
    "\n",
    "Depending on the order in which we compose them, $~\\braket{u}{v}~$ or $~\\ketbra{v}{u}~$, the result is very different\n",
    "\n",
    "- The **inner product**, or *scalar product*, is a *complex number*\n",
    "<br>\n",
    "\n",
    "$$\n",
    " a = \\braket{u}{v} = \\braket{v}{u}^* \n",
    "$$\n",
    "\n",
    "- The **outer product** is an *operator*\n",
    "<br>\n",
    "\n",
    "$$\n",
    "A = \\ketbra{v}{u}\n",
    "$$\n"
   ]
  },
  {
   "cell_type": "markdown",
   "id": "583adba2",
   "metadata": {
    "slideshow": {
     "slide_type": "skip"
    }
   },
   "source": [
    "To understand why it is an operator, we observe that this expression applied to a vector $\\ket{w}$ gives another vector, <br>\n",
    "\n",
    "$$\n",
    "A : \\ket{w} ~\\to ~ A\\ket{w} =  \\ket{v}\\braket{u}{w} = \\ket{v} b = b \\ket{v} \n",
    "$$\n"
   ]
  },
  {
   "cell_type": "markdown",
   "id": "99c39918",
   "metadata": {
    "slideshow": {
     "slide_type": "skip"
    }
   },
   "source": [
    "<div class=\"alert alert-block alert-danger\">\n",
    "<b>Note:</b> \n",
    "<br>\n",
    "1. The <b>order</b> in which we write things is <b>very</b> important.\n",
    "<br> \n",
    "<br>   \n",
    "$\\Rightarrow$ \n",
    "$\\braket{u}{v}$ and $\\ketbra{v}{u}$ are <i>radically different</i> objects: the first is a number and the second is an operator. \n",
    "<br>  \n",
    "<br>    \n",
    "$\\Rightarrow$ On the other hand, $\\ket{v} b = b \\ket{v}$, as well as $\\bra{u} b = b \\bra{u}$, that is, complex numbers and $kets$ or $bras$ can be written in any order (we say they commute).\n",
    "<br>\n",
    "<br>\n",
    "2. The action of the operator $A = \\ket{v}\\bra{u}$ is very easy to describe in words:\n",
    "<br>  \n",
    "    \n",
    "- The operator $A$ takes <i>any vector</i> $\\ket{w}$ and converts it into a vector <i>parallel</i> to $\\ket{v}$, proportional to its projection $b = \\braket{u}{w}$. \n",
    "<br>    \n",
    "- If the projection is zero $b=0$, the operator <i>annihilates</i>, that is, it gives the neutral element.\n",
    "</div>\n"
   ]
  },
  {
   "cell_type": "markdown",
   "id": "7a0320c7",
   "metadata": {
    "jp-MarkdownHeadingCollapsed": true,
    "slideshow": {
     "slide_type": "slide"
    }
   },
   "source": [
    "### Outer product in components\n",
    "\n",
    "The difference between the *inner product* $a = \\braket{u}{v}$ and the *outer product* $A = \\ketbra{u}{v}$ is reflected in a basis by expressing both vectors, $\\ket{u} = \\sum_i u_i \\ket{i}$ and $\\ket{v} = \\sum_j v_j \\ket{j}$, in components in an orthonormal basis.\n",
    "\n",
    "- The *complex number* $a$ is the *scalar product*\n",
    "\n",
    "$$\n",
    "a = \\braket{u}{v} = \\begin{pmatrix} u_1^*, ..., u_N^* \\end{pmatrix}\n",
    "\\begin{pmatrix} v_1 \\\\ \\vdots \\\\ v_N \\end{pmatrix} = \\sum_i u_i^* v_i\n",
    "$$"
   ]
  },
  {
   "cell_type": "markdown",
   "id": "ce7889b4",
   "metadata": {
    "slideshow": {
     "slide_type": "slide"
    }
   },
   "source": [
    "- The matrix $A_{ij}$ *represents* the operator $A$ in the basis $\\{\\ket{i} = \\ket{e_i}\\}$\n",
    "\n",
    "$$\n",
    "A = \\ketbra{v}{u} ~\\sim ~\\begin{pmatrix} v_1 \\\\ \\vdots \\\\ v_N\\end{pmatrix}\n",
    "\\begin{pmatrix} u_1^*,...,u_N^*\\end{pmatrix} ~=~ \n",
    "\\begin{pmatrix} v_1 u_1^* & v_1u_2^* & ... & v_1 u_N^* \\\\\n",
    "v_2 u_1^* & v_2 u_1^*& ... & v_2 u_N^* \\\\ \\vdots & \\vdots  & \\ddots & \\vdots \\\\\n",
    "v_N u_1^* & & ... & v_N u_N^* \\end{pmatrix} ~ = ~A_{ij}\n",
    "$$\n",
    "\n",
    "<br>"
   ]
  },
  {
   "cell_type": "markdown",
   "id": "fffb7ae8",
   "metadata": {
    "slideshow": {
     "slide_type": "slide"
    }
   },
   "source": [
    "<a id='base_canonica'></a>\n",
    "## Canonical basis of operators\n",
    "\n",
    "Consider the *outer product* of two elements of the orthonormal basis\n",
    "$\\ketbra{i}{j}$\n",
    "<br>\n",
    "\n",
    "- The action of $\\ketbra{i}{j}$ on another vector, $\\ket{k}$, of the basis is simple:\n",
    "<br>\n",
    "\n",
    "$$\n",
    " \\ket{i}\\braket{j}{k} = \\ket{i} \\delta_{jk} = \\left\\{ \\begin{array}{rl}\n",
    "0 & {\\rm if} ~~ k \\neq j \\\\ \\ket{i} & {\\rm if} ~~ k = j \\end{array} \\right.\n",
    "$$\n"
   ]
  },
  {
   "cell_type": "markdown",
   "id": "1c2ec265",
   "metadata": {
    "slideshow": {
     "slide_type": "slide"
    }
   },
   "source": [
    "- The matrix associated with the operator has only a 1 in the $(i,j)$ element and zeros everywhere else. For example, suppose\n",
    "$N=4$\n",
    "\n",
    "<br>\n",
    "\n",
    "$$\n",
    "\\ketbra{2}{3} ~\\to ~~\n",
    " \\begin{pmatrix} 0 \\\\ 1 \\\\ 0 \\\\ 0 \\end{pmatrix}\\begin{pmatrix} 0 & 0 & 1 & 0 \\end{pmatrix} = \n",
    "\\begin{pmatrix}\n",
    "0 &  0 & 0 &  0 \\\\  0 &  0 & 1&  0 \\\\ 0 &  0 & 0 &  0 \\\\ 0 &  0 & 0 &  0\n",
    "\\end{pmatrix} ~~\\Rightarrow ~~ A_{ij} = \\delta_{i2}\\delta_{j3}\n",
    "$$\n",
    "\n",
    "<br>"
   ]
  },
  {
   "cell_type": "markdown",
   "id": "87b76b79",
   "metadata": {
    "slideshow": {
     "slide_type": "slide"
    }
   },
   "source": [
    "The <i>matrix elements</i> $A_{ij}$ express the components of an operator in the <b>operator basis</b> $\\ketbra{i}{j}$.\n"
   ]
  },
  {
   "cell_type": "markdown",
   "id": "09964c55",
   "metadata": {
    "slideshow": {
     "slide_type": "-"
    }
   },
   "source": [
    "$$\n",
    "A ~=~ \\sum_{i,j=1}^N A_{ij} \\ketbra{i}{j} \n",
    "$$"
   ]
  },
  {
   "cell_type": "markdown",
   "id": "586868b5",
   "metadata": {
    "slideshow": {
     "slide_type": "skip"
    }
   },
   "source": [
    "<details>\n",
    "<summary><p style=\"text-align:left\"> >> <i>Consistency</i> </p></summary>\n",
    "Let's verify that it acts correctly\n",
    "$$\n",
    "\\begin{array}{rcl}\n",
    "A |u\\rangle &=&  \\sum_{i,j} A_{ij} \\ketbra{i}{j}  \\left(\\sum_k u_k |k\\rangle \\right) \\\\\n",
    "&\\stackrel{\\rm linealidad}{=} \\rule{0mm}{6mm}& \\sum_{i,j} \\sum_k A_{ij} | i\\rangle  \\,   u_k \\langle j| k\\rangle \\nonumber\\\\\n",
    "&\\stackrel{\\rm ortonormalidad}{=}\\rule{0mm}{6mm}& \\sum_{i,j,k} A_{ij} | i\\rangle  \\,   u_k \\delta_{jk}\\\\\n",
    "&=\\rule{0mm}{6mm}&\\sum_{ij} A_{ij}\\,|i\\rangle \\, u_j= \\sum_i \\left(\\sum_{j} A_{ij}\\, u_j\\right)  |i\\rangle    \\\\\n",
    "&=\\rule{0mm}{6mm}&\\sum_i v_i \\ket{i} \\nonumber\\\\\n",
    "&=\\rule{0mm}{6mm}&   | v\\rangle\n",
    "\\end{array}\n",
    "$$\n",
    "</details>"
   ]
  },
  {
   "cell_type": "markdown",
   "id": "90c30865",
   "metadata": {
    "slideshow": {
     "slide_type": "slide"
    }
   },
   "source": [
    "### Matrix elements\n",
    "\n",
    "In the same way that we obtained the components of a vector by projecting onto a basis element\n",
    "\n",
    "$$\n",
    "v_i = \\braket{i}{v}\n",
    "$$\n",
    "\n",
    "we can now obtain the *matrix elements* of an operator $A$ as\n",
    "\n",
    "$$\n",
    "A_{ij} = \\bra{i} A \\ket{j}\n",
    "$$\n"
   ]
  },
  {
   "cell_type": "markdown",
   "id": "b9741a18",
   "metadata": {
    "slideshow": {
     "slide_type": "skip"
    }
   },
   "source": [
    "<div class=\"alert alert-block alert-success\">\n",
    "<b>Exercise 1.3.2</b>\n",
    "<br>\n",
    "Check the consistency of the expressions $~A = \\sum_{i,j=1}^N A_{ij} \\ketbra{i}{j} $ and $~A_{ij} = \\bra{i} A \\ket{j}$\n",
    "</div>\n",
    "<details>\n",
    "<summary><p style=\"text-align:right\"> >> <i>Solution:</i> </p></summary>\n",
    "Here is your solution\n",
    "</details>    "
   ]
  },
  {
   "cell_type": "markdown",
   "id": "82e22308",
   "metadata": {
    "slideshow": {
     "slide_type": "skip"
    }
   },
   "source": [
    "<div class=\"alert alert-block alert-warning\">\n",
    "<b>Summary:</b> \n",
    "<br>     \n",
    "Given a basis $\\{\\ket{i}\\}$, we can express an operator through a matrix $A_{ij}$. The precise relation is\n",
    "<br>\n",
    "<br>\n",
    "- as an operator $\\to ~ A = \\sum_{ij} A_{ij} \\ketbra{i}{j}$\n",
    "<br>\n",
    "<br>    \n",
    "- as a matrix element $\\to ~ A_{ij} = \\bra{i} A \\ket{j}$\n",
    "<br>   \n",
    "</div>\n"
   ]
  },
  {
   "cell_type": "markdown",
   "id": "72191d55",
   "metadata": {
    "slideshow": {
     "slide_type": "skip"
    }
   },
   "source": [
    "### Change of basis\n",
    "\n",
    "Two orthonormal bases $\\ket{e_i}$ and $\\ket{\\tilde e_i}$ are linearly related by a matrix\n",
    "\n",
    "$$\n",
    "\\ket{e_j} \\to \\ket{\\tilde e_j} = \\sum_{i} U_{ij} \\ket{e_i}\n",
    "$$\n",
    "\n",
    "The *adjoint* relation is straightforward to obtain:\n",
    "\n",
    "$$\n",
    "\\bra{e_j} \\to \\bra{\\tilde e_j} = \\sum_i U^*_{ij} \\bra{e_i}\n",
    "$$\n"
   ]
  },
  {
   "cell_type": "markdown",
   "id": "82f89e3e",
   "metadata": {
    "slideshow": {
     "slide_type": "skip"
    }
   },
   "source": [
    "In each basis, an operator $A$ is *represented* by different matrix elements\n",
    "\n",
    "$$\n",
    "A_{ij} = \\bra{e_i} A \\ket{e_j} ~~~~,~~~~~ \\tilde{A}_{ij} = \\bra{\\tilde{e}_i} A \\ket{\\tilde{e}_j} \\, .\n",
    "$$\n"
   ]
  },
  {
   "cell_type": "markdown",
   "id": "019b4348",
   "metadata": {
    "slideshow": {
     "slide_type": "skip"
    }
   },
   "source": [
    "We can find the relation by substituting the change of basis\n",
    "\n",
    "\\begin{eqnarray}\n",
    "\\tilde A_{ij} &=& \\bra{\\tilde e_i} A \\ket{\\tilde e_j} \\\\ \\rule{0mm}{8mm}\n",
    "&=& \\sum_{k}U^*_{ki}\\bra{e_k} ~A~ \\sum_l U_{lj}\\ket{e_l} \\\\ \n",
    "&=&  \\sum_{k,l} U^\\dagger_{ik}\\bra{e_k} A  \\ket{e_l}U_{lj}   = \\sum_{k,l} U^\\dagger_{ik}A_{kl} U_{lj} \\, .\n",
    "\\end{eqnarray}"
   ]
  },
  {
   "cell_type": "markdown",
   "id": "8a27c515",
   "metadata": {
    "slideshow": {
     "slide_type": "skip"
    }
   },
   "source": [
    "<div class=\"alert alert-block alert-info\" text-align=\"center\">\n",
    "<p style=\"text-align: left; color: navy;\">\n",
    "<b> Lemma </b>: \n",
    "<br>        \n",
    "Under a change of orthonormal bases $ \\ket{e_j} \\to \\ket{\\tilde e_j} = \\sum_{i} U_{ij} \\ket{e_i}$, the components of a vector $\\ket{v}$ and of an operator $A$ change according to the rule:\n",
    "\n",
    "<br>\n",
    "<br>        \n",
    "\\begin{eqnarray}\n",
    "\\tilde v_i &=& (U^\\dagger \\cdot v)_i \\\\ \\rule{0mm}{12mm}\n",
    "\\tilde A_{ij} &=& (U^\\dagger \\cdot A \\cdot U)_{ij}\n",
    "\\end{eqnarray}\n",
    "        \n",
    "</div>\n"
   ]
  },
  {
   "cell_type": "markdown",
   "id": "c7173981",
   "metadata": {
    "slideshow": {
     "slide_type": "skip"
    }
   },
   "source": [
    "<div class=\"alert alert-block alert-danger\">\n",
    "<b>Note:</b> \n",
    "<br>  \n",
    "The mnemonic rule is that columns are multiplied by $U^\\dagger \\cdot$ and rows by $\\cdot\\, U$\n",
    "</div>\n",
    "$$\n",
    "\\begin{pmatrix} \\tilde v_1 \\\\ \\vdots \\\\ \\tilde v_N \\end{pmatrix} = \n",
    "U^\\dagger \\cdot \\begin{pmatrix} v_1 \\\\ \\vdots \\\\  v_N \\end{pmatrix} ~~~~\n",
    "~~~~~~~;~~~~~~~~\n",
    "\\begin{pmatrix} \n",
    "\\tilde A_{11} & \\cdots & \\tilde A_{1N} \\\\\n",
    "\\tilde \\vdots & \\ddots & \\vdots  \\\\\n",
    "\\tilde A_{N1} & \\cdots & \\tilde A_{NN} \n",
    "\\end{pmatrix} \n",
    " =  U^\\dagger\\cdot\n",
    " \\overbrace{\\begin{pmatrix} \n",
    " A_{11} & \\cdots &  A_{1N} \\\\\n",
    "\\tilde \\vdots & \\ddots & \\vdots  \\\\\n",
    " A_{N1} & \\cdots &  A_{NN} \n",
    "\\end{pmatrix} }^{\\large \\cdot ~ U}\n",
    "$$\n",
    "    \n",
    "</div>"
   ]
  },
  {
   "cell_type": "markdown",
   "id": "de51fe4f",
   "metadata": {
    "slideshow": {
     "slide_type": "skip"
    }
   },
   "source": [
    "<div class=\"alert alert-block alert-success\">\n",
    "<b>Exercise 1.3.3</b>$~$    \n",
    "    \n",
    "Write a function $basis\\_change$ that receives a change of basis matrix $U_{ij}$ with $\\ket{\\tilde e_j} = \\sum_i U_{ij} \\ket{e_i}$, the components $v_i$ of a vector, or $A_{ij}$ of an operator, and returns the components $\\tilde v_i$ or $\\tilde A_{ij}$ in the new basis.\n",
    "\n",
    "<a href=\"../FICC_solutions.ipynb#Ex_1.3.3\">solution</a>\n",
    "    \n",
    "<br>\n",
    "<b>Exercise 1.3.4</b>$~$        \n",
    "\n",
    "The matrix $\\begin{pmatrix} 0 & -i \\\\ i & 0 \\end{pmatrix}$ represents an operator $\\sigma_y$ in the basis $\\{\\ket{0}, \\ket{1}\\}$. Write $\\sigma_y$ in the basis $\\{\\ket{+i} = \\frac{1}{\\sqrt{2}}(\\ket{0} + i \\ket{1}), \\ket{-i} = \\frac{1}{\\sqrt{2}}(\\ket{0} - i \\ket{1})\\}$.\n",
    "    \n",
    "<a href=\"../FICC_solutions.ipynb#Ex_1.3.3\">solution</a>\n",
    "    \n",
    "</div>\n"
   ]
  },
  {
   "cell_type": "markdown",
   "id": "71b5e50a",
   "metadata": {
    "slideshow": {
     "slide_type": "skip"
    }
   },
   "source": [
    "### Completeness relation    \n",
    "\n",
    "The action of the identity operator is\n",
    "\n",
    "$$\n",
    "I \\ket{v} = \\ket{v}\n",
    "$$\n",
    "\n",
    "In particular, on every basis element $I \\ket{i} = \\ket{i}$. In other words,  \n",
    "the identity operator $I$ has matrix elements $I_{ij} = \\delta_{ij} = \\text{diagonal}(1,1,\\ldots,1)$, so that\n",
    "<br>\n",
    "\n",
    "$$\n",
    "I = \\sum_i \\ketbra{i}{i} = \\sum_{ij} \\delta_{ij} \\ketbra{i}{j}\n",
    "$$\n",
    "\n",
    "This expression is also known as the <b>completeness relation</b> or the <b>closure relation</b> and is used very frequently.\n"
   ]
  },
  {
   "cell_type": "markdown",
   "id": "7483494c",
   "metadata": {
    "slideshow": {
     "slide_type": "skip"
    }
   },
   "source": [
    "<div class=\"alert alert-block alert-danger\">\n",
    "<b>Note:</b> \n",
    "<br>\n",
    "The completeness relation is, in fact, a property of <b>any basis</b>. \n",
    "    \n",
    "In other words, if $\\{\\ket{e_i}\\}$ and $\\{\\ket{\\tilde e_i}\\}$ are both bases, then $I \\ket{e_i} = \\ket{e_i}$ and $I \\ket{\\tilde e_j} = \\ket{\\tilde e_j}$, so $+1$ is the only eigenvalue of $I$ in any basis, and the spectral decomposition gives\n",
    "<br>\n",
    "<br>\n",
    "$$\n",
    "I = \\sum_i \\ketbra{e_i}{e_i} = \\sum_j \\ketbra{\\tilde e_j}{\\tilde e_j} \\, .\n",
    "$$\n",
    "</div>\n"
   ]
  },
  {
   "cell_type": "markdown",
   "id": "072cde6b",
   "metadata": {
    "slideshow": {
     "slide_type": "skip"
    }
   },
   "source": [
    "The closure, or completeness, relation can **always be inserted** at any step of a calculation. It is frequently used to perform changes of basis.\n"
   ]
  },
  {
   "cell_type": "markdown",
   "id": "2372d4b1",
   "metadata": {
    "slideshow": {
     "slide_type": "skip"
    }
   },
   "source": [
    "For example, let's see that the inner product $\\braket{u}{v}$ can be calculated in any basis.\n",
    "\n",
    "Let $\\ket{u} = \\sum_i u_i \\ket{e_i} = \\sum_i \\tilde u_i \\ket{\\tilde e_i}~~$ and $~~\n",
    "\\ket{v} = \\sum_i v_i \\ket{e_i} = \\sum_i \\tilde v_i \\ket{\\tilde e_i}$ \n",
    "<br>\n",
    "<br>\n"
   ]
  },
  {
   "cell_type": "markdown",
   "id": "35b867e1",
   "metadata": {
    "slideshow": {
     "slide_type": "skip"
    }
   },
   "source": [
    "Then\n",
    "\n",
    "$$ \n",
    "\\braket{v}{u} = \\bra{v} I \\ket{u} = \\bra{v}\\left(\\sum_i\\ketbra{e_i}{e_i}\\right)\\ket{u} = \n",
    "\\sum_i \\braket{v}{e_i}\\braket{e_i}{u} = \\sum_i v_i^* u_i\n",
    "$$ \n",
    "<br>\n",
    "<br>\n",
    "$$ \n",
    "\\braket{v}{u} = \\bra{v} I \\ket{u} = \\bra{v}\\left(\\sum_i\\ketbra{\\tilde e_i}{\\tilde e_i}\\right)\\ket{u} = \n",
    "\\sum_i \\braket{v}{\\tilde e_i}\\braket{\\tilde e_i}{u} = \\sum_i \\tilde v_i^* \\tilde u_i\n",
    "$$ \n",
    "<br>\n"
   ]
  },
  {
   "cell_type": "markdown",
   "id": "3931114f",
   "metadata": {
    "slideshow": {
     "slide_type": "slide"
    }
   },
   "source": [
    "<a id='linh'></a>\n",
    "\n",
    "#  $\\Lin(\\Hil)$ as a vector space\n",
    "\n",
    "[<<<](#top)"
   ]
  },
  {
   "cell_type": "markdown",
   "id": "f8ae057c",
   "metadata": {
    "slideshow": {
     "slide_type": "skip"
    }
   },
   "source": [
    "The <i>set</i> of **all** <i>linear operators</i> over a vector space $\\Hil$ naturally has the structure of a vector space, which we denote by $\\Lin(\\Hil)$.\n"
   ]
  },
  {
   "cell_type": "markdown",
   "id": "dd9bf0a1",
   "metadata": {
    "slideshow": {
     "slide_type": "-"
    }
   },
   "source": [
    "Given two operators, $A$ and $B$, both the sum $C = A + B$ and the multiplication by a complex number $D = \\lambda A$ are *new operators* defined by their action on any vector $\\ket{v} \\in \\Hil$.\n",
    "<br>\n",
    "<br>\n",
    "\n",
    "$$\n",
    "C\\ket{v} ~=~ (A + B) \\ket{v} = A\\ket{v} + B\\ket{v}\n",
    "$$\n",
    "<br>\n",
    "\n",
    "$$\n",
    "D\\ket{v} ~=~ (\\lambda A) \\ket{v} = \\lambda (A\\ket{v})\n",
    "$$"
   ]
  },
  {
   "cell_type": "markdown",
   "id": "475d5890",
   "metadata": {
    "slideshow": {
     "slide_type": "slide"
    }
   },
   "source": [
    "<a id='opadj'></a>\n",
    "## Adjoint operator\n",
    "\n",
    "    \n",
    "The *adjoint* conjugation can be extended to\n",
    " ${\\rm Lin}(\\Hil)$\n",
    "<br><br>\n",
    "\n",
    "$$\n",
    "\\dagger ~\\to ~\n",
    "\\left\\{\n",
    "\\begin{matrix}\n",
    "z & \\leftrightarrow  &  z^* \\\\\n",
    "|u\\rangle & \\leftrightarrow &   \\langle u | \\\\\n",
    "A & \\leftrightarrow & A^{\\dagger}\n",
    "\\end{matrix}\n",
    "\\right. \\hspace{5cm}\n",
    "$$\n",
    "<br>"
   ]
  },
  {
   "cell_type": "markdown",
   "id": "aa4e4c37",
   "metadata": {
    "slideshow": {
     "slide_type": "skip"
    }
   },
   "source": [
    "and there are <b>two more rules</b> that allow applying $\\dagger$ to sums and products of <i>objects</i> $a \\in \\{z, \\ket{u}, A\\}$\n",
    "<br>\n",
    "\n",
    "- *linearity* $(a + b)^\\dagger = a^\\dagger + b^\\dagger$\n",
    "<br>\n",
    "\n",
    "- *transpose* $(ab)^\\dagger = b^\\dagger a^\\dagger$ (only relevant when $a$ and $b$ do not commute)\n",
    "<br>\n"
   ]
  },
  {
   "cell_type": "markdown",
   "id": "d3a1fdb4",
   "metadata": {
    "slideshow": {
     "slide_type": "skip"
    }
   },
   "source": [
    "Examples\n",
    "<br>\n",
    "<br>\n",
    "1. $\n",
    "\\ket{v} = A \\ket{u} ~~~~\\Leftrightarrow~~~~ \\bra{v} = \\bra{u} A^\\dagger\n",
    "~~$ where the operator on the right acts on the *bra* to its left.\n",
    "<br>\n",
    "<br>\n",
    "Note that, since $\\ket{v}^\\dagger = \\ket{Au}^\\dagger = \\bra{Au}$, the previous equation implies\n",
    "<br>\n",
    "<br>\n",
    "$$\n",
    "\\bra{Au} = \\bra{u} A^\\dagger\n",
    "$$\n",
    "<br>\n",
    "2. \n",
    "$\n",
    "\\bra{w} A \\ket{u}^* = (\\bra{w} A \\ket{u})^\\dagger = \\bra{u} A^\\dagger \\ket{w}\n",
    "$\n"
   ]
  },
  {
   "cell_type": "markdown",
   "id": "5ef6cdad",
   "metadata": {
    "slideshow": {
     "slide_type": "slide"
    }
   },
   "source": [
    "### Adjoint matrix\n",
    "\n",
    "These rules allow us to obtain the adjoint of an operator\n",
    "\n",
    "<br>\n",
    "\n",
    "$$\n",
    "A^\\dagger = \\sum_{ij} \\left( A_{ij} \\ketbra{i}{j} \\right)^\\dagger = \\sum_{ij} \\ketbra{j}{i} A_{ij}^* = \\sum_{ji} A_{ji}^* \\ketbra{i}{j}\n",
    "$$\n",
    "\n",
    "where in the last equation we have swapped the indices $i \\leftrightarrow j$\n",
    "<br>\n",
    "<br>\n"
   ]
  },
  {
   "cell_type": "markdown",
   "id": "a5abefe7",
   "metadata": {
    "slideshow": {
     "slide_type": "skip"
    }
   },
   "source": [
    "We see that the matrix representing $A^\\dagger$ is the *adjoint matrix* of $A_{ij}$, that is, the transpose and conjugate\n",
    "<br>\n",
    "\n",
    "$$\n",
    "(A^\\dagger)_{ij} = A^*_{ji} = (A^*_{ij})^t \\equiv (A_{ij})^\\dagger\n",
    "$$\n",
    "\n",
    "where $^\\dagger$ means the adjoint of an operator on the left, and of a matrix on the right.\n"
   ]
  },
  {
   "cell_type": "markdown",
   "id": "01eb8ef8",
   "metadata": {
    "slideshow": {
     "slide_type": "skip"
    }
   },
   "source": [
    "If $\\Hil$ has dimension $N$, a *general operator* $A \\in \\Lin(\\Hil)$ is specified by a matrix of $N^2$ complex numbers, so\n",
    "\n",
    "$$\n",
    "A = A_{ij} \\ket{e_i} \\bra{e_j}.\n",
    "$$\n",
    "\n",
    "$N^2$ complex numbers correspond to $2N^2$ real numbers.\n",
    "\n"
   ]
  },
  {
   "cell_type": "markdown",
   "id": "fda21e39",
   "metadata": {
    "slideshow": {
     "slide_type": "skip"
    }
   },
   "source": [
    "In other words: $A$ has $N^2$ complex degrees of freedom and, therefore, this is the dimension of the space ${\\rm L}(\\Hil)$:\n",
    "<br>\n",
    "\n",
    "$$\n",
    "{\\rm dim}_{\\mathbf{C}}(\\Lin(\\Hil)) = N^2 ~~~ \\Longleftrightarrow ~~~ {\\rm dim}_{\\mathbf{R}}(\\Lin(\\Hil)) = 2 N^2\n",
    "$$\n",
    "<br>\n"
   ]
  },
  {
   "cell_type": "markdown",
   "id": "dfa46fe1",
   "metadata": {
    "slideshow": {
     "slide_type": "slide"
    }
   },
   "source": [
    "<a id='op_class'></a>\n",
    "# Classes of operators"
   ]
  },
  {
   "cell_type": "markdown",
   "id": "f388c4b7",
   "metadata": {
    "slideshow": {
     "slide_type": "skip"
    }
   },
   "source": [
    "Within $\\Lin(\\Hil)$ we can define subsets of operators that maintain certain important properties. Some will form vector subspaces, while others will not.\n",
    "\n",
    "We can define such **classes of operators** by requiring them to satisfy some *condition* or *restriction*.\n"
   ]
  },
  {
   "cell_type": "markdown",
   "id": "f9a894e7",
   "metadata": {
    "slideshow": {
     "slide_type": "slide"
    }
   },
   "source": [
    "<a id='opunit'></a>\n",
    "## Unitary Operator\n",
    "\n",
    "<div class=\"alert alert-block alert-info\" text-align=\"center\">\n",
    "<p style=\"text-align: center;\"> <p style=\"text-align: left; color: navy;\">  \n",
    "<b>Definition:</b>  \n",
    "<br> A <i>unitary operator</i> $U$ is one such that its <i>adjoint</i> equals its <i>inverse</i>\n",
    "<br><br>    \n",
    "$$\n",
    "U^\\dagger = U^{-1}\n",
    "$$\n",
    "<p>\n",
    "</div>\n"
   ]
  },
  {
   "cell_type": "markdown",
   "id": "ace8fc08",
   "metadata": {
    "slideshow": {
     "slide_type": "skip"
    }
   },
   "source": [
    "Naturally, this equation translates into the same equation for the associated matrices in *any basis*\n",
    "<br>\n",
    "<br>\n",
    "$$\n",
    "(U_{ij})^\\dagger = U_{ji}^* = U^{-1}_{ij}\n",
    "$$\n",
    "<br>\n",
    "Let us now see why we have defined this class of operators.\n"
   ]
  },
  {
   "cell_type": "markdown",
   "id": "515b2de8",
   "metadata": {
    "slideshow": {
     "slide_type": "slide"
    }
   },
   "source": [
    "<div class=\"alert alert-block alert-info\" text-align=\"center\">\n",
    "<p style=\"text-align: left ;color: navy;\">  \n",
    "<b>Theorem:</b>\n",
    "<br>    \n",
    "    The action of a <i>unitary operator</i> preserves the <i>inner product</i> of any two vectors intact.\n",
    "</div>\n",
    "\n",
    "<details>\n",
    "<summary><p style=\"text-align:left\"> >> <i>Proof</i> </p></summary>\n",
    "\n",
    "Let $U$ be a unitary operator, and $\\ket{\\varphi'} = U \\ket{\\varphi}$ and $\\ket{\\psi'} = U \\ket{\\psi}$ be two vectors transformed by $U$, then\n",
    "\n",
    "$$\n",
    "\\braket{\\varphi'}{\\psi'} = \\left( \\bra{\\varphi} U^\\dagger \\right) U \\ket{\\psi} = \\bra{\\varphi} U^\\dagger U \\ket{\\psi} = \\braket{\\varphi}{\\psi}\n",
    "$$\n",
    "\n",
    "Specializing to $\\ket{\\varphi} = \\ket{\\psi}$, we have that a unitary operator *preserves the norm*.\n",
    "\n",
    "$$\n",
    "\\| U \\ket{\\varphi} \\| = \\| \\ket{\\varphi} \\|\n",
    "$$\n",
    "\n",
    "</details>\n"
   ]
  },
  {
   "cell_type": "markdown",
   "id": "f0f91e0e",
   "metadata": {
    "slideshow": {
     "slide_type": "-"
    }
   },
   "source": [
    "- In particular, it preserves the <i>norm</i> of any vector.\n",
    "<br>\n",
    "\n",
    "- Therefore, it preserves the *distance* between two vectors, $d(\\ket{v}, \\ket{w}) = \\| \\ket{v} - \\ket{w} \\|$.\n"
   ]
  },
  {
   "cell_type": "markdown",
   "id": "e7ad601f",
   "metadata": {
    "slideshow": {
     "slide_type": "slide"
    }
   },
   "source": [
    "-  **Composition** of unitary operators **is** unitary\n",
    "\n",
    "$$\n",
    "(UV)^\\dagger = V^\\dagger U^\\dagger = V^{-1} U^{-1} = (UV)^{-1}\n",
    "$$\n"
   ]
  },
  {
   "cell_type": "markdown",
   "id": "90784b97",
   "metadata": {
    "slideshow": {
     "slide_type": "skip"
    }
   },
   "source": [
    "Mathematically, this means that unitary operators form a *group*.\n"
   ]
  },
  {
   "cell_type": "markdown",
   "id": "153c3a69",
   "metadata": {
    "slideshow": {
     "slide_type": "fragment"
    }
   },
   "source": [
    "<br>\n",
    "\n",
    "- **Linear combination** of unitary operators **is not** unitary\n",
    "<br>\n",
    "\n",
    "$$\n",
    "(a U + b V)^\\dagger = a^* U^\\dagger + b^* V^\\dagger = a^* U^{-1} + b^* V^{-1} \\neq (a U + b V)^{-1}\n",
    "$$\n"
   ]
  },
  {
   "cell_type": "markdown",
   "id": "a3776189",
   "metadata": {
    "slideshow": {
     "slide_type": "skip"
    }
   },
   "source": [
    "Mathematically, this means that unitary operators **do not form** a *vector subspace* of $\\Lin(\\Hil)$.\n"
   ]
  },
  {
   "cell_type": "markdown",
   "id": "edd5bb72",
   "metadata": {
    "slideshow": {
     "slide_type": "skip"
    }
   },
   "source": [
    "- Therefore, unitary operators <i>do not form</i> a vector subspace within $\\Lin(\\Hil)$.\n",
    "<br>\n",
    "<br>\n",
    "The mathematical structure they form is called a <i>group</i>: the unitary group $U(d)$ acts on the Hilbert space $\\Hil$ of dimension $d$.\n"
   ]
  },
  {
   "cell_type": "markdown",
   "id": "1170620e",
   "metadata": {
    "slideshow": {
     "slide_type": "skip"
    }
   },
   "source": [
    "- Nevertheless, they form a *manifold*: a continuous set that can be parameterized by a collection of parameters, called the *dimension of the manifold*.\n"
   ]
  },
  {
   "cell_type": "markdown",
   "id": "f38ce39e",
   "metadata": {
    "slideshow": {
     "slide_type": "skip"
    }
   },
   "source": [
    "- Since there is a one-to-one correspondence between an operator and a matrix (in a basis), that dimension will be equal to the *dimension of the set of unitary matrices*.\n",
    "\n"
   ]
  },
  {
   "cell_type": "markdown",
   "id": "00610b6f",
   "metadata": {
    "slideshow": {
     "slide_type": "skip"
    }
   },
   "source": [
    "<div class=\"alert alert-block alert-success\">\n",
    "<b>Exercise 1.3.4</b>\n",
    "<br>    \n",
    "\n",
    "Subtract from ${\\rm dim}_{\\bf R}(\\Lin(\\Hil)) = 2N^2$ the number of equations that restrict the matrix of a unitary operator, and thus find the (real) dimension of the group $U(N)$ of <i>unitary operators</i> of dimension $N$.\n",
    "</div>\n"
   ]
  },
  {
   "cell_type": "markdown",
   "id": "83c23568",
   "metadata": {
    "slideshow": {
     "slide_type": "skip"
    }
   },
   "source": [
    "### Orthonormal bases\n",
    "\n",
    "- As a particular case, applying a unitary operator $U$ to an orthonormal basis $\\{\\ket{e_i}\\}$ yields another orthonormal basis $\\{\\ket{\\tilde e_i}\\}$\n",
    "<br>\n",
    "\n",
    "$$\n",
    "\\left. \\begin{array}{c}\\ket{\\tilde e_i} = U\\ket{e_i}\\\\ U^{-1} =  U^\\dagger \\end{array} \\right\\}\n",
    "~~~~ \\Longleftrightarrow ~~~~\\braket{\\tilde e_i}{\\tilde e_j} = \\bra{\\tilde e_i}U^\\dagger U\\ket{\\tilde e_j} = \\braket{e_i}{e_j} = \\delta_{ij}\n",
    "$$\n",
    "\n",
    "<br>\n"
   ]
  },
  {
   "cell_type": "markdown",
   "id": "a4ced02b",
   "metadata": {
    "slideshow": {
     "slide_type": "skip"
    }
   },
   "source": [
    "Conversely, given two orthonormal bases, $\\{\\ket{e_i}\\}$ and $\\{\\ket{\\tilde e_i}\\}$, the operator relating them is a unitary operator\n",
    "\n",
    "$$ \n",
    " \\begin{array}{rcl} \n",
    "U = \\sum_i \\ketbra{\\tilde e_i}{e_i} & \\Rightarrow &  U\\ket{e_j} = \\ket{\\tilde e_j} \n",
    " \\\\ \\rule{0mm}{10mm}\n",
    "U^\\dagger = \\sum_i \\ketbra{e_i}{\\tilde e_i}  & \\Rightarrow &    U^\\dagger\\ket{\\tilde e_j} = \\ket{e_j} ~~~\\Rightarrow ~~~U^\\dagger = U^{-1}\n",
    " \\end{array}\n",
    "$$\n"
   ]
  },
  {
   "cell_type": "markdown",
   "id": "af7322a4",
   "metadata": {
    "slideshow": {
     "slide_type": "skip"
    }
   },
   "source": [
    "- An <i>orthogonal operator</i> is a particular case of a unitary operator with *real matrix elements*. The rotation operator $R(\\theta)$ that we studied at the beginning of this topic is an orthogonal operator. It is straightforward to verify that\n",
    "\n",
    "$$\n",
    "R(\\theta)^\\dagger = R(\\theta)^t = R(-\\theta) = R(\\theta)^{-1}\n",
    "$$\n"
   ]
  },
  {
   "cell_type": "code",
   "execution_count": 2,
   "id": "dabedb88",
   "metadata": {
    "slideshow": {
     "slide_type": "skip"
    }
   },
   "outputs": [
    {
     "data": {
      "text/latex": [
       "$$\n",
       "\n",
       "\\begin{bmatrix}\n",
       "\\frac{\\sqrt{2}}{2} & \\frac{\\sqrt{2} i}{2}  \\\\\n",
       " \\frac{\\sqrt{2} i}{2} & \\frac{\\sqrt{2}}{2}  \\\\\n",
       " \\end{bmatrix}\n",
       "$$"
      ],
      "text/plain": [
       "<IPython.core.display.Latex object>"
      ]
     },
     "execution_count": 2,
     "metadata": {},
     "output_type": "execute_result"
    }
   ],
   "source": [
    "U=np.matrix([[1,1J],[1J, + 1]])/np.sqrt(2)\n",
    "array_to_latex(U)"
   ]
  },
  {
   "cell_type": "code",
   "execution_count": 5,
   "id": "38cc621f",
   "metadata": {
    "slideshow": {
     "slide_type": "skip"
    }
   },
   "outputs": [
    {
     "data": {
      "text/latex": [
       "$$\n",
       "\n",
       "\\begin{bmatrix}\n",
       "\\frac{\\sqrt{2}}{2} & - \\frac{\\sqrt{2} i}{2}  \\\\\n",
       " - \\frac{\\sqrt{2} i}{2} & \\frac{\\sqrt{2}}{2}  \\\\\n",
       " \\end{bmatrix}\n",
       "$$"
      ],
      "text/plain": [
       "<IPython.core.display.Latex object>"
      ]
     },
     "execution_count": 5,
     "metadata": {},
     "output_type": "execute_result"
    }
   ],
   "source": [
    "Uadj=U.getH() # getH es un método de la clase matrix que devuelve la matriz conjugada hermítica\n",
    "array_to_latex(Uadj)"
   ]
  },
  {
   "cell_type": "code",
   "execution_count": 6,
   "id": "d4b71087",
   "metadata": {
    "slideshow": {
     "slide_type": "skip"
    }
   },
   "outputs": [
    {
     "name": "stdout",
     "output_type": "stream",
     "text": [
      "check that U is unitary\n"
     ]
    },
    {
     "data": {
      "text/latex": [
       "$$\n",
       "\n",
       "\\begin{bmatrix}\n",
       "1 & 0  \\\\\n",
       " 0 & 1  \\\\\n",
       " \\end{bmatrix}\n",
       "$$"
      ],
      "text/plain": [
       "<IPython.core.display.Latex object>"
      ]
     },
     "execution_count": 6,
     "metadata": {},
     "output_type": "execute_result"
    }
   ],
   "source": [
    "print('check that U is unitary')\n",
    "\n",
    "array_to_latex(np.dot(Uadj,U))"
   ]
  },
  {
   "cell_type": "markdown",
   "id": "559f451c",
   "metadata": {
    "slideshow": {
     "slide_type": "slide"
    }
   },
   "source": [
    "<a id='opnormal'></a>\n",
    "## Normal Operator\n",
    "    \n",
    "<div class=\"alert alert-block alert-info\" text-align=\"center\">\n",
    "<p style=\"text-align: left; color: navy;\">  \n",
    "    <b>Definition:</b> An operator $N$ is <i>normal</i> if it commutes with its adjoint\n",
    "<br>\n",
    "<br>    \n",
    "$$\n",
    "N N^\\dagger = N^\\dagger N\n",
    "$$  \n",
    "</div>\n"
   ]
  },
  {
   "cell_type": "markdown",
   "id": "61636833",
   "metadata": {
    "slideshow": {
     "slide_type": "slide"
    }
   },
   "source": [
    "The matrix $N_{ij}$ has an important property."
   ]
  },
  {
   "cell_type": "markdown",
   "id": "353787a9",
   "metadata": {
    "slideshow": {
     "slide_type": "-"
    }
   },
   "source": [
    "<div class=\"alert alert-block alert-info\" text-align=\"center\">\n",
    "<p style=\"text-align: left; color: navy;\">  \n",
    "<b>Theorem:</b> \n",
    "<br>\n",
    "<br>    \n",
    "$N_{ij}$ is the matrix of a normal operator, $[N, N^\\dagger] = 0$, if and only if it is <i>unitarily equivalent</i> to a diagonal matrix.\n",
    "<br>    \n",
    "<br>    \n",
    "That is, if there exists $U$ with $U^{-1} = U^\\dagger$ such that\n",
    "<br>\n",
    "<br>\n",
    "$$\n",
    "N'_{ij} = (U^{\\dagger} N \\, U)_{ij} = \n",
    "\\begin{bmatrix} \\lambda_1 &  & &  \\\\ & \\lambda_2 & &  \\\\ & & \\ddots &  \\\\ & & & \\lambda_D \\end{bmatrix}\n",
    "$$\n",
    "</p>\n",
    "</div>\n"
   ]
  },
  {
   "cell_type": "markdown",
   "id": "8f734a41",
   "metadata": {
    "slideshow": {
     "slide_type": "slide"
    }
   },
   "source": [
    "<a id='ophermit'></a>\n",
    "## Hermitian Operator\n",
    "\n",
    "<div class=\"alert alert-block alert-info\" text-align=\"center\">\n",
    "<p style=\"text-align: center;\"> <p style=\"text-align: left ;color: navy;\">  \n",
    "<b>Definition:</b> An operator $H$ is <i>Hermitian</i> (or <i>self-adjoint</i>) if it satisfies the following equation \n",
    "<br>\n",
    "<br>    \n",
    "$$\n",
    "H = H^\\dagger \n",
    "$$   \n",
    "</p>\n",
    "</div>\n"
   ]
  },
  {
   "cell_type": "markdown",
   "id": "05bdeae6",
   "metadata": {
    "slideshow": {
     "slide_type": "skip"
    }
   },
   "source": [
    "\n",
    "Obviously, a Hermitian operator $~\\Rightarrow$ is a normal operator, but the converse does not necessarily hold."
   ]
  },
  {
   "cell_type": "markdown",
   "id": "2f981b69",
   "metadata": {
    "slideshow": {
     "slide_type": "slide"
    }
   },
   "source": [
    "- **Linear combination** of *Hermitian* operators with **real** coefficients **is** Hermitian  \n",
    "<br>\n",
    "<br>\n",
    "$$\n",
    "C^\\dagger = (a A + b B)^\\dagger = a^* A^\\dagger + b^* B^\\dagger = aA + b B = C\n",
    "$$"
   ]
  },
  {
   "cell_type": "markdown",
   "id": "56b8b6d9",
   "metadata": {
    "slideshow": {
     "slide_type": "skip"
    }
   },
   "source": [
    "\n",
    "Mathematically: the self-adjoint operators form a real vector subspace $\\mathrm{Her}(\\Hil) \\subset \\Lin(\\Hil)$.\n"
   ]
  },
  {
   "cell_type": "markdown",
   "id": "020cef96",
   "metadata": {
    "slideshow": {
     "slide_type": "fragment"
    }
   },
   "source": [
    "- **Composition** of Hermitian operators is generally **not** Hermitian  \n",
    "<br>\n",
    "<br>\n",
    "$$\n",
    "(AB)^\\dagger = B^\\dagger A^\\dagger = BA \\neq AB\n",
    "$$"
   ]
  },
  {
   "cell_type": "markdown",
   "id": "ea916127",
   "metadata": {
    "slideshow": {
     "slide_type": "skip"
    }
   },
   "source": [
    "Mathematically, they do not form a group unless $A$ and $B$ commute with each other, in which case they form an *Abelian group*.\n"
   ]
  },
  {
   "cell_type": "markdown",
   "id": "23c774d8",
   "metadata": {
    "slideshow": {
     "slide_type": "skip"
    }
   },
   "source": [
    "- The matrix associated with a Hermitian operator is also called Hermitian, and it equals its conjugate transpose.\n",
    "<br>\n",
    "\n",
    "$$\n",
    "A_{ij} = A^\\dagger_{ij} \\equiv  A^{*t}_{ij} = A^*_{ji}   \\hspace{4cm}\n",
    "$$\n",
    "\n"
   ]
  },
  {
   "cell_type": "markdown",
   "id": "44b578f6",
   "metadata": {
    "slideshow": {
     "slide_type": "skip"
    }
   },
   "source": [
    "<div class=\"alert alert-block alert-danger\">\n",
    "    <b>Note:</b>\n",
    "<br>\n",
    "From any operator $C \\neq C^\\dagger$, we can always construct a Hermitian operator $H = H^\\dagger$ by the linear combination\n",
    "<br>    \n",
    "\n",
    "$$\n",
    "H = C + C^\\dagger\n",
    "$$\n",
    "<br>\n",
    "where $a$ is a real number. This trivially extends to the matrices representing them in any basis\n",
    "    \n",
    "<br> \n",
    "$$\n",
    "H_{ij} = C_{ij} + C_{ji}^*\n",
    "$$ \n",
    "   \n",
    "</div>\n"
   ]
  },
  {
   "cell_type": "markdown",
   "id": "16519f99",
   "metadata": {
    "slideshow": {
     "slide_type": "skip"
    }
   },
   "source": [
    "<div class=\"alert alert-block alert-success\">\n",
    "<b>Exercise 1.3.5</b>\n",
    "<br>    \n",
    "    \n",
    "Subtract from ${\\rm dim}_{\\bf R}({\\rm L}(\\Hil)) =  2N^2$ the number of equations that constrain the matrix of a Hermitian operator and thus find the (real) dimension of the <i>vector subspace of Hermitian operators</i>. \n",
    "</div>\n"
   ]
  },
  {
   "cell_type": "markdown",
   "id": "c577c2c4",
   "metadata": {
    "slideshow": {
     "slide_type": "skip"
    }
   },
   "source": [
    "If you have done the last two exercises, you will have found the same answer in both. This means there could be a relationship between Hermitian and unitary matrices.\n"
   ]
  },
  {
   "cell_type": "markdown",
   "id": "0486c3e0",
   "metadata": {
    "slideshow": {
     "slide_type": "slide"
    }
   },
   "source": [
    "<a id = 'semipos_op'></a>\n",
    "## Positive Semidefinite Operator\n",
    "\n",
    "<div class=\"alert alert-block alert-info\" style=\"text-align:center\">\n",
    "<p style=\"text-align: left ;color: navy;\">  \n",
    "<b>Definition:</b> $~$ we say that an operator $A$ is <i>positive semidefinite</i> (or <i>non-negative</i>) if it satisfies\n",
    "<br>\n",
    "<br>    \n",
    "$$\n",
    "\\bra{u} A \\ket{u} \\geq 0 \n",
    "$$   \n",
    "for all $\\ket{u} \\in \\Hil$. \n",
    "</p>\n",
    "</div>\n",
    "\n",
    "In this case, we write $A \\geq 0$. \n",
    "\n"
   ]
  },
  {
   "cell_type": "markdown",
   "id": "412727d4",
   "metadata": {
    "slideshow": {
     "slide_type": "skip"
    }
   },
   "source": [
    "If the inequality is strict, $\\bra{u} A \\ket{u} > 0$ for all $\\ket{u}$, then $A$ is called a *positive operator*, denoted $A > 0$.\n"
   ]
  },
  {
   "cell_type": "markdown",
   "id": "e24f7415",
   "metadata": {
    "slideshow": {
     "slide_type": "skip"
    }
   },
   "source": [
    "The following theorem is the equivalent of the fact that a real number $a \\in \\mathbb{R}$ has a square root if and only if it is non-negative.\n",
    "\n",
    "<div class=\"alert alert-block alert-info\" style=\"text-align:center\">\n",
    "<p style=\"text-align: left ;color: navy;\">  \n",
    "<b>Theorem:</b> A Hermitian operator $A$ is <i>positive semidefinite</i> if and only if there exists another operator $B$ such that\n",
    "<br>\n",
    "<br>\n",
    "$$   \n",
    "A = B^\\dagger B\n",
    "$$   \n",
    "for all $\\ket{u} \\in \\Hil$.\n",
    "</p>\n",
    "</div>\n"
   ]
  },
  {
   "cell_type": "markdown",
   "id": "2e551e8e",
   "metadata": {
    "slideshow": {
     "slide_type": "slide"
    }
   },
   "source": [
    "<a id='opproyec'></a>\n",
    "## Projectors\n",
    "\n",
    "[<<<](#top)"
   ]
  },
  {
   "cell_type": "markdown",
   "id": "98c497dd",
   "metadata": {
    "slideshow": {
     "slide_type": "-"
    }
   },
   "source": [
    "<div class=\"alert alert-block alert-info\" style=\"text-align:center\">\n",
    " <p style=\"text-align: left ;color: navy;\">  \n",
    "<b>Definition:</b>  \n",
    "A <i>projector</i> is a Hermitian operator that satisfies the equation\n",
    "<br><br>\n",
    "$$\n",
    "P^2 = P\n",
    "$$\n",
    "</div>\n",
    " \n",
    "\n"
   ]
  },
  {
   "cell_type": "markdown",
   "id": "3453f27e",
   "metadata": {
    "slideshow": {
     "slide_type": "slide"
    }
   },
   "source": [
    "- The operator $P = \\ketbra{u}{u}$ fulfills \n",
    "\n",
    "it is Hermitian\n",
    "\n",
    "$$\n",
    "P^\\dagger = \\ketbra{u}{u} = P\n",
    "$$\n",
    "<br>\n"
   ]
  },
  {
   "cell_type": "markdown",
   "id": "be46456c",
   "metadata": {
    "slideshow": {
     "slide_type": "fragment"
    }
   },
   "source": [
    "\n",
    "- it is idempotent\n",
    "\n",
    "$$\n",
    "P^2 = \\ket{u}\\braket{u}{u}\\bra{u} = \\ketbra{u}{u} = P\n",
    "$$\n",
    "<br>\n",
    "\n"
   ]
  },
  {
   "cell_type": "markdown",
   "id": "b987d644",
   "metadata": {
    "slideshow": {
     "slide_type": "fragment"
    }
   },
   "source": [
    "\n",
    "- It indeed projects **any vector** onto the direction of $\\ket{u}$\n",
    "\n",
    "$$\n",
    "P \\ket{w} = \\ket{u}\\braket{u}{w} = a \\ket{u}\n",
    "$$\n",
    "<br>\n",
    "\n",
    "\n",
    "where the complex number $a = \\braket{u}{w}$ is the **projection**\n"
   ]
  },
  {
   "cell_type": "markdown",
   "id": "a2f50493",
   "metadata": {
    "slideshow": {
     "slide_type": "skip"
    }
   },
   "source": [
    "<div class=\"alert alert-block alert-danger\">\n",
    "\n",
    "<b>Note:</b>\n",
    "    \n",
    "-   The projection is <b>non-invertible</b>\n",
    "<br>\n",
    "    \n",
    "- The projector is a <b>non-unitary</b> operator: in general it <i>reduces</i> the norm \n",
    "<br>\n",
    "$$\n",
    "\\| P\\ket{w}\\|^2 = \\bra{w}P^\\dagger P\\ket{w} = \\bra{w} P\\ket{w}= \\braket{w}{u}\\braket{u}{w} = |\\braket{u}{w}|^2 < \\|\\ket{u}\\|\\|\\ket{w}\\| = 1  \n",
    "$$\n",
    "<br>    \n",
    "where we have applied the <i>Cauchy-Schwarz inequality</i>, which is strict if we assume $\\ket{u} \\neq \\ket{w}$.\n",
    "</div>\n"
   ]
  },
  {
   "cell_type": "markdown",
   "id": "abe1ce32",
   "metadata": {
    "slideshow": {
     "slide_type": "slide"
    }
   },
   "source": [
    "<div class=\"alert alert-block alert-warning\">\n",
    "\n",
    "- ### Matrix associated to a projector\n",
    "\n",
    "\n",
    "If $\\ket{u} = \\ket{e_1}$, the operator $P_1 = \\ket{e_1}\\bra{e_1}$ projects any vector onto its component along $\\ket{e_1}$.    \n",
    "<br>\n",
    "    \n",
    "In matrix form\n",
    " $$\n",
    " \\ket{e_1}\\bra{e_1} = \\begin{pmatrix} 1 & 0 & ...& 0 \\end{pmatrix} \\begin{pmatrix} 1 \\\\ 0 \\\\ \\vdots\\\\ 0 \\end{pmatrix} =\n",
    " \\begin{pmatrix} 1 & 0 &  \\cdots & 0 \\\\ 0 & 0  & \\cdots & 0 \\\\ \n",
    " \\vdots & \\vdots &\\vdots & \\vdots  \\\\\n",
    " 0  & 0 & \\cdots & 0\\end{pmatrix}\n",
    " $$\n",
    "so that\n",
    "$$\n",
    "    \\ket{e_1}\\braket{e_1}{u} ~= ~\\begin{pmatrix} 1 & 0 &  \\cdots & 0 \\\\ 0 & 0  & \\cdots & 0 \\\\ \n",
    " \\vdots & \\vdots &\\vdots & \\vdots  \\\\\n",
    " 0  & 0 & \\cdots & 0\\end{pmatrix} \\begin{pmatrix} u_1 \\\\ u_2 \\\\ \\vdots \\\\ u_N \\end{pmatrix}\n",
    " = \\begin{pmatrix} u^1 \\\\ 0 \\\\ \\vdots \\\\ 0 \\end{pmatrix} = u^1 \\ket{e_1}\n",
    "$$\n",
    "    \n",
    "</div>\n"
   ]
  },
  {
   "cell_type": "markdown",
   "id": "79df25ce",
   "metadata": {
    "slideshow": {
     "slide_type": "skip"
    }
   },
   "source": [
    "<div class=\"alert alert-block alert-warning\">\n",
    "    \n",
    "If $\\ket{u} = \\sum_i u^i\\ket{e_i}$ is a unit vector with $\\|\\ket{u}\\|=1$, then the projector along $\\ket{u}$ is given by\n",
    "<br>\n",
    "<br>\n",
    "$$\n",
    "P(u) = \\ketbra{u}{u} = \\sum_{i,j} u_i u^*_j \\ketbra{e_i}{e_j}\n",
    "$$\n",
    "<br>\n",
    "That is, it is associated with a matrix given by $P_{ij} = u_i u^*_j$. It is straightforward to verify that\n",
    "<br>\n",
    "<br>\n",
    "$$\n",
    "P^2_{ik} = \\sum_j P_{ij} P_{jk} = \\sum_j u_i u^*_j u_j u^*_k = u_i \\left(\\sum_j u^*_j u_j \\right) u_k^* = u_i u_k^* = P_{ik}\n",
    "$$\n",
    "<br>\n",
    "as corresponds to a projector.\n",
    "    \n",
    "</div>\n"
   ]
  },
  {
   "cell_type": "markdown",
   "id": "ed88740c",
   "metadata": {
    "slideshow": {
     "slide_type": "skip"
    }
   },
   "source": [
    " ### Orthogonal projectors \n"
   ]
  },
  {
   "cell_type": "markdown",
   "id": "930714f2",
   "metadata": {
    "slideshow": {
     "slide_type": "skip"
    }
   },
   "source": [
    "- $P_1$ and $P_2$ are orthogonal projectors if they satisfy\n",
    "\n",
    "$$\n",
    "P_1^2 = P_1~~~~~~P_2^2 = P_2 ~~~~~~~P_1 P_2 = P_2 P_1 =  0\n",
    "$$\n",
    "<br>"
   ]
  },
  {
   "cell_type": "markdown",
   "id": "68ef018b",
   "metadata": {
    "slideshow": {
     "slide_type": "skip"
    }
   },
   "source": [
    "- if $P_1$ and $P_2$ are orthogonal projectors, $P = P_1 + P_2$ is also a projector\n",
    "\n",
    "$$\n",
    "P^2 = (P_1 + P_2) (P_1 + P_2) = P_1^2 + P_1 P_2 + P_2 P_1 + P_2^2 = P_1 + P_2 = P\n",
    "$$\n",
    "<br>\n"
   ]
  },
  {
   "cell_type": "markdown",
   "id": "5dcfc4a8",
   "metadata": {
    "slideshow": {
     "slide_type": "skip"
    }
   },
   "source": [
    "\n",
    "- A particularly important case of orthogonal proyectors is $P_1 = P$ and $P_2 = P_\\perp = I - P$. \n",
    "\n",
    "<details>\n",
    "<summary><p style=\"text-align:left\"> >> <i>Proof</i> </p></summary>\n",
    "\n",
    "\n",
    "indeed $P_\\perp$ is a projector\n",
    "\n",
    "$$~~ P_\\perp^2 = (I - P)(I-P) = I^2 - P - P + P^2 = I- P = P_\\perp $$\n",
    "\n",
    "and it is perpendicular to $P$\n",
    "\n",
    "\\begin{eqnarray}\n",
    "P_\\perp P &=& (I - P) P = P - P^2 = P - P =  0 \n",
    "\\end{eqnarray}\n",
    "\n",
    "</details>"
   ]
  },
  {
   "cell_type": "markdown",
   "id": "771ec373",
   "metadata": {
    "slideshow": {
     "slide_type": "skip"
    }
   },
   "source": [
    "Given a vector $\\ket{u}$, we can decompose any other vector $\\ket{\\psi}$ into its parallel and perpendicular projections\n",
    "\n",
    "$$\n",
    "\\ket{\\psi} = ( P + P_\\perp) \\ket{\\psi} = a \\ket{u} + b \\ket{u_\\perp} \n",
    "$$\n",
    "\n",
    "where $a = \\braket{u}{\\psi}$ and  $b = \\braket{u_\\perp}{\\psi}$\n"
   ]
  },
  {
   "cell_type": "markdown",
   "id": "37b14f31",
   "metadata": {
    "slideshow": {
     "slide_type": "skip"
    }
   },
   "source": [
    "The equation $\\ket{\\psi} = a \\ket{u} + b\\ket{u_\\perp}$ means that the three vectors lie in the same hyperplane.\n",
    "<br>\n",
    "\n",
    "<figure>\n",
    "<a id='fig_ref'></a>\n",
    "<center><img src=\"figuras/Projectors.png\" align=center width='40%'/></center>\n",
    "<center></center>\n",
    "</figure>\n"
   ]
  },
  {
   "cell_type": "code",
   "execution_count": 3,
   "id": "ca29b1e4",
   "metadata": {
    "slideshow": {
     "slide_type": "skip"
    }
   },
   "outputs": [
    {
     "data": {
      "text/latex": [
       "$$\n",
       "\n",
       "\\begin{bmatrix}\n",
       "-0.6097923742 - 0.454015077 i  \\\\\n",
       " 0.1887022679 - 0.2144934205 i  \\\\\n",
       " -0.4145697439 + 0.4105356555 i  \\\\\n",
       " \\end{bmatrix}\n",
       "$$"
      ],
      "text/plain": [
       "<IPython.core.display.Latex object>"
      ]
     },
     "metadata": {},
     "output_type": "display_data"
    },
    {
     "data": {
      "text/latex": [
       "$$\n",
       "\n",
       "\\begin{bmatrix}\n",
       "0.5779764297 & -0.0176859571 - 0.2164701268 i & 0.0664120911 + 0.4385624262 i  \\\\\n",
       " -0.0176859571 + 0.2164701268 i & 0.0816159733 & -0.1662874478 + 0.0114534731 i  \\\\\n",
       " 0.0664120911 - 0.4385624262 i & -0.1662874478 - 0.0114534731 i & 0.3404075969  \\\\\n",
       " \\end{bmatrix}\n",
       "$$"
      ],
      "text/plain": [
       "<IPython.core.display.Latex object>"
      ]
     },
     "metadata": {},
     "output_type": "display_data"
    },
    {
     "data": {
      "text/latex": [
       "$$\n",
       "\n",
       "\\begin{bmatrix}\n",
       "0.4220235703 & 0.0176859571 + 0.2164701268 i & -0.0664120911 - 0.4385624262 i  \\\\\n",
       " 0.0176859571 - 0.2164701268 i & 0.9183840267 & 0.1662874478 - 0.0114534731 i  \\\\\n",
       " -0.0664120911 + 0.4385624262 i & 0.1662874478 + 0.0114534731 i & 0.6595924031  \\\\\n",
       " \\end{bmatrix}\n",
       "$$"
      ],
      "text/plain": [
       "<IPython.core.display.Latex object>"
      ]
     },
     "metadata": {},
     "output_type": "display_data"
    }
   ],
   "source": [
    "d = 3\n",
    "\n",
    "' generate a random vector'\n",
    "u = tQ.random_ket(d)\n",
    "display(array_to_latex(u))\n",
    "\n",
    "' build the parallel and perpendicular projectors'\n",
    "P_par = tQ.ket_bra(u,u);\n",
    "P_perp = np.identity(d) - P_par\n",
    "\n",
    "display(array_to_latex(P_par))\n",
    "display(array_to_latex(P_perp))"
   ]
  },
  {
   "cell_type": "code",
   "execution_count": 7,
   "id": "135c6cff",
   "metadata": {
    "slideshow": {
     "slide_type": "skip"
    }
   },
   "outputs": [
    {
     "data": {
      "text/latex": [
       "$$\n",
       "\n",
       "\\begin{bmatrix}\n",
       "0 & 0 & 0  \\\\\n",
       " 0 & 0 & 0  \\\\\n",
       " 0 & 0 & 0  \\\\\n",
       " \\end{bmatrix}\n",
       "$$"
      ],
      "text/plain": [
       "<IPython.core.display.Latex object>"
      ]
     },
     "metadata": {},
     "output_type": "display_data"
    },
    {
     "name": "stdout",
     "output_type": "stream",
     "text": [
      "0j\n"
     ]
    }
   ],
   "source": [
    "\n",
    "' check properties P^2 = P, and orthogonality '\n",
    "A = P_par@P_par - P_par\n",
    "B = P_perp@P_perp - P_perp\n",
    "C = P_par@P_perp\n",
    "\n",
    "display(array_to_latex(C))\n",
    "\n",
    "\n",
    "' obtain parallel and perpendicular components of another vector'\n",
    "v = tQ.random_ket(d)\n",
    "\n",
    "v_par = np.dot(P_par,v)\n",
    "v_perp = np.dot(P_perp,v)\n",
    "\n",
    "' check perpendicularity'\n",
    "print(np.round(tQ.braket(v_par,v_perp),4))"
   ]
  },
  {
   "cell_type": "markdown",
   "id": "0adc9ea3",
   "metadata": {
    "slideshow": {
     "slide_type": "skip"
    }
   },
   "source": [
    "<div class=\"alert alert-block alert-success\">\n",
    "<b> Exercise 1.3.6 </b>  (<i> reflector</i>)\n",
    "<br>\n",
    "    \n",
    "Given a unit vector \\(\\ket{u}\\), write down:\n",
    "\n",
    "- the operator \\(R_u^{\\perp}\\) that reflects the component perpendicular to \\(\\ket{u}\\) of any vector \\(\\ket{\\psi}\\)   \n",
    "<br>\n",
    "<br>\n",
    "- the operator \\(R_u^{\\|}\\) that reflects the component parallel to \\(\\ket{u}\\) of any vector \\(\\ket{\\psi}\\)  \n",
    "<br>  \n",
    "    \n",
    "</div>\n"
   ]
  },
  {
   "cell_type": "markdown",
   "id": "b90f397d",
   "metadata": {
    "slideshow": {
     "slide_type": "skip"
    }
   },
   "source": [
    "### Projectors onto a Subspace\n",
    "\n",
    "Consider an orthonormal basis $\\{\\ket{e_i}\\}, i=1,\\ldots,N$ of $\\Hil$, and divide it into two subsets\n",
    "<br>\n",
    "<br>\n",
    "\n",
    "$$\n",
    "\\{\\ket{e_i}\\}, \\quad i=1,\\ldots,N_1 \\quad,\\quad \\{\\ket{e_{j+N_1}} \\}, \\quad j=1,\\ldots,N_2\n",
    "$$\n",
    "\n",
    "<br>\n",
    "\n",
    "Any vector admits an orthogonal decomposition\n",
    "\n",
    "$$\n",
    "\\begin{eqnarray}\n",
    "\\ket{\\psi} &~=~& \\sum_{i=1}^N a_i \\ket{e_i} = \\sum_{i=1}^{N_1} a_i \\ket{e_i} + \\sum_{i=1}^{N_2} a_{i+N_1} \\ket{e_{i+N_1}} \\equiv \\ket{\\psi_1} + \\ket{\\psi_2} \\rule{0mm}{5mm}\n",
    "\\end{eqnarray}\n",
    "$$\n",
    "\n",
    "with $\\braket{\\psi_1}{\\psi_2} = 0$.\n"
   ]
  },
  {
   "cell_type": "markdown",
   "id": "1c631400",
   "metadata": {
    "slideshow": {
     "slide_type": "skip"
    }
   },
   "source": [
    "We say that the space $\\Hil $ decomposes into the *direct sum of orthogonal subspaces*\n",
    "\n",
    "$$\n",
    "\\Hil = \\Hil_1 \\oplus \\Hil_2\n",
    "$$\n",
    "\n",
    "of dimensions $N_1 + N_2 = N$,\n"
   ]
  },
  {
   "cell_type": "markdown",
   "id": "4fb9c5d0",
   "metadata": {
    "slideshow": {
     "slide_type": "skip"
    }
   },
   "source": [
    "The operators\n",
    "\n",
    "$$\n",
    "P_1 = \\sum_{i=1}^{N_1} \\ket{e_i}\\bra{e_i} \\quad, \\quad P_2 = \\sum_{i=1}^{N_2} \\ket{e_{i+N_1}}\\bra{e_{i+N_1}} = I - P_1\n",
    "$$\n",
    "\n",
    "are orthogonal projectors  projector\n",
    "\n",
    "$$\n",
    "P_1^2 = P_1 \\quad, \\quad P_2^2 = P_2   \\quad, \\quad P_1 P_2 = P_2 P_1 = 0\n",
    "$$\n"
   ]
  },
  {
   "cell_type": "markdown",
   "id": "cc2e2154",
   "metadata": {
    "slideshow": {
     "slide_type": "skip"
    }
   },
   "source": [
    "Their action extracts from a vector its component in the associated subspace.\n",
    "\n",
    "\n",
    "$$\n",
    "P_1 \\ket{\\psi} ~=~ \\sum_{i=1}^{N_1} \\ket{e_i}\\bra{e_i} \\left(\\sum_{k=1}^N a_k \\ket{u_k} \\right) ~=~\n",
    "\\sum_{i=1}^{N_1} a_i \\ket{e_i} ~=~ \\ket{\\psi_1}\n",
    "$$\n",
    "\n",
    "$$\n",
    "P_2 \\ket{\\psi} ~=~ \\sum_{i=1}^{N_2} \\ket{e_{i+N_1}}\\bra{e_{i+N_1}} \\left(\\sum_{k=1}^N a_k \\ket{u_k} \\right) ~=~\n",
    "\\sum_{i=1}^{N_1} a_{i+N_1} \\ket{e_{i+N_1}} ~=~ \\ket{\\psi_2}\n",
    "$$"
   ]
  },
  {
   "cell_type": "markdown",
   "id": "61c01988",
   "metadata": {
    "slideshow": {
     "slide_type": "skip"
    }
   },
   "source": [
    "<div class=\"alert alert-block alert-danger\">\n",
    "\n",
    "<b>Note:</b>\n",
    "\n",
    "$P_1 \\neq P_v = \\ketbra{v}{v}$ where $\\ket{v} = \\sum_i \\ket{i}$. This operator would project any vector onto the direction of $\\ket{v}$.\n",
    "    \n",
    "</div>    \n"
   ]
  },
  {
   "cell_type": "markdown",
   "id": "05f1f796",
   "metadata": {
    "slideshow": {
     "slide_type": "slide"
    }
   },
   "source": [
    "<a id='eigen'></a>\n",
    "# Eigenvalues and eigenvectors\n",
    "        \n",
    "[<<<](#top)"
   ]
  },
  {
   "cell_type": "markdown",
   "id": "afd750e0",
   "metadata": {
    "slideshow": {
     "slide_type": "-"
    }
   },
   "source": [
    "<div class=\"alert alert-block alert-info\" style=\"text-align:center\">\n",
    "<p style=\"text-align: left ;color: navy;\">  \n",
    "<b> Definition: </b><i> Eigenvalues and eigenvectors</i>\n",
    "<br>\n",
    "There exist vectors, $\\ket{\\lambda}$, for which the <i>action of an operator</i> $A$ returns a <i>parallel</i> vector \n",
    "<br><br>\n",
    "$$\n",
    "A\\ket{\\lambda} = \\lambda \\ket{\\lambda}\\, \n",
    "$$\n",
    "<br>    \n",
    "We say that $\\ket{\\lambda}$ is an eigenvector (or proper vector) of $A$ with associated eigenvalue (or proper value) $\\lambda \\in {\\mathbb C}$\n",
    "</p>\n",
    "</div>"
   ]
  },
  {
   "cell_type": "markdown",
   "id": "ecba41fb",
   "metadata": {
    "slideshow": {
     "slide_type": "skip"
    }
   },
   "source": [
    "Suppose that $A$ has $d$ eigenvectors $\\ket{\\lambda_j} = \\sum_i v_{ij}\\ket{e_i}, \\, j=1,\\ldots,d$.\n",
    "\n",
    "Let $U_{ij} = v_{ij}$ be the matrix formed by the components of the eigenvectors (stacked as columns).\n",
    "\n",
    "Then\n",
    "\n",
    "$$\n",
    "A_{diag} = \\begin{pmatrix} \\lambda_1 & & \\\\ & \\ddots & \\\\ & & \\lambda_d \\end{pmatrix} = U^{-1} A U\n",
    "$$"
   ]
  },
  {
   "cell_type": "markdown",
   "id": "1b242398",
   "metadata": {
    "slideshow": {
     "slide_type": "skip"
    }
   },
   "source": [
    "If $A$ is normal, the matrix $U$ that diagonalizes it is unitary, i.e., $U^{-1} = U^{\\dagger}$.\n"
   ]
  },
  {
   "cell_type": "code",
   "execution_count": 7,
   "id": "f85f67ad",
   "metadata": {
    "slideshow": {
     "slide_type": "skip"
    }
   },
   "outputs": [
    {
     "data": {
      "text/latex": [
       "$$\n",
       "\n",
       "\\begin{bmatrix}\n",
       "0.0362223694 & -0.147799331 + 0.6577739833 i  \\\\\n",
       " -0.147799331 - 0.6577739833 i & -0.0362223694  \\\\\n",
       " \\end{bmatrix}\n",
       "$$"
      ],
      "text/plain": [
       "<IPython.core.display.Latex object>"
      ]
     },
     "metadata": {},
     "output_type": "display_data"
    },
    {
     "name": "stdout",
     "output_type": "stream",
     "text": [
      "valprop = [0.34791292-0.50406172j 1.05867426+1.35722234j]\n"
     ]
    },
    {
     "data": {
      "text/latex": [
       "$$\n",
       "A|\\lambda_m \\rangle -\\lambda_m |\\lambda_m\\rangle =  \n",
       "\\begin{bmatrix}\n",
       "0  \\\\\n",
       " 0  \\\\\n",
       " \\end{bmatrix}\n",
       "$$"
      ],
      "text/plain": [
       "<IPython.core.display.Latex object>"
      ]
     },
     "metadata": {},
     "output_type": "display_data"
    },
    {
     "data": {
      "text/latex": [
       "$$\n",
       "\n",
       "\\begin{bmatrix}\n",
       "1.0088753185 & -0.0362142552 + 0.1611698425 i  \\\\\n",
       " -0.0362142552 - 0.1611698425 i & 0.9911246815  \\\\\n",
       " \\end{bmatrix}\n",
       "$$"
      ],
      "text/plain": [
       "<IPython.core.display.Latex object>"
      ]
     },
     "execution_count": 7,
     "metadata": {},
     "output_type": "execute_result"
    }
   ],
   "source": [
    "d = 2\n",
    "' en general una matriz no será normal '\n",
    "A = np.matrix(np.random.rand(d,d)+ np.random.rand(d,d) * 1j)\n",
    "display(array_to_latex(np.dot(A,A.getH()) - np.dot(A.getH(),A)))\n",
    "\n",
    "eigvals, eigvecs = np.linalg.eig(A)\n",
    "print('valprop =',eigvals)\n",
    "\n",
    "'verificamos que los autovectores son las columnas de v'\n",
    "m=1 #cambiar a otro valor\n",
    "display(array_to_latex(np.dot(A, eigvecs[:, m]) - eigvals[m] * eigvecs[:, m],prefix=r'A|\\lambda_m \\rangle -\\lambda_m |\\lambda_m\\rangle =  '))\n",
    "\n",
    "' diagonalizamos A '\n",
    "U = np.matrix(eigvecs);\n",
    "\n",
    "array_to_latex(np.dot(U.getI(),np.dot(A,U)),prefix='A_{diag} = U^{-1} A U = ')\n",
    "\n",
    "'U no es unitaria'\n",
    "array_to_latex(np.dot(U,U.getH()))"
   ]
  },
  {
   "cell_type": "code",
   "execution_count": 8,
   "id": "42fbdbaf",
   "metadata": {
    "slideshow": {
     "slide_type": "skip"
    }
   },
   "outputs": [
    {
     "data": {
      "text/latex": [
       "$$\n",
       "\n",
       "\\begin{bmatrix}\n",
       "0 & 0  \\\\\n",
       " 0 & 0  \\\\\n",
       " \\end{bmatrix}\n",
       "$$"
      ],
      "text/plain": [
       "<IPython.core.display.Latex object>"
      ]
     },
     "metadata": {},
     "output_type": "display_data"
    },
    {
     "name": "stdout",
     "output_type": "stream",
     "text": [
      "valprop = [1.+1.j 1.-1.j]\n"
     ]
    },
    {
     "data": {
      "text/latex": [
       "$$\n",
       "A|\\lambda_m \\rangle -\\lambda_m |\\lambda_m\\rangle =  \n",
       "\\begin{bmatrix}\n",
       "0  \\\\\n",
       " 0  \\\\\n",
       " \\end{bmatrix}\n",
       "$$"
      ],
      "text/plain": [
       "<IPython.core.display.Latex object>"
      ]
     },
     "metadata": {},
     "output_type": "display_data"
    },
    {
     "data": {
      "text/latex": [
       "$$\n",
       "\n",
       "\\begin{bmatrix}\n",
       "1 & 0  \\\\\n",
       " 0 & 1  \\\\\n",
       " \\end{bmatrix}\n",
       "$$"
      ],
      "text/plain": [
       "<IPython.core.display.Latex object>"
      ]
     },
     "execution_count": 8,
     "metadata": {},
     "output_type": "execute_result"
    }
   ],
   "source": [
    "d = 2\n",
    "'veamos ahora una matriz normal'\n",
    "A = np.matrix([[1, -1], [1, 1]])\n",
    "display(array_to_latex(np.dot(A,A.getH()) - np.dot(A.getH(),A)))\n",
    "\n",
    "\n",
    "eigvals, eigvecs = np.linalg.eig(A)\n",
    "print('valprop =',eigvals)\n",
    "\n",
    "'verificamos que los autovectores son las columnas de v'\n",
    "m=1 #cambiar a otro valor\n",
    "display(array_to_latex(np.dot(A, eigvecs[:, m]) - eigvals[m] * eigvecs[:, m],prefix=r'A|\\lambda_m \\rangle -\\lambda_m |\\lambda_m\\rangle =  '))\n",
    "\n",
    "' diagonalizamos A '\n",
    "U = np.matrix(eigvecs);\n",
    "\n",
    "array_to_latex(np.dot(U.getH(),np.dot(A,U)),prefix='A_{diag} = U^{\\dagger} A U = ')\n",
    "\n",
    "'U es unitaria'\n",
    "array_to_latex(np.dot(U,U.getH()))"
   ]
  },
  {
   "cell_type": "markdown",
   "id": "4983453a",
   "metadata": {
    "slideshow": {
     "slide_type": "skip"
    }
   },
   "source": [
    "<a id='subesprop'></a>\n",
    "## Eigenspaces\n",
    "\n",
    "[<<<](#top)\n",
    "\n"
   ]
  },
  {
   "cell_type": "markdown",
   "id": "145b17c9",
   "metadata": {
    "slideshow": {
     "slide_type": "skip"
    }
   },
   "source": [
    "We say that an eigenvalue $\\lambda_k$ is $d_k$-fold *degenerate* if there exist $d_k$ linearly independent eigenvectors, $\\ket{\\lambda_k^{a}}$ with $a=1,...,d_k$, associated to the **same** eigenvalue\n",
    "<br>\n",
    "<br>\n",
    "$$\n",
    "A\\ket{\\lambda_k^a} = \\lambda_k \\ket{\\lambda_k^a}\n",
    "$$ \n",
    "<br>\n",
    "These eigenvectors generate an *eigenspace* $S(\\lambda_k) \\subset \\Hil$.\n"
   ]
  },
  {
   "cell_type": "markdown",
   "id": "6f51839c",
   "metadata": {
    "slideshow": {
     "slide_type": "skip"
    }
   },
   "source": [
    "For example, let $\\ket{u} = \\sum_{a=1}^{d_k} c_a \\ket{\\lambda^a_k}$ be a linear combination of these eigenvectors, then\n",
    "<br>\n",
    "<br>\n",
    "\\begin{eqnarray}\n",
    "A \\ket{u} \n",
    "=  \\sum_{a=1}^{d_k} c_a A\\ket{\\lambda^a_k}  =  \\sum_{a=1}^{d_k} c_a \\lambda_k \\ket{\\lambda^a_k}  =   \\lambda_k \\sum_{a=1}^{d_k} c_a \\ket{\\lambda^a_k}  = \\lambda_k \\ket{u}\n",
    "\\end{eqnarray}\n",
    "<br>\n",
    "Therefore, $\\ket{u} \\in S(\\lambda_k)$.\n"
   ]
  },
  {
   "cell_type": "markdown",
   "id": "1f5a7a49",
   "metadata": {
    "slideshow": {
     "slide_type": "skip"
    }
   },
   "source": [
    "- The Gram-Schmidt theorem guarantees that we can choose (through an appropriate change) the set $\\{\\ket{\\lambda_{k}^a}\\} \\in (\\lambda_k), a=1,\\ldots,d_k$ so that it forms an <i>orthonormal basis</i>\n",
    "\n",
    "$$\n",
    "\\braket{\\lambda_{k}^a}{\\lambda_{k}^b} = \\delta_{ab}\n",
    "$$\n"
   ]
  },
  {
   "cell_type": "markdown",
   "id": "9657d815",
   "metadata": {
    "slideshow": {
     "slide_type": "skip"
    }
   },
   "source": [
    "- The **orthogonal projector** onto the eigenspace $S(\\lambda_k)$ is\n",
    "\n",
    "$$\n",
    "P_k = \\sum_{a=1}^{d_k} \\ketbra{\\lambda_{k}^a}{\\lambda_{k}^a}\n",
    "$$"
   ]
  },
  {
   "cell_type": "markdown",
   "id": "52c86998",
   "metadata": {
    "slideshow": {
     "slide_type": "skip"
    }
   },
   "source": [
    "<div class=\"alert alert-block alert-warning\">\n",
    "    <b>Example:</b>\n",
    "    \n",
    "- Let us denote by $R_z(\\theta)$ the operator that performs a rotation in the $(x,y)$ plane by an angle $\\theta$. When $\\theta = \\pi$ we have the following action on the three elements $\\{\\hat{\\bf x}, \\hat{\\bf y}, \\hat{\\bf z}\\}$ of the Cartesian basis:\n",
    "<br>    \n",
    "\\begin{eqnarray}\n",
    "R_z(\\pi)\\hat{\\bf x} &=& -\\hat{\\bf x}  \\\\ \\rule{0mm}{6mm}\n",
    "R_z(\\pi)\\hat{\\bf y} &=& -\\hat{\\bf y}  \\\\ \\rule{0mm}{6mm}\n",
    "R_z(\\pi)\\hat{\\bf z} &=& + \\hat{\\bf z}  \n",
    "\\end{eqnarray}    \n",
    "<br>    \n",
    "- We see that there is an eigenvector $\\hat{\\bf z}$ with eigenvalue $+1$ and two eigenvectors $\\hat{\\bf x}$ and $\\hat{\\bf y}$ with eigenvalue $-1$. \n",
    "<br>\n",
    "<br>\n",
    "- The space ${\\mathbb R}^3$ splits into two eigenspaces of $R_z(\\pi)$: one of dimension 1 (along the $\\hat{\\bf z}$ axis) and another of dimension 2 (in the $(\\hat{\\bf x}, \\hat{\\bf y})$ plane).\n",
    "<br>\n",
    "<br>    \n",
    "- The associated projectors are\n",
    "    \n",
    "$$\n",
    "P_{\\hat{\\bf z}}= \\ket{\\hat{\\bf z}}\\bra{\\hat{\\bf z}}=\\begin{bmatrix} 0 & & \\\\ & 0 & \\\\ & & 1 \\end{bmatrix}~~~,~~~\n",
    "P_{\\hat{\\bf x}\\hat{\\bf y}}= \\ket{\\hat{\\bf x}}\\bra{\\hat{\\bf x}}+\\ket{\\hat{\\bf y}}\\bra{\\hat{\\bf y}}=\\begin{bmatrix} 1 & & \\\\ & 1 & \\\\ & & 0 \\end{bmatrix}~~~,~~~\n",
    "$$\n",
    "    \n",
    "</div>\n"
   ]
  },
  {
   "cell_type": "markdown",
   "id": "13dddeb5",
   "metadata": {
    "slideshow": {
     "slide_type": "skip"
    }
   },
   "source": [
    "<a id='especopnormal'></a>\n",
    "\n",
    "## Operators' spectra\n"
   ]
  },
  {
   "cell_type": "markdown",
   "id": "408cc4ab",
   "metadata": {
    "slideshow": {
     "slide_type": "skip"
    }
   },
   "source": [
    "### Spectrum of  Normal Operators"
   ]
  },
  {
   "cell_type": "markdown",
   "id": "da34e728",
   "metadata": {
    "slideshow": {
     "slide_type": "skip"
    }
   },
   "source": [
    "Let us recall that  $N$ is a normal operator if it commutes with its adjoint:\n",
    "\n",
    "$$\n",
    "NN^\\dagger = N^\\dagger N\n",
    "$$\n",
    "\n",
    "Spectra of normal operators enjoy an important property\n",
    " "
   ]
  },
  {
   "cell_type": "markdown",
   "id": "22d1e721",
   "metadata": {
    "slideshow": {
     "slide_type": "skip"
    }
   },
   "source": [
    "<div class=\"alert alert-block alert-info\" style=\"text-align:center\">\n",
    " <p style=\"text-align: left ;color: navy;\">  \n",
    "<b> Theorem: </b> the eigenvectors of a normal operator associated to two <i>distinct</i> eigenvalues are <i>orthogonal</i>\n",
    "<br>  \n",
    "<br>     \n",
    "$$\n",
    "\\lambda_i\\neq \\lambda_j~~~~\\Longleftrightarrow ~~~~ \\braket{\\lambda_i}{\\lambda_j} = 0\n",
    "$$\n",
    "</div>\n",
    "<details>\n",
    "<summary><p style=\"text-align:right\"> >> <i>Proof:</i></p></summary>\n",
    "<br>\n",
    "From the eigenvalue equation $N\\ket{\\lambda_j} =  \\lambda_j \\ket{\\lambda_j}$ and from $NN^\\dagger = N^\\dagger N$, it follows that\n",
    "<br>\n",
    "<br>\n",
    "$$\n",
    "\\bra{\\lambda_j}(N^\\dagger - \\lambda_j^*)(N - \\lambda_j) \\ket{\\lambda_j} = \\bra{\\lambda_j}(N - \\lambda_j)(N^\\dagger - \\lambda_j^*) \\ket{\\lambda_j}  = 0\\,,\n",
    "$$\n",
    "<br>\n",
    "<br>\n",
    "from which we obtain $(N^\\dagger - \\lambda_j^*) \\ket{\\lambda_j} = 0 \\Rightarrow \\bra{\\lambda_j} N = \\bra{\\lambda_j}\\lambda_j$. Then\n",
    "<br>\n",
    "<br>\n",
    "$$\n",
    "\\bra{\\lambda_j}N\\ket{\\lambda_i} = \\lambda_j \\braket{\\lambda_j}{\\lambda_i} = \\lambda_i \\braket{\\lambda_j}{\\lambda_i} \\, ,\n",
    "$$\n",
    "from which it follows that, for $\\lambda_i \\neq \\lambda_j$, $\\Rightarrow \\braket{\\lambda_i}{\\lambda_j} = 0$. \n",
    "</details>\n"
   ]
  },
  {
   "cell_type": "markdown",
   "id": "66a3ce24",
   "metadata": {
    "slideshow": {
     "slide_type": "skip"
    }
   },
   "source": [
    "In general, each eigenvalue $\\lambda_k$ will be degenerate $d_k \\geq 1$ times.\n",
    "\n",
    "In that case, there are $\\{\\ket{\\lambda^a_k}\\}, a=1,...,d_k$ eigenvectors that generate the eigenspace, $S(\\lambda_k) \\subset \\Hil$, of dimension $d_k$.\n"
   ]
  },
  {
   "cell_type": "markdown",
   "id": "c8fb3055",
   "metadata": {
    "slideshow": {
     "slide_type": "skip"
    }
   },
   "source": [
    "Subspaces $S(\\lambda_k) \\perp S(\\lambda_j)$ are orthogonal for $k \\neq j$ according to the lemma.  \n",
    "<br>\n",
    "\n",
    "In summary: we can always find an orthonormal basis of $\\Hil$, formed by eigenvectors of a normal operator $N$\n",
    "\n",
    "$$\n",
    "I = \\sum_k \\sum_{a=1}^{d_k} \\ket{\\lambda^a_k}\\bra{\\lambda^a_k} \\quad ; \\quad \\braket{\\lambda^a_j}{\\lambda^b_k} = \\delta_{ab}\\delta_{jk}\n",
    "$$\n",
    "\n",
    "The projector onto the eigenspace $S(\\lambda_k)$ is\n",
    "\n",
    "$$\n",
    "P_k = \\sum_{a=1}^{d_k} \\ketbra{\\lambda^a_k}{\\lambda^a_k}\n",
    "$$\n"
   ]
  },
  {
   "cell_type": "markdown",
   "id": "d911cc7f",
   "metadata": {
    "heading_collapsed": true,
    "slideshow": {
     "slide_type": "slide"
    }
   },
   "source": [
    "### Spectrum of Hermitian Operators\n",
    "\n",
    "<div class=\"alert alert-block alert-info\" text-align=\"center\">\n",
    " <p style=\"text-align: left ;color: navy;\">  \n",
    "The spectrum of a Hermitian operator $A = A^\\dagger$ has two important properties:\n",
    "<br>\n",
    "<br>     \n",
    " - 1. The <b>eigenvalues</b> of a Hermitian operator are real $\\lambda_i \\in {\\mathbb R}$.\n",
    "<br>\n",
    "<br>     \n",
    " - 2. The <b>eigenvectors</b> $\\ket{\\lambda_i}$ of a Hermitian operator associated with distinct eigenvalues are orthogonal\n",
    "<br>\n",
    "<br>\n",
    "$$\n",
    "\\lambda_i \\neq \\lambda_j ~~~\\Longleftrightarrow~~~ \\braket{\\lambda_i}{\\lambda_j} = 0\\, .\n",
    "$$\n",
    "</p>\n",
    "</div>\n",
    "\n",
    "<details>\n",
    "<summary>\n",
    "<p style=\"text-align:right\"> >> <i>Proof:</i></p>\n",
    "</summary>\n",
    "<br>\n",
    "1. Take a normalized eigenvector of $A$, $\\ket{\\lambda}$ with eigenvalue $\\lambda$.\n",
    "<br>\n",
    "<br>\n",
    "$$\n",
    "\\lambda = \\bra{\\lambda}A\\ket{\\lambda} = (\\bra{\\lambda}A^\\dagger\\ket{\\lambda})^* = (\\bra{\\lambda}A\\ket{\\lambda})^* = \\lambda^* .~~~\n",
    "$$   \n",
    "<br>    \n",
    "2. In fact, this property holds for normal operators $N$. Hermitian operators are normal.\n",
    "From the eigenvalue equation $N\\ket{\\lambda_j} = \\lambda_j \\ket{\\lambda_j}$ and $NN^\\dagger = N^\\dagger N$, it follows that\n",
    "<br>\n",
    "$$\n",
    "\\bra{\\lambda_j}(N^\\dagger - \\lambda_j^*)(N - \\lambda_j) \\ket{\\lambda_j} = \\bra{\\lambda_j}(N - \\lambda_j)(N^\\dagger - \\lambda_j^*) \\ket{\\lambda_j} = 0\\,,\n",
    "$$\n",
    "<br>\n",
    "from which we get $(N^\\dagger - \\lambda_j^*) \\ket{\\lambda_j} = 0 \\Rightarrow \\bra{\\lambda_j} N = \\bra{\\lambda_j} \\lambda_j$. Then\n",
    "<br>\n",
    "$$\n",
    "\\bra{\\lambda_j}N\\ket{\\lambda_i} = \\lambda_j \\braket{\\lambda_j}{\\lambda_i} = \\lambda_i \\braket{\\lambda_j}{\\lambda_i} \\, ,\n",
    "$$\n",
    "from which it follows that for $\\lambda_i \\neq \\lambda_j \\Rightarrow \\braket{\\lambda_i}{\\lambda_j} = 0$. \n",
    "</details>\n"
   ]
  },
  {
   "cell_type": "markdown",
   "id": "c4c46087",
   "metadata": {
    "hidden": true,
    "slideshow": {
     "slide_type": "skip"
    }
   },
   "source": [
    "The set of eigenvectors $\\ket{\\lambda_i}$ of a Hermitian operator forms an orthogonal basis. It can be normalized to form an orthonormal basis\n",
    "<br>\n",
    "<br>\n",
    "$$\n",
    "\\braket{\\lambda_i}{\\lambda_j} = \\delta_{ij}\n",
    "$$\n"
   ]
  },
  {
   "cell_type": "markdown",
   "id": "edaa8323",
   "metadata": {
    "hidden": true,
    "slideshow": {
     "slide_type": "skip"
    }
   },
   "source": [
    "<div class=\"alert alert-block alert-success\">\n",
    "<b>Exercise 1.3.7</b>\n",
    "<br>\n",
    "\n",
    "Write a function, $random\\_hermitian$, that generates a Hermitian matrix of dimension $d$.\n",
    "<br>    \n",
    "Verify in different cases that the spectrum is real.\n",
    "</div>\n"
   ]
  },
  {
   "cell_type": "markdown",
   "id": "aca5bc42",
   "metadata": {
    "slideshow": {
     "slide_type": "slide"
    }
   },
   "source": [
    "### Spectrum of Unitary Operators\n",
    "\n",
    "<div class=\"alert alert-block alert-info\" style=\"text-align:center\">\n",
    " <p style=\"text-align: left ;color: navy;\">  \n",
    "The eigenvalues of a unitary operator are pure phases\n",
    "<br><br>\n",
    "$$\n",
    "U^\\dagger = U^{-1} ~~~\\Longleftrightarrow ~~~\\lambda_i = e^{i\\phi_i}\n",
    "$$ \n",
    "</p>\n",
    "</div>\n",
    "\n",
    "<details>\n",
    "<summary><p style=\"color:grey;text-align:right\"> >> <i>Proof</i> </p></summary>\n",
    "\n",
    "Your proof here\n",
    "    \n",
    "</details>\n"
   ]
  },
  {
   "cell_type": "markdown",
   "id": "b9630442",
   "metadata": {
    "slideshow": {
     "slide_type": "slide"
    }
   },
   "source": [
    "### Spectrum of Proyectors\n",
    "\n",
    "<div class=\"alert alert-block alert-info\",text-align:center>\n",
    " <p style=\"text-align: left ;color: navy;\">  \n",
    "<b> Lema: </b>\n",
    "los autovalores de un proyector sólo pueden ser $~0~$ ó $~1~$\n",
    "<br><br>\n",
    "$$\n",
    "P^2= P ~~~\\Longleftrightarrow ~~~\\lambda_i \\in \\{0,1\\}\n",
    "$$ \n",
    "</div>\n",
    "\n",
    "<details>\n",
    "<summary><p style=\"color:grey;text-align:right\"> >> <i>Prueba</i> </p></summary>\n",
    "La ecuación \n",
    "    \n",
    "$$ P^2 = P ~~~~~\\Rightarrow ~~~~~~~~ P^2 \\ket{u} = P\\ket{u} $$\n",
    "\n",
    "sólo tiene dos soluciones consistentes \n",
    "    \n",
    "$$\n",
    "P\\ket{u} = \\ket{u}~~~~~~~\\hbox{y} ~~~~~~~~~~P\\ket{u} = 0\n",
    "$$\n",
    "</details>\n",
    "\n"
   ]
  },
  {
   "cell_type": "markdown",
   "id": "511cc8cd",
   "metadata": {
    "slideshow": {
     "slide_type": "skip"
    }
   },
   "source": [
    "### Commuting Operators\n",
    "\n",
    "When two operators commute, certain algebraic properties arise that are very advantageous. In a way, they behave more like c-numbers. Let's see the first one.\n",
    "\n",
    "<div class=\"alert alert-block alert-info\" style=\"text-align:center\">\n",
    "<p style=\"text-align: left ;color: navy;\">  \n",
    "<b>Theorem</b>\n",
    "<br>     \n",
    "Given two operators $A$ and $B$ that commute, there exists a basis $\\{\\ket{\\lambda_i}\\}$ of simultaneous eigenvectors of both operators, that is\n",
    "<br>\n",
    "<br>\n",
    "$$\n",
    "A = \\lambda_i^A \\ketbra{\\lambda_i}{\\lambda_i} ~~~~,~~~~~ B = \\lambda_i^B \\ketbra{\\lambda_i}{\\lambda_i}\n",
    "$$\n",
    "</p>\n",
    "</div>\n",
    "\n",
    "<details>\n",
    "<summary><p style=\"color:grey;text-align:right\"> >> <i>Proof</i> </p></summary>\n",
    "\n",
    "Suppose $A$ and $B$ commute. Then the action of $A$ *stabilizes* the eigenspaces of $B$.\n",
    "\n",
    "That is, if $\\ket{\\lambda}$ is an eigenstate of $B$, then $B\\ket{\\lambda} = \\ket{\\mu}$ is also an eigenstate with the same eigenvalue. It is straightforward to verify:\n",
    "<br>\n",
    "<br>\n",
    "$$\n",
    "A(B\\ket{\\lambda}) = B(A\\ket{\\lambda}) = B(\\lambda \\ket{\\lambda}) = \\lambda (B \\ket{\\lambda})\n",
    "$$\n",
    "<br>\n",
    "\n",
    "Therefore, $\\ket{\\lambda}$ and $B\\ket{\\lambda}$ belong to the *same eigenspace*. This is what is meant by *stabilizing the subspace*.\n",
    "\n",
    "If $\\lambda$ is degenerate, this only ensures that $B\\ket{\\lambda} = \\ket{\\lambda'}$ belongs to the eigenspace of the same eigenvalue $\\lambda$.\n",
    "\n",
    "This means that within each eigenspace of $B$, we can choose any basis we want. In particular, we can choose a basis that diagonalizes $A$ within that subspace.\n",
    "\n",
    "</details>\n"
   ]
  },
  {
   "cell_type": "markdown",
   "id": "1c70272c",
   "metadata": {
    "slideshow": {
     "slide_type": "skip"
    }
   },
   "source": [
    "In other words, two operators that commute are simultaneously diagonalizable. Their matrices in the basis $\\{\\ket{\\lambda_i}\\}$ are\n",
    "\n",
    "$$\n",
    "A = \\begin{bmatrix} \\lambda_1^A & 0 & \\cdots & 0 \\\\ 0 & \\lambda_2^A & \\cdots & 0 \\\\ \\vdots & \\vdots & \\ddots & \\vdots \\\\ 0 & 0 & \\cdots & \\lambda_n^A \\end{bmatrix}, \\quad\n",
    "B = \\begin{bmatrix} \\lambda_1^B & 0 & \\cdots & 0 \\\\ 0 & \\lambda_2^B & \\cdots & 0 \\\\ \\vdots & \\vdots & \\ddots & \\vdots \\\\ 0 & 0 & \\cdots & \\lambda_n^B \\end{bmatrix}\n",
    "$$\n"
   ]
  },
  {
   "cell_type": "markdown",
   "id": "a0b130f2",
   "metadata": {
    "slideshow": {
     "slide_type": "slide"
    }
   },
   "source": [
    "### Singular Values\n",
    "\n",
    "Let $A \\in \\Lin(\\Hil)$ be a general operator. Then $A^\\dagger A$ is a Hermitian operator that has non-negative eigenvalues $\\lambda_i \\geq 0$\n",
    "\n",
    "$$\n",
    "A^\\dagger A \\ket{\\lambda_i} = \\lambda_i \\ket{\\lambda_i} \\quad \\Rightarrow \\quad \\lambda_i = \\bra{\\lambda_i} A^\\dagger A \\ket{\\lambda_i} = \\| A \\ket{\\lambda_i} \\|^2 \\geq 0\n",
    "$$\n",
    "\n",
    "Therefore, we can take its square root $s_i = \\sqrt{\\lambda_i} \\geq 0$.\n",
    "\n",
    "<div class=\"alert alert-block alert-info\" text-align=\"center\">\n",
    "<p style=\"text-align: left; color: navy;\">\n",
    "<b>Definition:</b> The <b>singular values</b> of $A \\in \\Lin(\\Hil)$ are defined as $s_i = \\sqrt{\\lambda_i}$ where $\\lambda_i$ are the eigenvalues of the operator $A^\\dagger A$.\n",
    "<br>     \n",
    "</p>\n",
    "</div>\n"
   ]
  },
  {
   "cell_type": "markdown",
   "id": "decc0fbf",
   "metadata": {},
   "source": [
    "Singular values are very important to characterize the difference between two operators, as we will see later.\n"
   ]
  },
  {
   "cell_type": "markdown",
   "id": "9678a9a2",
   "metadata": {
    "slideshow": {
     "slide_type": "slide"
    }
   },
   "source": [
    "<a id='op_decomp'></a>\n",
    "## Operator decompositions\n",
    "[<<<](#top)\n"
   ]
  },
  {
   "cell_type": "markdown",
   "id": "c8a0a67c",
   "metadata": {
    "slideshow": {
     "slide_type": "slide"
    }
   },
   "source": [
    "<a id='spec_decomp'></a>\n",
    "### Spectral decomposition\n"
   ]
  },
  {
   "cell_type": "markdown",
   "id": "ebc752fb",
   "metadata": {
    "slideshow": {
     "slide_type": "-"
    }
   },
   "source": [
    "<div class=\"alert alert-block alert-info\" text-align=\"center\">\n",
    " <p style=\"text-align: left; color: navy;\">  \n",
    "<b>Theorem:</b> <i>Spectral Decomposition</i>  \n",
    "<br>     \n",
    "For every normal operator $N$ there exists a basis of orthonormal eigenvectors, $\\{\\ket{\\lambda^a_k}\\}$, such that  \n",
    "$N$ admits the following <b>spectral decomposition</b>\n",
    "<br>\n",
    "<br>\n",
    "$$\n",
    "N = \\sum_{k=1}^d \\lambda_k P_k\\, .\n",
    "$$\n",
    "<br>     \n",
    "Here $d = \\mathrm{dim}(\\Hil)$ and $P_k = \\sum_{a=1}^{g_k} \\ketbra{\\lambda^a_k}{\\lambda^a_k}$ is the projector onto the eigenspace $S(\\lambda_k)$, where $\\lambda_k$ is $g_k$-fold degenerate.\n",
    "</p>\n",
    "</div>\n"
   ]
  },
  {
   "cell_type": "code",
   "execution_count": 2,
   "id": "cf04cdf2",
   "metadata": {
    "slideshow": {
     "slide_type": "slide"
    }
   },
   "outputs": [
    {
     "data": {
      "text/latex": [
       "$$\n",
       "A = \n",
       "\\begin{bmatrix}\n",
       "1 & 1  \\\\\n",
       " -1 & 1  \\\\\n",
       " \\end{bmatrix}\n",
       "$$"
      ],
      "text/plain": [
       "<IPython.core.display.Latex object>"
      ]
     },
     "execution_count": 2,
     "metadata": {},
     "output_type": "execute_result"
    }
   ],
   "source": [
    "A = np.array([[1, 1], [-1, 1]])\n",
    "array_to_latex(A, prefix = 'A = ')\n"
   ]
  },
  {
   "cell_type": "code",
   "execution_count": 4,
   "id": "76ebebd2",
   "metadata": {
    "slideshow": {
     "slide_type": "fragment"
    }
   },
   "outputs": [
    {
     "data": {
      "text/latex": [
       "$$\n",
       "P_0=\n",
       "\\begin{bmatrix}\n",
       "\\frac{1}{2} & - \\frac{i}{2}  \\\\\n",
       " \\frac{i}{2} & \\frac{1}{2}  \\\\\n",
       " \\end{bmatrix}\n",
       "$$"
      ],
      "text/plain": [
       "<IPython.core.display.Latex object>"
      ]
     },
     "metadata": {},
     "output_type": "display_data"
    },
    {
     "data": {
      "text/latex": [
       "$$\n",
       "P_1=\n",
       "\\begin{bmatrix}\n",
       "\\frac{1}{2} & \\frac{i}{2}  \\\\\n",
       " - \\frac{i}{2} & \\frac{1}{2}  \\\\\n",
       " \\end{bmatrix}\n",
       "$$"
      ],
      "text/plain": [
       "<IPython.core.display.Latex object>"
      ]
     },
     "metadata": {},
     "output_type": "display_data"
    },
    {
     "data": {
      "text/latex": [
       "$$\n",
       "P_0 + P_1=\n",
       "\\begin{bmatrix}\n",
       "1 & 0  \\\\\n",
       " 0 & 1  \\\\\n",
       " \\end{bmatrix}\n",
       "$$"
      ],
      "text/plain": [
       "<IPython.core.display.Latex object>"
      ]
     },
     "execution_count": 4,
     "metadata": {},
     "output_type": "execute_result"
    }
   ],
   "source": [
    "' Realizamos la descomposición espectral'\n",
    "eigvals, eigvecs = np.linalg.eig(A)\n",
    "\n",
    "eigvec0 = eigvecs[:,0]\n",
    "P0 = tQ.ket_bra(eigvec0,eigvec0)\n",
    "display(array_to_latex(P0,prefix='P_0='))\n",
    "\n",
    "eigvec1 = eigvecs[:,1]\n",
    "P1 = tQ.ket_bra(eigvec1,eigvec1)\n",
    "display(array_to_latex(P1,prefix='P_1='))\n",
    "\n",
    "'verificamos completitud'\n",
    "array_to_latex(P0+P1,prefix='P_0 + P_1=')"
   ]
  },
  {
   "cell_type": "code",
   "execution_count": 6,
   "id": "3d18ef69",
   "metadata": {
    "slideshow": {
     "slide_type": "slide"
    }
   },
   "outputs": [
    {
     "data": {
      "text/latex": [
       "$$\n",
       "\\lambda_ 0 P_0 + \\lambda_1 P_1 =  \n",
       "\\begin{bmatrix}\n",
       "1 & 1  \\\\\n",
       " -1 & 1  \\\\\n",
       " \\end{bmatrix}\n",
       "$$"
      ],
      "text/plain": [
       "<IPython.core.display.Latex object>"
      ]
     },
     "execution_count": 6,
     "metadata": {},
     "output_type": "execute_result"
    }
   ],
   "source": [
    "A_descomp_espect = eigvals[0]*P0+eigvals[1]*P1\n",
    "\n",
    "array_to_latex(A_descomp_espect, prefix = '\\lambda_ 0 P_0 + \\lambda_1 P_1 =  ')"
   ]
  },
  {
   "cell_type": "markdown",
   "id": "8df31e3b",
   "metadata": {
    "slideshow": {
     "slide_type": "slide"
    }
   },
   "source": [
    "The matrix $A_{ij}$ that represents $A$ in the basis $\\ket{\\lambda_i}$ is diagonal\n",
    "\n",
    "$$\n",
    "A_{ij} = \\bra{\\lambda^a_i} A\\ket{\\lambda^b_j} =  \\lambda_k \\delta_{kj} \\delta_{ab} =\\begin{bmatrix} \\lambda_1 &  &  &  &  \\\\ & \\ddots & & & \\\\ & & \\lambda_2 & &  \\\\&  & & \\ddots & \\\\  & & & &  \\lambda_N \\end{bmatrix}\n",
    "$$\n",
    "<br>\n",
    "where $\\lambda_k$ appears repeated $d_k$ times.\n"
   ]
  },
  {
   "cell_type": "markdown",
   "id": "499a7223",
   "metadata": {
    "slideshow": {
     "slide_type": "skip"
    }
   },
   "source": [
    "<div class=\"alert alert-block alert-danger\">\n",
    "    <b>Note:</b>\n",
    "<br>\n",
    "<br>\n",
    "The identity operator has every vector as an eigenvector $I\\ket{v} = \\ket{v}$, with eigenvalues $\\lambda_i = 1$. Therefore, in <b>any basis</b>, the matrix associated to $I$ has diagonal form\n",
    "$$\n",
    "I_{ij} = \\delta_{ij} = \\begin{pmatrix} 1 &  &  &  \\\\ & 1 & &  \\\\ & & \\ddots & \\\\ & & &  1 \\end{pmatrix}\n",
    "$$\n",
    "\n",
    "The spectral decomposition of $I$ is none other than the <b>completeness relation</b>, which holds *for any basis*, since all bases are eigenbases of $I$\n",
    "$$\n",
    "I ~=~ \\sum_{i=1}^N \\ketbra{\\lambda_i}{\\lambda_i} ~=~ \\sum_{i=1}^N \\ketbra{e_i}{e_i}\n",
    "$$\n",
    "</div>\n"
   ]
  },
  {
   "cell_type": "markdown",
   "id": "26207dd5",
   "metadata": {
    "slideshow": {
     "slide_type": "skip"
    }
   },
   "source": [
    "<div class=\"alert alert-block alert-success\">\n",
    "<b> Exercise 1.3.8 </b> <br> \n",
    "    \n",
    "Write a Python function $spectral\\_decomp$ that returns the two lists $\\lambda_i$ and $P_i$ associated with the spectral decomposition of a diagonalizable operator $A = \\sum_i \\lambda_i P_i$.   \n",
    "</div>\n"
   ]
  },
  {
   "cell_type": "markdown",
   "id": "66337a28",
   "metadata": {
    "slideshow": {
     "slide_type": "skip"
    }
   },
   "source": [
    "Suppose we only know the spectrum of eigenvalues $\\{\\lambda_i\\}$ of $A$ and not its eigenvectors. Even so, the projector $P_i$ can be written as\n",
    "<br>\n",
    "<br>\n",
    "$$\n",
    "P_i = \\prod_{k \\neq i} \\frac{A - \\lambda_k I}{\\lambda_i - \\lambda_k}\n",
    "$$\n",
    "\n"
   ]
  },
  {
   "cell_type": "markdown",
   "id": "0783b507",
   "metadata": {
    "slideshow": {
     "slide_type": "skip"
    }
   },
   "source": [
    "By construction, it holds that\n",
    "$$\n",
    "P_i \\ket{\\lambda_j} = \\delta_{ij} \\ket{\\lambda_j} \\quad , \\quad AP_i = \\lambda_i P_i \\, .\n",
    "$$\n",
    "\n",
    "Note that the range of $P_i$ is included by construction without needing to know the basis generating the subspace $\\{\\ket{\\lambda_{i,p}}\\}$.\n"
   ]
  },
  {
   "cell_type": "markdown",
   "id": "ebde82d8",
   "metadata": {
    "slideshow": {
     "slide_type": "skip"
    }
   },
   "source": [
    "**Spectral Representation of Projectors**\n",
    "\n",
    "Let $A$ be a normal matrix with eigenvalues $\\lambda_i$ and eigenvectors $\\ket{\\lambda_{i,p}}, p=1,...,g_i = \\mathrm{deg}(\\lambda_i)$,\n",
    "\n",
    "$$\n",
    "P_i = \\sum_{p=1}^{g_i} \\ket{\\lambda_{i,p}}\\bra{\\lambda_{i,p}} \n",
    "$$\n",
    "\n",
    "is a projector onto the eigenspace associated with $\\lambda_i$.\n"
   ]
  },
  {
   "cell_type": "markdown",
   "id": "d543d07a",
   "metadata": {
    "slideshow": {
     "slide_type": "skip"
    }
   },
   "source": [
    "<a id='pol_dec'></a>\n",
    "### Polar Decomposition (PD)\n",
    "\n",
    "<div class=\"alert alert-block alert-info\" text-align=\"center\">\n",
    "<p style=\"text-align: center;\"> <p style=\"text-align: left; color: navy;\">  \n",
    "<b>Theorem:</b>\n",
    "<br>   \n",
    "Every operator $A \\in \\Lin(\\Hil)$ admits a polar decomposition $A = U R$ where $U$ is a unitary operator, and $R$ is a positive semi-definite operator (having only non-negative eigenvalues).\n",
    "</p>\n",
    "</div>\n"
   ]
  },
  {
   "cell_type": "markdown",
   "id": "aa2c3ecc",
   "metadata": {
    "slideshow": {
     "slide_type": "skip"
    }
   },
   "source": [
    "- The polar decomposition is *unique* and generalizes the polar representation of complex numbers $z = r e^{i\\phi}$ to operators.  \n",
    "<br>\n",
    "\n",
    "- The fact that $r \\geq 0$ corresponds to $R$ being positive semi-definite.  \n",
    "<br>\n",
    "\n",
    "- The factor $e^{i\\phi}$ is analogous to the fact that a unitary operator, as we will see, has eigenvalues that are pure phases.  \n"
   ]
  },
  {
   "cell_type": "markdown",
   "id": "52b463a1",
   "metadata": {
    "slideshow": {
     "slide_type": "skip"
    }
   },
   "source": [
    "<div class=\"alert alert-block alert-success\">\n",
    "<b>Exercise 1.3.9</b> \n",
    "<br>\n",
    "    \n",
    "Write a function $random\\_unitary$ that generates a unitary matrix of dimension $d$.  \n",
    "Check in various cases that its spectrum consists of phases.\n",
    "</div>\n"
   ]
  },
  {
   "cell_type": "code",
   "execution_count": 19,
   "id": "af607659",
   "metadata": {
    "slideshow": {
     "slide_type": "skip"
    }
   },
   "outputs": [
    {
     "name": "stdout",
     "output_type": "stream",
     "text": [
      "[2.431+0.j 0.08 +0.j 0.686+0.j]\n"
     ]
    },
    {
     "data": {
      "text/latex": [
       "$$\n",
       "U = \n",
       "\\begin{bmatrix}\n",
       "0.6448584703 - 0.0545397974 i & 0.27980105 + 0.6601651084 i & 0.2589661709 - 0.0035900099 i  \\\\\n",
       " 0.3682011215 + 0.3892475176 i & 0.4452677423 - 0.3869059114 i & -0.322586681 + 0.5107764587 i  \\\\\n",
       " -0.4459615381 + 0.30857021 i & 0.3705983147 + 0.0243052369 i & 0.7163582861 + 0.2340933202 i  \\\\\n",
       " \\end{bmatrix}\n",
       "$$"
      ],
      "text/plain": [
       "<IPython.core.display.Latex object>"
      ]
     },
     "metadata": {},
     "output_type": "display_data"
    },
    {
     "data": {
      "text/latex": [
       "$$\n",
       "U^{\\dagger}U = \n",
       "\\begin{bmatrix}\n",
       "1 & 0 & 0  \\\\\n",
       " 0 & 1 & 0  \\\\\n",
       " 0 & 0 & 1  \\\\\n",
       " \\end{bmatrix}\n",
       "$$"
      ],
      "text/plain": [
       "<IPython.core.display.Latex object>"
      ]
     },
     "metadata": {},
     "output_type": "display_data"
    },
    {
     "data": {
      "text/plain": [
       "array([1.-0.j, 1.+0.j, 1.-0.j])"
      ]
     },
     "execution_count": 19,
     "metadata": {},
     "output_type": "execute_result"
    }
   ],
   "source": [
    "'''Método para construir una matriz unitaria arbitraria usando la descomposición polar'''\n",
    "d = 3\n",
    "A = np.matrix(np.random.rand(d,d)+ np.random.rand(d,d) * 1j)\n",
    "\n",
    "#u, s, vh = linalg.svd(A, full_matrices=False)\n",
    "u,r = la.polar(A)\n",
    "    \n",
    "R = np.matrix(r) \n",
    "' verificamos que R sólo tiene autovalores no-negativos '\n",
    "Reigval, Reigvec = la.eig(R)\n",
    "print(np.round(Reigval,3))\n",
    "\n",
    "U=np.matrix(u) \n",
    "display(array_to_latex(U, prefix= 'U = '))\n",
    "\n",
    "''' Verifiquemos unitariedad '''\n",
    "display(array_to_latex(np.dot(U.getH(),U),prefix='U^{\\dagger}U = '))\n",
    "\n",
    "''' verificamos que los autovalores de U son fases'''\n",
    "np.round([la.eig(U)[0][i]*la.eig(U)[0][i].conjugate() for i in range(d)],5)"
   ]
  },
  {
   "cell_type": "markdown",
   "id": "248ec9f7",
   "metadata": {
    "slideshow": {
     "slide_type": "slide"
    }
   },
   "source": [
    "<a id='svd_dec'></a>\n",
    "\n",
    "### Singular Value Decomposition (SVD)\n"
   ]
  },
  {
   "cell_type": "markdown",
   "id": "2ad43fc4",
   "metadata": {
    "slideshow": {
     "slide_type": "fragment"
    }
   },
   "source": [
    "<div class=\"alert alert-block alert-info\" text-align=\"center\">\n",
    "<p style=\"text-align: left; color: navy;\">  \n",
    "<b>Singular Value Decomposition Theorem: SVD</b>  \n",
    "<br>    \n",
    "Let $A$ be a complex $m\\times n$ matrix. Then it admits the following form (singular value decomposition)  \n",
    "<br>  \n",
    "<br>  \n",
    "$$\n",
    "A = U \\,\\Sigma\\, V^{\\dagger} \\,,\n",
    "$$  \n",
    "<br>  \n",
    "where $U \\in U(m)$, $V \\in U(n)$ are square unitary matrices and $\\Sigma$ is a rectangular $m \\times n$ matrix with the nonzero singular values $s_1, ..., s_r$ of $A$ on the diagonal, where $r \\leq \\min(m,n)$.\n",
    "</div>\n"
   ]
  },
  {
   "cell_type": "markdown",
   "id": "08fadd72",
   "metadata": {
    "slideshow": {
     "slide_type": "slide"
    }
   },
   "source": [
    "*Proof*:\n",
    "\n",
    "Notice that $A$ is the matrix of a linear map $\\Hil_n \\to \\Hil_m$, i.e. if $\\ket{u}\\in \\Hil_n$ then $\\ket{v} = A\\ket{u} \\in \\Hil_m$.  \n",
    "\n",
    "Of utmost importance will be the linear endomorphisms $A^\\dagger\\! A\\in \\Lin(\\Hil_n)$ and\n",
    "$AA^\\dagger \\in \\Lin(\\Hil_m)$.\n",
    "    \n",
    "Let us start buy showing two things\n",
    "    \n",
    "- they have the same eigenvalues. Indeed, if $\\ket{u}\\in \\Hil_n$ is eigenvector of $A^\\dagger A$ then $\\ket{v} = A\\ket{v} \\in \\Hil_m$ is an eigenvector of\n",
    "$AA^\\dagger$ with the same eigenvalue.\n",
    "    \n",
    "$$\n",
    "AA^\\dagger \\ket{v} = AA^\\dagger (A\\ket{u}) = A (A^\\dagger A\\ket{u}) = A \\lambda\\ket{u} = \\lambda A\\ket{u} = \\lambda \\ket{v}\n",
    "$$ \n",
    "\n"
   ]
  },
  {
   "cell_type": "markdown",
   "id": "219f376e",
   "metadata": {
    "slideshow": {
     "slide_type": "slide"
    }
   },
   "source": [
    "\n",
    "- the  eigenvalues are  real an non-negative. Reality comes out from the hermiticity of $A^\\dagger \\! A\\in \\Lin(H_n)$. Now   \n",
    "\n",
    "$$\n",
    "\\lambda_i = \\bra{\\lambda_i}A^\\dagger\\! A\\ket{\\lambda_i} = \\|A\\ket{\\lambda_i}\\|^2 \\ge 0.\n",
    "$$  \n",
    "Ordered in decreasing order, there are $r$ nonzero eigenvalues, $\\lambda_1\\ge\\lambda_2\\ge\\cdots\\ge\\lambda_r>0$.\n",
    "<br>    \n",
    "Their square roots $\\sqrt{\\lambda_1}\\ge\\sqrt{\\lambda_2}\\ge\\cdots\\ge\\sqrt{\\lambda_r}>0$ define the so‐called <i>singular values</i> $s_i = \\sqrt{\\lambda_i}$ of the operator $A$.\n",
    "\n"
   ]
  },
  {
   "cell_type": "markdown",
   "id": "0e4f7257",
   "metadata": {
    "slideshow": {
     "slide_type": "slide"
    }
   },
   "source": [
    "Start by diagonalizing $A^\\dagger A$, and obtain an orthonormal basis $\\ket{\\lambda_i}$. Taking these as column vectors, we can form the following matrices  \n",
    "<br>\n",
    "\\begin{eqnarray}\n",
    "V(n\\times n) &=& \\left(\\rule{0mm}{5mm} \\ket{\\lambda_1},\\ket{\\lambda_2},....,\\ket{\\lambda_r},\\ket{\\lambda_{r+1}},...,\\ket{\\lambda_n}\\right)\n",
    "\\nonumber \\\\ \\rule{0mm}{18mm} \n",
    "\\Sigma(m\\times n) &=&  \\rule{0mm}{10mm} \n",
    "\\overbrace{\n",
    "\\left.\\left(\n",
    "\\begin{array}{ccccccc} \n",
    "\\sqrt{\\lambda_1} &\\cdots  &    &  & & &  0  \\\\  \\vdots & \\ddots & & & & & \\vdots  \\\\  & & \\sqrt{\\lambda_r} & & & &  \\\\\n",
    "   & &  & 0  & &  &    \\\\ & & & & & \\ddots &  \\\\  0 & &\\cdots  & & & & 0  \\\\ \\vdots & &&&& & \\vdots \\\\ 0 & & \\cdots & & & & 0\n",
    "\\end{array}\n",
    "\\right)\\, \\right\\}  }^{n} m\n",
    "\\nonumber \\\\ \\rule{0mm}{18mm}\n",
    "U(m\\times m) &=& \\left( \\rule{0mm}{3mm} \\frac{1}{\\sqrt{\\lambda_1}}A\\ket{\\lambda_1}, \\frac{1}{\\sqrt{\\lambda_2}}A\\ket{\\lambda_2}, ...., \n",
    "\\frac{1}{\\sqrt{\\lambda_r}}A\\ket{\\lambda_r}, \\ket{\\mu_{r+1}},...\\ket{\\mu_m} \\right) \\, .\n",
    "\\nonumber \n",
    "\\end{eqnarray}\n",
    "where $\\ket{\\mu_{r+1}},\\dots,\\ket{\\mu_m}$ complete the orthonormal basis of vectors.      \n",
    "</div>    "
   ]
  },
  {
   "cell_type": "markdown",
   "id": "81905f8d",
   "metadata": {
    "slideshow": {
     "slide_type": "slide"
    }
   },
   "source": [
    "Now we can operate  \n",
    "\\begin{eqnarray}\n",
    "U\\Sigma V^\\dagger &=& \\left( \\rule{0mm}{3mm} \\frac{1}{\\sqrt{\\lambda_1}}A\\ket{\\lambda_1}, \\frac{1}{\\sqrt{\\lambda_2}}A\\ket{\\lambda_2}, ...., \n",
    "\\frac{1}{\\sqrt{\\lambda_r}}A\\ket{\\lambda_r}, \\ket{\\mu_{r+1}},...\\ket{\\mu_m} \\right)\n",
    "\\begin{pmatrix} \\sqrt{\\lambda_1}\\bra{\\lambda_1} \\\\ \\sqrt{\\lambda_2}\\bra{\\lambda_2}  \\\\ \\vdots \\\\ \\sqrt{\\lambda_r}\\bra{\\lambda_r} \\\\ 0 \\\\ \\vdots \\\\ 0 \\end{pmatrix} \\nonumber\\\\\n",
    "&=& A \\sum_{i=1}^r \\ket{\\lambda_i}\\bra{\\lambda_i} = A \\sum_{i=1}^n \\ket{\\lambda_i}\\bra{\\lambda_i} = A\\, , \\nonumber\n",
    "\\end{eqnarray}\n",
    "    \n",
    "were we used that  $A\\ket{\\lambda_i}=0$ for $i>r$.  This completes the proof. Let us however gain some insight into the nature of matrices $U$ and $V$.   "
   ]
  },
  {
   "cell_type": "markdown",
   "id": "570b47ce",
   "metadata": {
    "slideshow": {
     "slide_type": "slide"
    }
   },
   "source": [
    "The following equations hold\n",
    "\n",
    "\\begin{align}\n",
    "A^\\dagger\\! A &= V\\,\\Sigma^\\dagger U\\,U^\\dagger \\Sigma\\,V^\\dagger = V\\,(\\Sigma^\\dagger \\Sigma)\\,V^\\dagger \\\\[6pt]\n",
    "A A^\\dagger &= U\\,\\Sigma V^\\dagger V\\,\\Sigma^\\dagger U^\\dagger = U\\,(\\Sigma \\Sigma^\\dagger)\\,U^\\dagger\n",
    "\\end{align}\n",
    "\n",
    "or equivalently\n",
    "\n",
    "$$\n",
    "\\Sigma^\\dagger \\Sigma  = V^\\dagger A^\\dagger A V\n",
    "\\quad,\\quad\n",
    "\\Sigma \\Sigma^\\dagger = U^\\dagger A A^\\dagger U\n",
    "$$\n",
    "\n",
    "The matrices\n",
    "\n",
    "$$\n",
    "\\Sigma \\Sigma^\\dagger = \\mathrm{diag}(\\lambda_1,\\dots,\\lambda_r,0,\\dots,0)_{\\,m\\times m}\n",
    "\\quad,\\quad\n",
    "\\Sigma^\\dagger \\Sigma = \\mathrm{diag}(\\lambda_1,\\dots,\\lambda_r,0,\\dots,0)_{\\,n\\times n}\n",
    "$$\n",
    "\n",
    "are diagonal. Therefore:\n",
    "\n",
    "- The matrix $V$ diagonalizes $A^\\dagger A$. Hence its columns are the $n$ eigenvectors of $A^\\dagger A$.\n",
    "- The matrix $U$ diagonalizes $A A^\\dagger$. Hence its columns are the $m$ eigenvectors of $A A^\\dagger$."
   ]
  },
  {
   "cell_type": "markdown",
   "id": "e797e8d0",
   "metadata": {
    "slideshow": {
     "slide_type": "skip"
    }
   },
   "source": [
    "This looks like  an efficient way to find the matrices $U$ and $V$. However this is true only up to diagonal unitaries\n",
    "\n",
    "Notice that any $\\tilde V = VD$ and $\\tilde U = UF$ such that\n",
    "\n",
    "$$\n",
    "D^\\dagger \\Sigma^\\dagger \\Sigma D = \\Sigma^\\dagger \\Sigma~~~~,~~~~~\n",
    "F^\\dagger \\Sigma \\Sigma^\\dagger  F = \\Sigma \\Sigma^\\dagger \n",
    "$$  \n",
    "\n",
    "will lead to a different equivalently valid solution of the form\n",
    "\n",
    "$$\n",
    "\\Sigma^\\dagger \\Sigma  = \\tilde V^\\dagger A^\\dagger A \\tilde V\n",
    "\\quad,\\quad\n",
    "\\Sigma \\Sigma^\\dagger = \\tilde U^\\dagger A A^\\dagger \\tilde U\n",
    "$$ \n",
    "Now  \n",
    "$$\n",
    "\\tilde A = \\tilde U \\Sigma \\tilde V^\\dagger = UD\\Sigma F^\\dagger V^\\dagger \\neq U\\Sigma   V^\\dagger = A\n",
    "$$  \n",
    "So, not any element in the equivalence class gives the SVD of $A$"
   ]
  },
  {
   "cell_type": "markdown",
   "id": "e280368b",
   "metadata": {
    "slideshow": {
     "slide_type": "skip"
    }
   },
   "source": [
    "Note that the rank of $U$ and $V$ is $r \\leq m \\leq n$. Therefore, there is an ambiguity in the choice of eigenvectors of $U$ and $V$ associated with the zero singular values.\n"
   ]
  },
  {
   "cell_type": "markdown",
   "id": "090cde1f",
   "metadata": {
    "slideshow": {
     "slide_type": "skip"
    }
   },
   "source": [
    "Let's state this theorem for matrices. Specifically, the theorem refers to an $m \\times n$ matrix. This type of matrix corresponds to operators $O \\in \\Lin(\\Hil_A, \\Hil_B)$ between spaces of dimensions $m$ and $n$.\n"
   ]
  },
  {
   "cell_type": "code",
   "execution_count": 7,
   "id": "dbd4c215",
   "metadata": {
    "slideshow": {
     "slide_type": "slide"
    }
   },
   "outputs": [
    {
     "data": {
      "text/latex": [
       "$$\n",
       "A=\n",
       "\\begin{bmatrix}\n",
       "-0.5236930728 + 1.9118334053 i & 0.5767927192 - 2.0843848053 i  \\\\\n",
       " -0.3643731504 - 1.0819914804 i & 0.7246113054 - 0.5586193168 i  \\\\\n",
       " -0.9682747944 - 1.672583164 i & -0.9877737104 + 0.3425877513 i  \\\\\n",
       " \\end{bmatrix}\n",
       "$$"
      ],
      "text/plain": [
       "<IPython.core.display.Latex object>"
      ]
     },
     "metadata": {},
     "output_type": "display_data"
    },
    {
     "name": "stdout",
     "output_type": "stream",
     "text": [
      "the shape of A is : (3, 2)\n",
      "the shape of u = (3, 3)  s = (2,)  v = (2, 2)\n"
     ]
    }
   ],
   "source": [
    "'NumPy has the `svd` function to perform singular value decomposition.'\n",
    "m=3\n",
    "n=2\n",
    "\n",
    "A = np.matrix(np.random.randn(m,n)+ 1j*np.random.randn(m,n))\n",
    "display(array_to_latex(A,prefix='A='))\n",
    "print( 'the shape of A is :', A.shape)\n",
    "\n",
    "\n",
    "u, s, vh = la.svd(A, full_matrices=True)\n",
    "\n",
    "\n",
    "print( 'the shape of u =',u.shape, ' s =', s.shape,' v =', vh.shape)"
   ]
  },
  {
   "cell_type": "code",
   "execution_count": 9,
   "id": "1e4e77d3",
   "metadata": {
    "slideshow": {
     "slide_type": "slide"
    }
   },
   "outputs": [
    {
     "data": {
      "text/latex": [
       "$$\n",
       "U=\n",
       "\\begin{bmatrix}\n",
       "-0.1216646101 + 0.8252425506 i & -0.1613739097 - 0.3128773077 i & 0.321129708 + 0.2776948279 i  \\\\\n",
       " -0.1802697442 - 0.1287928363 i & 0.1140421168 - 0.6235401084 i & 0.2988391186 - 0.6780874093 i  \\\\\n",
       " -0.0807466501 - 0.4985656009 i & -0.6396895224 - 0.2550601797 i & 0.3406188724 + 0.3932336755 i  \\\\\n",
       " \\end{bmatrix}\n",
       "$$"
      ],
      "text/plain": [
       "<IPython.core.display.Latex object>"
      ]
     },
     "metadata": {},
     "output_type": "display_data"
    },
    {
     "data": {
      "text/latex": [
       "$$\n",
       "S=\n",
       "\\begin{bmatrix}\n",
       "3.4167487815 & 0  \\\\\n",
       " 0 & 1.9751666399  \\\\\n",
       " 0 & 0  \\\\\n",
       " \\end{bmatrix}\n",
       "$$"
      ],
      "text/plain": [
       "<IPython.core.display.Latex object>"
      ]
     },
     "metadata": {},
     "output_type": "display_data"
    },
    {
     "data": {
      "text/latex": [
       "$$\n",
       "V=\n",
       "\\begin{bmatrix}\n",
       "0.8073630659 & 0.5900549803  \\\\\n",
       " -0.5677972825 + 0.1605338775 i & 0.7769082036 - 0.2196560114 i  \\\\\n",
       " \\end{bmatrix}\n",
       "$$"
      ],
      "text/plain": [
       "<IPython.core.display.Latex object>"
      ]
     },
     "metadata": {},
     "output_type": "display_data"
    },
    {
     "data": {
      "text/latex": [
       "$$\n",
       "S S^{\\dagger} =\n",
       "\\begin{bmatrix}\n",
       "11.67417224 & 0 & 0  \\\\\n",
       " 0 & 3.90128326 & 0  \\\\\n",
       " 0 & 0 & 0  \\\\\n",
       " \\end{bmatrix}\n",
       "$$"
      ],
      "text/plain": [
       "<IPython.core.display.Latex object>"
      ]
     },
     "metadata": {},
     "output_type": "display_data"
    }
   ],
   "source": [
    "U=np.matrix(u)\n",
    "S= np.zeros((m, n))\n",
    "np.fill_diagonal(S,s)\n",
    "S = np.matrix(S)\n",
    "V=np.matrix(vh).getH()\n",
    "\n",
    "display(array_to_latex(U,prefix='U='))\n",
    "display(array_to_latex(S,prefix='S='))\n",
    "display(array_to_latex(V,prefix='V='))\n",
    "\n",
    "display(array_to_latex(np.round(S@S.getH(),8),prefix='S S^{\\dagger} ='))\n",
    "\n",
    "#'''Verifiquemos unitariedad'''\n",
    "#display(array_to_latex(np.dot(V.getH(),V),prefix='V^{\\dagger}V ='))\n",
    "#display(array_to_latex(np.dot(U.getH(),U),prefix='U^{\\dagger}U ='))\n"
   ]
  },
  {
   "cell_type": "code",
   "execution_count": 11,
   "id": "3ba824f0",
   "metadata": {
    "slideshow": {
     "slide_type": "slide"
    }
   },
   "outputs": [
    {
     "data": {
      "text/plain": [
       "True"
      ]
     },
     "execution_count": 11,
     "metadata": {},
     "output_type": "execute_result"
    }
   ],
   "source": [
    "# Perform the multiplication U * S * V^dagger\n",
    "A_recons = U @ S @ V.getH()\n",
    "\n",
    "# Display the result\n",
    "#display(array_to_latex(A_reconstructed, prefix='U S V^\\\\dagger = '))\n",
    "\n",
    "np.allclose(A, A_recons)\n"
   ]
  },
  {
   "cell_type": "markdown",
   "id": "d5258a8c",
   "metadata": {
    "slideshow": {
     "slide_type": "slide"
    }
   },
   "source": [
    "<a id='optrace'></a>\n",
    "# Operator trace\n",
    "\n",
    "[<<<](#top)\n"
   ]
  },
  {
   "cell_type": "markdown",
   "id": "9ff182b3",
   "metadata": {
    "slideshow": {
     "slide_type": "slide"
    }
   },
   "source": [
    "\n",
    "<div class=\"alert alert-block alert-info\" text-align=\"center\">\n",
    "<p style=\"text-align: center;\"> <p style=\"text-align: left ;color: navy;\">  \n",
    "<b>Definition:</b> The trace of an operator $A$ is defined as the sum\n",
    "<br>\n",
    "<br>    \n",
    "$$\n",
    "\\tr A = \\sum_i \\bra{e_i} A \\ket{e_i} = \\sum_i A_{ii}\n",
    "$$\n",
    "<br>\n",
    "    of its diagonal matrix elements <u>in <b>any</b> orthonormal basis</u>  $\\{\\ket{e_i}\\}$      \n",
    "</p>\n",
    "</div>  \n",
    "\n"
   ]
  },
  {
   "cell_type": "markdown",
   "id": "dae32a61",
   "metadata": {
    "slideshow": {
     "slide_type": "fragment"
    }
   },
   "source": [
    "To be consistent, this definition requires proving that the choice of basis does not matter.\n"
   ]
  },
  {
   "cell_type": "markdown",
   "id": "15c0026e",
   "metadata": {
    "slideshow": {
     "slide_type": "slide"
    }
   },
   "source": [
    "<div class=\"alert alert-block alert-info\" text-align=\"center\">\n",
    "<p style=\"text-align: left; color: navy;\">\n",
    "<b> Lemma:</b>$~$\n",
    "the trace of an operator is <i>independent of the basis</i> in which it is calculated.\n",
    "</p>\n",
    "</div>\n",
    "  \n",
    "<details>\n",
    "<summary><p style=\"color:grey;text-align:right\"> >> <i>Proof</i> </p></summary>\n",
    "\\begin{eqnarray}\n",
    "{\\rm tr} A  &=&\\sum_i A_{ii} =\\sum_{i} \\bra{i}A\\ket{i} =\\sum_{i} \\bra{i}A\\left( \\sum_j\\ketbra{\\tilde j}{\\tilde j}\\right)\\ket{i}\n",
    "\\nonumber\\\\\n",
    "&=& \\sum_{ij}\\bra{i}A\\ket{\\tilde j} \\braket{\\tilde j}{i} = \\sum_{ij}\\braket{\\tilde j}{i}\\bra{i}A\\ket{\\tilde j}  \\nonumber\\\\\n",
    "&=& \\sum_{j} \\bra{\\tilde j}\\left(\\sum_i\\ketbra{i}{i}\\right) A \\ket{\\tilde j}= \\sum_{j} \\bra{\\tilde j}A\\ket{\\tilde j}\\nonumber\\\\\n",
    "&=& \\sum_j \\tilde A_{jj}\n",
    "\\end{eqnarray}\n",
    "</details>"
   ]
  },
  {
   "cell_type": "markdown",
   "id": "dcc64d79",
   "metadata": {
    "slideshow": {
     "slide_type": "slide"
    }
   },
   "source": [
    "By this important property, the trace of $A$ coincides with the sum of its eigenvalues:\n",
    "\n",
    "$$\n",
    "\\mathrm{tr} \\, A = \\sum_i \\bra{\\lambda_i} A \\ket{\\lambda_i} = \\sum_i \\lambda_i\n",
    "$$\n",
    "\n",
    "provided that $A$ is diagonalizable in the basis $\\{\\ket{\\lambda_i}\\}$.\n",
    "\n",
    "$$\n",
    "A\\ket{\\lambda_j} = \\lambda_i \\ket{\\lambda_i}\n",
    "$$\n"
   ]
  },
  {
   "cell_type": "markdown",
   "id": "1b440807",
   "metadata": {
    "slideshow": {
     "slide_type": "fragment"
    }
   },
   "source": [
    "The trace enjoy  a series of important properites\n",
    "\n",
    "- It is al linear function\n",
    "$$\n",
    "{\\rm tr} (A + B ) = {\\rm tr}A + {\\rm tr}B\n",
    "$$"
   ]
  },
  {
   "cell_type": "markdown",
   "id": "e30a9a1c",
   "metadata": {
    "slideshow": {
     "slide_type": "slide"
    }
   },
   "source": [
    "- It is symmetric \n",
    "$$\n",
    "\\tr \\, AB= \\tr \\, BA \n",
    "$$\n",
    "From here the cyclicity follows immediately\n",
    "$$\n",
    "\\tr \\, AB...C = \\tr\\,  A(B...C) = \\tr \\, (B...C) A = \\tr\\,  B...C A\n",
    "$$\n",
    "\n"
   ]
  },
  {
   "cell_type": "markdown",
   "id": "39e4274a",
   "metadata": {
    "slideshow": {
     "slide_type": "fragment"
    }
   },
   "source": [
    "- Let the operator \\$A = \\ketbra{u}{v}\\$ then, for any operator \\$B\\$ it holds that\n",
    "$$ \\tr \\left(B\\rule{0mm}{5mm}\\ketbra{u}{v}\\right) = \\sum_i \\bra{e_i} B\\ket{u}\\braket{v}{e_i} = \\bra{v}\\left(\\sum_i \\ketbra{e_i}{e_i}\\right) B\\ket{u} = \\bra{v}B \\ket{u}\n",
    "$$"
   ]
  },
  {
   "cell_type": "markdown",
   "id": "c965dc48",
   "metadata": {
    "slideshow": {
     "slide_type": "slide"
    }
   },
   "source": [
    "<a id='linhil'></a>\n",
    "\n",
    "### $\\Lin(\\Hil)$ as a Hilbert space"
   ]
  },
  {
   "cell_type": "markdown",
   "id": "f187a4a7",
   "metadata": {
    "slideshow": {
     "slide_type": "-"
    }
   },
   "source": [
    "To transform \\$\\Lin(\\Hil)\\$ into a Hilbert space it is only necessary to define a Hermitian inner product\n",
    "\n",
    "<a id='trace_norm'></a>\n",
    "\n",
    "<div class=\"alert alert-block alert-info\",text-align:center>\n",
    " <p style=\"text-align: left ;color: navy;\">  \n",
    "<b> Definition: </b> <i> (inner product) </i> \n",
    "<br>     \n",
    "given two operators $A, B \\in \\Lin(\\Hil)$ we define their <i> inner product </i> $( A, B)\\in {\\mathbb C}$\n",
    "<br> \n",
    "<br>\n",
    "$$\n",
    "( A, B)= {\\rm tr}\\left( A^\\dagger B \\right) \n",
    "$$\n",
    "</div>\n",
    "\n"
   ]
  },
  {
   "cell_type": "markdown",
   "id": "e752a88a",
   "metadata": {
    "slideshow": {
     "slide_type": "slide"
    }
   },
   "source": [
    "In a basis we have that\n",
    "\n",
    "$$\n",
    "(A,B) = \\sum_{ij} A^\\dagger_{ij} B_{ji} = \\sum_{ij} A^*_{ji} B_{ji}\n",
    "$$\n",
    "\n",
    "whereas\n",
    "\n",
    "$$\n",
    "(B,A) = \\sum_{ij} B^\\dagger_{ij} A_{ji} = \\sum_{ij} B^*_{ji} A_{ji} =\n",
    " \\sum_{ij} A_{ji}B^*_{ji} \n",
    "$$\n",
    "\n",
    "It follows that \\$(B,A) = (A,B)^\\*\\$. Moreover, it is trivial to check that \\$(A,B+C) = (A,B) + (A,C)\\$, so it is a sesquilinear or Hermitian inner product.\n"
   ]
  },
  {
   "cell_type": "markdown",
   "id": "42e0609a",
   "metadata": {
    "slideshow": {
     "slide_type": "slide"
    }
   },
   "source": [
    "<a id='op_norm'></a>\n",
    "\n",
    "### Operator norm and distance"
   ]
  },
  {
   "cell_type": "markdown",
   "id": "3ef94ae8",
   "metadata": {
    "slideshow": {
     "slide_type": "skip"
    }
   },
   "source": [
    "A **norm** defined on \\$\\Lin(\\Hil)\\$ is a real function \\$A \\to | A| \\in {\\mathbb R}\\$ with the properties that were defined in a [previous section](../01_Formalismo/01_Vectores_en.ipynb#norm)\n"
   ]
  },
  {
   "cell_type": "markdown",
   "id": "7efe3b8f",
   "metadata": {
    "slideshow": {
     "slide_type": "fragment"
    }
   },
   "source": [
    "<a id='trace_norm'></a>\n",
    "\n",
    "<div class=\"alert alert-block alert-info\",text-align:center>\n",
    " <p style=\"text-align: left ;color: navy;\">  \n",
    "<b> Definition: </b> <i> ($p$-Schatten norm) </i> : given an operator $A\\in \\Lin(\\Hil)$ the function  \n",
    "<br> \n",
    "<br>\n",
    "$$\n",
    "| A |_p =  \\left({\\rm tr} \\left(\\left(A^\\dagger A\\right)^{p/2}\\right) \\right)^{1/p}\n",
    "$$\n",
    "defines a norm, called the <b>$p$-Schatten norm</b>.\n",
    "</div>\n"
   ]
  },
  {
   "cell_type": "markdown",
   "id": "e9f75db2",
   "metadata": {
    "slideshow": {
     "slide_type": "skip"
    }
   },
   "source": [
    "The seemeingly weird appearance of the factor $p$ is arrange so that homogeneity of degree one is achieved\n",
    "\n",
    "$$\n",
    "\\| \\lambda A \\|_p = \\lambda \\| A \\|_p\n",
    "$$"
   ]
  },
  {
   "cell_type": "markdown",
   "id": "2b0302cf",
   "metadata": {
    "slideshow": {
     "slide_type": "slide"
    }
   },
   "source": [
    "The three most frequent cases are\n",
    "\n",
    "* **Trace norm**   \n",
    "\n",
    "$$p=1 ~~\\Rightarrow ~~ | A |_1 =  {\\rm tr} \\sqrt{A^\\dagger A}$$\n",
    "<br>\n",
    "\n",
    "This norm is equal to the sum of the singular values of $A$ $~\\Rightarrow ~| A |_1  = \\sum_i^r s_i$, where $s_i^2$ are the eigenvalues of $A^\\dagger A$.\n"
   ]
  },
  {
   "cell_type": "markdown",
   "id": "28893f6b",
   "metadata": {
    "slideshow": {
     "slide_type": "slide"
    }
   },
   "source": [
    "*  **Frobenius norm** \n",
    "\n",
    "$$ p=2 ~~\\Rightarrow ~~ | A |_2 =  \\sqrt{{ \\rm tr} A^\\dagger A }\n",
    "$$\n",
    "<br>\n",
    "\n",
    "The Frobenius norm is the one naturally derived from the inner product $~~\n",
    "|A|_2 = \\sqrt{(A,A)}$\n"
   ]
  },
  {
   "cell_type": "markdown",
   "id": "c8b6403c",
   "metadata": {
    "slideshow": {
     "slide_type": "fragment"
    }
   },
   "source": [
    "* **Spectral norm** \n",
    "\n",
    "$$p=\\infty ~~\\Rightarrow ~~  | A |_\\infty = \\lim_{p\\to \\infty} | A |_p\n",
    "$$ \n",
    "<br>\n",
    "\n",
    "It can be shown that the spectral norm is equivalent to the following definition\n",
    "\n",
    "$$\n",
    "|A|_\\infty = \\hbox{max}_{\\ket{u}\\in \\Hil}\\{ \\|A\\ket{u}\\| ~~\\hbox{with} ~ \\|\\ket{u}\\| = 1\\}\n",
    "$$\n"
   ]
  },
  {
   "cell_type": "markdown",
   "id": "a467968b",
   "metadata": {
    "slideshow": {
     "slide_type": "skip"
    }
   },
   "source": [
    "<div class=\"alert alert-block alert-success\">\n",
    "<b>Ejercicio 1.3.10</b>$~$\n",
    "    \n",
    "write, in python, a function  𝑡𝑟𝑎𝑐𝑒\\_𝑛𝑜𝑟𝑚(𝐴)\n",
    ", that calculates the trace norm of an operator.\n",
    "</div>"
   ]
  },
  {
   "cell_type": "markdown",
   "id": "0ae169a9",
   "metadata": {
    "slideshow": {
     "slide_type": "slide"
    }
   },
   "source": [
    "### Trace distance"
   ]
  },
  {
   "cell_type": "markdown",
   "id": "40aeb16e",
   "metadata": {
    "slideshow": {
     "slide_type": "skip"
    }
   },
   "source": [
    "<i>Any norm</i> allows one to define a notion of *distance* or *difference* between two operators.\n"
   ]
  },
  {
   "cell_type": "markdown",
   "id": "e01a7bad",
   "metadata": {
    "slideshow": {
     "slide_type": "-"
    }
   },
   "source": [
    "<div class=\"alert alert-block alert-info\",text-align:center>\n",
    " <p style=\"text-align: left ;color: navy;\">  \n",
    "<b> Definition: </b> <i> (Trace distance) </i> \n",
    "<br>     \n",
    "<br>\n",
    "The <b>trace distance</b> between two operators $A$ and $B$ is defined as the norm of the difference\n",
    "<br> \n",
    "<br>\n",
    "$$\n",
    "d(A,B) = | A - B |_1 \n",
    "$$\n",
    "</div>\n"
   ]
  },
  {
   "cell_type": "markdown",
   "id": "dd75c76b",
   "metadata": {
    "slideshow": {
     "slide_type": "slide"
    }
   },
   "source": [
    "<a id='lin_map'></a>\n",
    "# Linear maps\n",
    "\n",
    "[<<<](#top)"
   ]
  },
  {
   "cell_type": "markdown",
   "id": "33ec9168",
   "metadata": {
    "slideshow": {
     "slide_type": ""
    }
   },
   "source": [
    "<div class=\"alert alert-block alert-info\", text-align:center>\n",
    "<p style=\"text-align: left ;color: navy;\">  \n",
    "<b>Definition</b><i>$~$ Linear map$~$</i>\n",
    "<br>    \n",
    "<br>  given two vector spaces $\\Hil_1$ and $\\Hil_2$, a <i>linear map</i> ${\\cal E}$ is a map among linear operators\n",
    "defined on them\n",
    "<br><br>    \n",
    "$${\\cal E}: \\Lin(\\Hil_1) \\to \\Lin(\\Hil_2)$$\n",
    "<br>\n",
    "such that, for any $A,B\\in \\Lin(\\Hil_1)$ \n",
    "<br>\n",
    "$$\n",
    " {\\cal E} (\\alpha A+ \\beta B) = \\alpha {\\cal E}(A) + \\beta{\\cal E}(B)\n",
    "$$\n",
    "</p>\n",
    "</div>\n",
    "\n",
    "Linear maps form themselves a vector space ${\\cal E} \\in T(\\Hil_1,\\Hil_2)$. "
   ]
  },
  {
   "cell_type": "markdown",
   "id": "22552d9f",
   "metadata": {
    "slideshow": {
     "slide_type": "skip"
    }
   },
   "source": [
    "<div class=\"alert alert-block alert-warning\", text-align:center>\n",
    "<b>Example:</b> \n",
    "<br>\n",
    "The <i>trace functional</i>\n",
    "$$\n",
    "\\Tr A = \\sum_i\\bra{i} A \\ket{i}\n",
    "$$\n",
    "is a linear map    $\\Tr \\in T(U, V = {\\mathbb C})$. Indeed $\\Tr(\\alpha A + \\beta B) = \\alpha\\Tr(A) + \\beta \\Tr(B)$.\n",
    "    \n",
    "</div>\n"
   ]
  },
  {
   "cell_type": "markdown",
   "id": "0410646f",
   "metadata": {
    "slideshow": {
     "slide_type": "slide"
    }
   },
   "source": [
    "<a id='class_lin_map'></a>\n",
    "## Classes of linear maps\n"
   ]
  },
  {
   "cell_type": "markdown",
   "id": "5313f77b",
   "metadata": {
    "slideshow": {
     "slide_type": "-"
    }
   },
   "source": [
    "- **Trace preserving map**\n",
    "\n",
    "${\\cal E}$ is *trace preserving* map if, for any $A \\in U$ \n",
    "$$\n",
    "Tr({\\cal E}(A)) = Tr(A) \n",
    "$$\n",
    "\n"
   ]
  },
  {
   "cell_type": "markdown",
   "id": "e517c0ba",
   "metadata": {
    "slideshow": {
     "slide_type": "fragment"
    }
   },
   "source": [
    "- **Positive map**\n",
    "\n",
    "Remember that $\\hbox{Pos}(\\Hil) \\subset \\Lin(\\Hil)$ is the subset  of *positive semi-definite linear* operators on a Hilbert space $\\Hil$\n",
    "\n",
    "$$\n",
    "A \\in \\hbox{Pos}(U) \\Leftrightarrow \\braket{\\psi}{A\\psi}\\geq 0 ~~~~~ \\forall{\\psi}\\in U\n",
    "$$\n",
    "<br>\n",
    "\n",
    "${\\cal E}\\in T(\\Hil_1,\\Hil_2)$ is a *positive linar map* if it maps\n",
    "$$\n",
    " A\\in \\hbox{Pos}(\\Hil_1) \\to {\\cal E}(A) \\in \\hbox{Pos}(\\Hil_2)\n",
    "$$\n",
    "\n"
   ]
  },
  {
   "cell_type": "markdown",
   "id": "3dafdbde",
   "metadata": {
    "slideshow": {
     "slide_type": "slide"
    }
   },
   "source": [
    "- **Hermiticity preserving maps**\n",
    "\n",
    "${\\cal E}\\in T(\\Hil_1,\\Hil_2)$ is an *hermiticity preserving map* if and only if it maps the subspaces of hermitian operators $\\hbox{Her}(\\Hil) \\in \\Lin(\\Hil)$\n",
    "\n",
    "\n",
    "$$\n",
    " A\\in \\hbox{Her}(\\Hil_1) \\to {\\cal E}(A) \\in \\hbox{Her}(\\Hil_2)\n",
    "$$\n",
    "\n"
   ]
  },
  {
   "cell_type": "markdown",
   "id": "51ef8d75",
   "metadata": {
    "slideshow": {
     "slide_type": "slide"
    }
   },
   "source": [
    "<a id='func_op'></a>\n",
    "# Functions of Operators   \n",
    "\n",
    "[<<<](#top)"
   ]
  },
  {
   "cell_type": "markdown",
   "id": "dd7e56ac",
   "metadata": {},
   "source": [
    "Functions of operators are, in general non-linear maps $f:\\Lin(\\Hil)\\to \\Lin(\\Hil)$ which are defined after some complex valued function $f(z):{\\mathbb C}\\to {\\mathbb C}$. "
   ]
  },
  {
   "cell_type": "markdown",
   "id": "aa9d95a8",
   "metadata": {
    "slideshow": {
     "slide_type": "slide"
    }
   },
   "source": [
    "<a id='anal_func'></a>\n",
    "## Analytic functions \n"
   ]
  },
  {
   "cell_type": "markdown",
   "id": "d883977b",
   "metadata": {
    "slideshow": {
     "slide_type": "skip"
    }
   },
   "source": [
    "We are used to writing functions *of a real or complex variable*. For example \\$f(x)= x^2\\$, or \\$ f(z) = e^z\\$.\n",
    "\n",
    "We would like to give meaning to the function *of an operator*\n",
    "\\$\n",
    "A \\to f(A)\n",
    "\\$\n"
   ]
  },
  {
   "cell_type": "markdown",
   "id": "4e00bc7d",
   "metadata": {
    "slideshow": {
     "slide_type": "-"
    }
   },
   "source": [
    "In the case that \\$f(z)\\$ is an analytic function expressible as a Taylor series around \\$x=0\\$\n",
    "\n",
    "$$\n",
    "f(z) = \\sum_{n=0}^\\infty \\frac{1}{n!} f^{(n)}(0)\\,  z^n\n",
    "$$\n",
    "\n",
    "we will take as **definition** the *same series* changing the argument \\$x\\to A\\$\n",
    "\n",
    "$$\n",
    "f(A) = \\sum_{n=0}^\\infty \\frac{1}{n!} f^{(n)}(0)\\,  A^n\n",
    "$$\n"
   ]
  },
  {
   "cell_type": "markdown",
   "id": "62e4b9f2",
   "metadata": {
    "slideshow": {
     "slide_type": "skip"
    }
   },
   "source": [
    "<div class=\"alert alert-block alert-danger\">\n",
    "    <b>Note:</b> \n",
    "<br>\n",
    "1. In the same way that, for analytic functions, $f(z)^* = f(z^*)$, the above definition also ensures that \n",
    "$f(A)^\\dagger = f(A^\\dagger)$\n",
    "\n",
    "</div>\n",
    "\n"
   ]
  },
  {
   "cell_type": "markdown",
   "id": "2c21b232",
   "metadata": {
    "slideshow": {
     "slide_type": "slide"
    }
   },
   "source": [
    "### Exponential of an operator\n",
    "\n",
    "the exponential of a function $z\\to e^z$ motivates the analogous definition of *exponential of an operator*\n",
    "\n",
    "$$\n",
    "\\exp(A) = e^A = I + A + \\frac{1}{2} A^2 + \\frac{1}{3!} A^3 + ...\n",
    "$$\n"
   ]
  },
  {
   "cell_type": "markdown",
   "id": "fa8d5592",
   "metadata": {
    "slideshow": {
     "slide_type": "fragment"
    }
   },
   "source": [
    "An important property of the exponential  \\$e^x e^y = e^{x+y}\\$, **does not** translate in general to operators. \n",
    "\n",
    "It will  be *only true when they commute with each other*.\n",
    "\n",
    "For the generic case we have two options to work around\n"
   ]
  },
  {
   "cell_type": "markdown",
   "id": "12437f56",
   "metadata": {
    "slideshow": {
     "slide_type": "slide"
    }
   },
   "source": [
    "\n",
    "\n",
    "<div class=\"alert alert-block alert-info\",text-align:center>\n",
    "<p style=\"text-align: left ;color: navy;\">  \n",
    "<b> Theorem: </b><i>Baker-Campbel-Haussdorf</i> \n",
    "<br><br>\n",
    "Let $A,B\\subset{\\rm L}(\\Hil)$ be two generic linear operators. Then\n",
    "<br>\n",
    "<br>\n",
    "$$\n",
    "e^A e^B = e^{\\left({A+B + \\frac{1}{2}[A,B] + \\frac{1}{12}[A,[A,B]]+ \\frac{1}{12}[B,[B,A]] + ...}\\right)}\n",
    "$$\n",
    "<br>\n",
    "</div>\n"
   ]
  },
  {
   "cell_type": "markdown",
   "id": "56c416cd",
   "metadata": {
    "slideshow": {
     "slide_type": "fragment"
    }
   },
   "source": [
    "We see that\n",
    "\n",
    "* If \\$A\\$ and \\$B\\$ commute,\n",
    "\n",
    "$[A,B]=0 ~\\Leftrightarrow ~e^A e^B = e^{A+B}$\n"
   ]
  },
  {
   "cell_type": "markdown",
   "id": "23c58118",
   "metadata": {
    "slideshow": {
     "slide_type": "slide"
    }
   },
   "source": [
    "\n",
    "* If the commutator of \\$A\\$ and \\$B\\$ is a c-number\n",
    "\n",
    "$$[A,B]= c I  ~\\Leftrightarrow ~  e^A e^B = e^{A+B } e^{ \\frac{c}{2}}$$\n",
    "\n"
   ]
  },
  {
   "cell_type": "markdown",
   "id": "a564ddc4",
   "metadata": {
    "slideshow": {
     "slide_type": "fragment"
    }
   },
   "source": [
    "\n",
    "* The inverse of \\$e^A\\$ is \\$e^{-A}\\$ \n",
    "\n",
    "$$[A,A]=0 \\Rightarrow e^A e^{-A} = e^{A-A} = e^0 = I$$"
   ]
  },
  {
   "cell_type": "markdown",
   "id": "c19b6130",
   "metadata": {},
   "source": [
    "The converse of the BCH formula is the *Zassenhaus expression*\n",
    "\n",
    "$$\n",
    "e^{A+B} ~=~ e^{A} e^{B} e^{-\\frac{1}{2}[A,B]} e^{\\frac{1}{6} \\left( \\rule{0mm}{3mm}2[B,[A,B]]+[A,[A,B]]\\right)} \\cdots\n",
    "$$\n",
    "\n",
    "Where the dots involve exponentials of higher nested operators. This leads easily to the following theorem"
   ]
  },
  {
   "cell_type": "markdown",
   "id": "8663ed51",
   "metadata": {
    "slideshow": {
     "slide_type": "slide"
    }
   },
   "source": [
    "<div class=\"alert alert-block alert-info\",text-align:center>\n",
    "<p style=\"text-align: left ;color: navy;\">  \n",
    "<b> Theorem: </b><i>Lie-Suzuki-Trotter</i> \n",
    "<br>\n",
    "Let $A,B\\subset \\Lin(\\Hil)$ be two generic linear operators. Then\n",
    "<br>\n",
    "<br>\n",
    "$$\n",
    "e^{A+B} = \\lim_{n\\to\\infty} \\left(e^{A/n} e^{B/n}\\right)^n\n",
    "$$\n",
    "<br>\n",
    "</div>\n",
    "<details>\n",
    "<summary><p style=\"color:grey;text-align:right\"> >> <i>Proof</i> </p></summary>\n",
    "Using the BCH formula\n",
    "\\begin{align}\n",
    "\\lim_{n\\to\\infty}\\left(e^{A/n} e^{B/n}\\right)^n &= \\lim_{n\\to\\infty}\\left( e^{\\left({A/n+B/n + \\frac{1}{2}[A,B]/n^2 + \\frac{1}{12}[A,[A,B]]/n^3+ \\frac{1}{12}[B,[B,A]]/n^3 + ...}\\right)}\\right)^n  \\\\ \n",
    "&= \\lim_{n\\to\\infty}\\left( e^{\\left({A+B + \\frac{1}{2}[A,B]/n + \\frac{1}{12}[A,[A,B]]/n^2+ \\frac{1}{12}[B,[B,A]]/n^3 + ...}\\right)}\\right) \\\\\n",
    "&= e^{(A+B)}\n",
    "\\end{align}\n",
    "</details>"
   ]
  },
  {
   "cell_type": "markdown",
   "id": "a7f20249",
   "metadata": {
    "slideshow": {
     "slide_type": "slide"
    }
   },
   "source": [
    "### Unitary operators from Hermitian ones\n",
    "\n",
    "Every unitary operator \\$U\\$ can be expressed as the imaginary exponential of a Hermitian operator \\$H\\$\n",
    "\n",
    "$$\n",
    "U = e^{i H}\n",
    "$$\n",
    "Indeed,\n",
    "\\begin{eqnarray}\n",
    "U^\\dagger &=& \\left( e^{iH}\\right)^\\dagger = \\left( 1+ iH + \\frac{1}{2}(i H)^2 + ...\\right)^\\dagger \\\\\n",
    "&=& 1 - iH^\\dagger  + \\frac{1}{2}(-i)^2 (H^2)^\\dagger + ... \\\\\n",
    "&=& 1 - iH +\\frac{1}{2} H^2 - ... \\\\\n",
    "&=& e^{-iH}\\\\ \\rule{0mm}{6mm}\n",
    "&=& U^{-1}\n",
    "\\end{eqnarray}\n",
    "\n",
    "therefore, \\$U\\$ is unitary if and only if \\$H\\$ is Hermitian. <br>\n",
    "\n",
    " "
   ]
  },
  {
   "cell_type": "markdown",
   "id": "05a535ef",
   "metadata": {
    "slideshow": {
     "slide_type": "slide"
    }
   },
   "source": [
    "\n",
    "<a id='Euler_op'></a>\n",
    "### Euler operator  formula\n",
    "\n",
    "<div class=\"alert alert-block alert-info\",text-align:center>\n",
    "<p style=\"text-align: left ;color: navy;\">  \n",
    "<b> Theorem: </b><i>Euler formula</i> \n",
    "<br>\n",
    "<br>    \n",
    "Let $A\\in \\Lin(\\Hil)$ be an operator that satifies $A^2 = I$. Then, for any $\\alpha \\in \\mathbb{C}$ it follows that  \n",
    "<br>\n",
    "<br>\n",
    "$$\n",
    "e^{i \\alpha A} =  \\cos\\alpha I + i \\sin \\alpha\\,A\n",
    "$$\n",
    "<br>\n",
    "</div>\n",
    "\n",
    "</div>\n",
    "<details>\n",
    "<summary><p style=\"text-align:right\"> >> <i>Proof:</i></p></summary>\n",
    "<br>\n",
    "\n",
    "$$\n",
    "\\begin{align}\n",
    "e^{i\\alpha A} &   = I + i\\alpha A + \\frac{1}{2} (i\\alpha A)^2 + \\frac{1}{3!}(i\\alpha A)^3 + ...  \\\\\n",
    "    & = I  + i \\alpha A - \\frac{1}{2} \\alpha^2 I - i\\frac{1}{3!} \\alpha^3 A + ... \\\\\n",
    "    & = \\left(1  - \\frac{1}{2} \\alpha^2  + ...\\right)I + i  \\left(\\alpha  -  \\frac{1}{3!} \\alpha^3  + ... \\right)A \\\\\n",
    "    & = \\cos \\alpha I + i \\sin\\alpha A\n",
    "\\end{align}    \n",
    "$$    \n",
    "</details>\n",
    "    "
   ]
  },
  {
   "cell_type": "markdown",
   "id": "d7ee870c",
   "metadata": {
    "slideshow": {
     "slide_type": "slide"
    }
   },
   "source": [
    "<a id='gen_fun'></a>\n",
    "## General functions"
   ]
  },
  {
   "cell_type": "markdown",
   "id": "e4938f30",
   "metadata": {
    "slideshow": {
     "slide_type": "-"
    }
   },
   "source": [
    "No always $F(z)$ is an analitic function around $z_0$. For example $f(z) = \\exp(1/z)$ around $z_0=0$. Hence, this function cannot be defined through its Taylor expansion. \n",
    "\n",
    "Still, if the function $f(z)$ exists, $f(A)$ will also exist. The proper way to define it is by resorting to the *diagonalized form* of $A$. \n"
   ]
  },
  {
   "cell_type": "markdown",
   "id": "035b46d8",
   "metadata": {
    "slideshow": {
     "slide_type": "fragment"
    }
   },
   "source": [
    "<div class=\"alert alert-block alert-info\",text-align:center>\n",
    " <p style=\"text-align: left ;color: navy\">  <b> Lemma </b> \n",
    "<br>    \n",
    "Let $A$ be a diagonalizable operator, and let $A= \\sum_i \\lambda_i \\ket{\\lambda_i}\\bra{\\lambda_i}$ be its spectral representation. \n",
    "Then the operator $f(A)$ has the following spectral representation\n",
    "<br>  \n",
    "$$\n",
    "f(A) = \\sum_i f(\\lambda_i) \\ket{\\lambda_i}\\bra{\\lambda_i}\n",
    "$$\n",
    "</div>\n"
   ]
  },
  {
   "cell_type": "markdown",
   "id": "957e2165",
   "metadata": {
    "slideshow": {
     "slide_type": "slide"
    }
   },
   "source": [
    "In other words, if the matrix $A^{(D)}_{ij} = \\lambda_i \\delta_{ij}$ is diagonal, any function of it is, trivially, the diagonal matrix obtained by evaluating \\$f(\\lambda\\_i)\\$\n",
    "\n",
    "$$\n",
    "f(A^{(D)}_{ij}) = \\begin{bmatrix} f(\\lambda_1)& &  & \\\\ & f(\\lambda_2) & &  \\\\ & & \\ddots & \\\\ & & & f(\\lambda_n)\\end{bmatrix}\n",
    "$$\n"
   ]
  },
  {
   "cell_type": "markdown",
   "id": "e200cce0",
   "metadata": {
    "slideshow": {
     "slide_type": "slide"
    }
   },
   "source": [
    "<div class=\"alert alert-block alert-warning\">\n",
    "<b>Example 1:</b>\n",
    "    \n",
    "$$e^{1/A} = \\sum_i e^{1/\\lambda_i} \\ket{\\lambda_i}\\bra{\\lambda_i}$$\n",
    "\n",
    "</div>\n"
   ]
  },
  {
   "cell_type": "markdown",
   "id": "76a06109",
   "metadata": {
    "slideshow": {
     "slide_type": "fragment"
    }
   },
   "source": [
    "<div class=\"alert alert-block alert-warning\">\n",
    "<b>Example 2:</b>\n",
    "    \n",
    "\\begin{eqnarray}\n",
    "{\\rm tr}(A \\log A) &=& {\\rm tr}\\left[\\left(\\sum_j \\lambda_j \\ket{\\lambda_j}\\bra{\\lambda_j}\\right)\\left(\\sum_k\\log \\lambda_k \\ket{\\lambda_k}\\bra{\\lambda_k}\\right)\\right] ~=~  {\\rm tr}\\left[\\sum_k \\lambda_k \\log\\lambda_k \\ket{\\lambda_k}\\bra{\\lambda_k} \\right] \\\\ \\rule{0mm}{20mm}\n",
    "&=& {\\rm tr} \\begin{bmatrix} \\lambda_1 \\log \\lambda_1& &  & \\\\ &\\lambda_2 \\log \\lambda_2 & &  \\\\ & & \\ddots & \\\\ & & & \\lambda_n \\log \\lambda_n\n",
    "\\end{bmatrix}\n",
    " ~= ~ \\sum_k \\lambda_k \\log \\lambda_k \\rule{0mm}{8mm}\n",
    "\\end{eqnarray}\n",
    "    \n",
    "</div>"
   ]
  },
  {
   "cell_type": "markdown",
   "id": "3cfee01c",
   "metadata": {
    "slideshow": {
     "slide_type": "slide"
    }
   },
   "source": [
    "\n",
    "<a id='paulis'></a>\n",
    "# Pauli    matrices\n",
    "\n",
    "[<<<](#top)"
   ]
  },
  {
   "cell_type": "markdown",
   "id": "b780744c",
   "metadata": {},
   "source": [
    "Hermitian matrices form a vector subspace \\$\\hbox{Her}(\\Hil)\\subset \\Lin(\\Hil)\\$ that admits a basis of Hermitian matrices.\n"
   ]
  },
  {
   "cell_type": "markdown",
   "id": "2a8365b6",
   "metadata": {
    "slideshow": {
     "slide_type": "-"
    }
   },
   "source": [
    "<div class=\"alert alert-block alert-info\",text-align:center>\n",
    " <p style=\"text-align: left ;color: navy;\">  \n",
    "<b> Definition: </b>  $~$ Pauli  matrices are defined as follows\n",
    "<br>\n",
    "<br>\n",
    "$$\n",
    "\\sigma_x = \\begin{bmatrix} 0 & 1 \\\\ 1 & 0 \\end{bmatrix}~~~~~,~~~~~~~~~\n",
    "\\sigma_y = \\begin{bmatrix} 0 & -i \\\\ i & 0 \\end{bmatrix}~~~~~,~~~~~~~~~\n",
    "\\sigma_z = \\begin{bmatrix} 1 & 0 \\\\ 0 & -1 \\end{bmatrix} \\, .\n",
    "$$\n",
    "</div>\n"
   ]
  },
  {
   "cell_type": "markdown",
   "id": "50438c5f",
   "metadata": {
    "slideshow": {
     "slide_type": "fragment"
    }
   },
   "source": [
    "<div class=\"alert alert-block alert-danger\">\n",
    "<b>Note:</b> integer subscripts are also used.\n",
    "$\\sigma_1=\\sigma_x, ~\n",
    "\\sigma_2=\\sigma_y$  y  $\\sigma_3=\\sigma_z$. \n",
    "<br>"
   ]
  },
  {
   "cell_type": "markdown",
   "id": "642df29e",
   "metadata": {
    "slideshow": {
     "slide_type": "slide"
    }
   },
   "source": [
    "\n",
    "- If we add the identity matrix $~~I = \\begin{bmatrix} 1 & 0 \\\\ 0 & 1 \\end{bmatrix}~~$,  the set $\\{I,\\sigma_x,\\sigma_y,\\sigma_z \\}$ forms a *basis* for the space of *Hermitian matrices* \\$2\\times 2\\$.\n",
    "\n",
    "\\begin{eqnarray}\n",
    "A = a_0 I + {\\bf a} \\cdot \\boldsymbol{\\sigma}  &=&   a_0 I + a_1 \\sigma_1 + a_2 \\sigma_2 + a_3 \\sigma_3  = \n",
    "\\begin{bmatrix}\n",
    "a_0 + a_3 & a_1 - i a_2 \\\\ a_1 + i a_2 & a_0 - a_3\n",
    "\\end{bmatrix} = A^\\dagger\n",
    "\\end{eqnarray}\n",
    "with $a_\\mu = (a_0, a_1, a_2, a_3) \\in {\\mathbb R}$ four real numbers\n",
    "<br>"
   ]
  },
  {
   "cell_type": "markdown",
   "id": "e3d75d52",
   "metadata": {
    "slideshow": {
     "slide_type": "fragment"
    }
   },
   "source": [
    "- Pauli matrices enjoy three properties that make them rather unique\n",
    "\n",
    "     - hermiticity $\\sigma_i^\\dagger = \\sigma_i$\n",
    "\n",
    "     - unitarity $\\sigma_i^\\dagger = \\sigma_i^{-1} = \\sigma_i$\n",
    "\n",
    "     - traceless $\\tr(\\sigma_i) = 0$\n"
   ]
  },
  {
   "cell_type": "markdown",
   "id": "e755bef0",
   "metadata": {
    "slideshow": {
     "slide_type": "slide"
    }
   },
   "source": [
    "<a id='pauli_alg'></a>\n",
    "## Pauli algebra\n",
    "\n",
    "The composition of two Pauli matrices is another Pauli matrix that satisfies the following identity <br>\n",
    "\n",
    "$$\n",
    "\\sigma_i \\sigma_j = \\delta_{ij}I + i\\epsilon_{ijk}  \\sigma_k\n",
    "$$\n",
    "where\n",
    "\n",
    "$$\\epsilon_{123} = \\epsilon_{231}=\\epsilon_{312}=1~~~~,~~~~\\epsilon_{213} = \\epsilon_{132}=\\epsilon_{321}=-1$$"
   ]
  },
  {
   "cell_type": "markdown",
   "id": "2e7613b5",
   "metadata": {
    "slideshow": {
     "slide_type": "fragment"
    }
   },
   "source": [
    "Examples:\n",
    "\n",
    "\\begin{eqnarray}\n",
    "\\sigma_1\\sigma_2 &=& i \\sigma_3  \\\\\n",
    "\\sigma_2\\sigma_1 &=& -i \\sigma_3  \\\\\n",
    "\\sigma_2\\sigma_1\\sigma_2 &=& \\sigma_2(i\\sigma_3) = i^2 \\sigma_1 = -\\sigma_1\\\\\n",
    "\\sigma_2\\sigma_2 &=& I\n",
    "\\end{eqnarray}"
   ]
  },
  {
   "cell_type": "code",
   "execution_count": 12,
   "id": "82656214",
   "metadata": {
    "collapsed": true,
    "jupyter": {
     "outputs_hidden": true
    },
    "slideshow": {
     "slide_type": "slide"
    }
   },
   "outputs": [
    {
     "name": "stdout",
     "output_type": "stream",
     "text": [
      "[[ True  True]\n",
      " [ True  True]]\n",
      "[[ True  True]\n",
      " [ True  True]]\n",
      "[[ True  True]\n",
      " [ True  True]]\n",
      "[[ True  True]\n",
      " [ True  True]]\n",
      "[[ True  True]\n",
      " [ True  True]]\n"
     ]
    }
   ],
   "source": [
    "s0 = np.matrix([[1,0],[0,1]])\n",
    "s1 = np.matrix([[0,1],[1,0]])\n",
    "s2 = np.matrix([[0,-1j],[1j,0]])\n",
    "s3 = np.matrix([[1,0],[0,-1]])\n",
    "\n",
    "\n",
    "'verify all the options'\n",
    "print(s1*s1==s0)\n",
    "print(s1*s2==1j*s3)\n",
    "print(s2*s1==-1j*s3)\n",
    "print(s2*s1*s2==-s1)\n",
    "print(s1*s1==s0)"
   ]
  },
  {
   "cell_type": "markdown",
   "id": "2747a917",
   "metadata": {
    "slideshow": {
     "slide_type": "slide"
    }
   },
   "source": [
    "<div class=\"alert alert-block alert-danger\">\n",
    "<b> Notes: </b> <br>\n",
    "from the previous composition relations the following (anti)commutation rules immediately follow\n",
    "    \n",
    "$$\n",
    "\\{\\sigma_i,\\sigma_j \\} = 2\\delta_{ij}~~~~~~~,~~~~~~~\n",
    "~~~[\\sigma_i,\\sigma_j] = 2i\\epsilon_{ijk}\\sigma_k\n",
    "$$\n",
    "</div>"
   ]
  },
  {
   "cell_type": "markdown",
   "id": "63acee56",
   "metadata": {
    "slideshow": {
     "slide_type": "fragment"
    }
   },
   "source": [
    "\n",
    "Taking the trace of the composition relation we obtain \n",
    "<br>\n",
    "\n",
    "$$\n",
    "{\\rm tr}(\\sigma_i\\sigma_j) = {\\rm tr}(\\delta_{ij}I + i\\epsilon_{ijk}  \\sigma_k)  = \n",
    "\\delta_{ij} \\, {\\rm tr}  I + i\\epsilon_{ijk} \\, {\\rm tr} \\sigma_k  = 2\\delta_{ij}\n",
    "$$\n"
   ]
  },
  {
   "cell_type": "markdown",
   "id": "415fab30",
   "metadata": {
    "slideshow": {
     "slide_type": "slide"
    }
   },
   "source": [
    "This allows to endow the algebra of Pauli mátrices with a scalar product, under which they are orthonormal\n",
    "\n",
    "$$\n",
    "(\\sigma_i, \\sigma_j) \\equiv \\frac{1}{2} {\\rm tr}(\\sigma_i\\sigma_j)  =  \\delta_{ij}\n",
    "$$\n",
    "\n",
    "This can be enhanced to the set $\\sigma_\\mu = (\\sigma_0, \\sigma_1, \\sigma_2, \\sigma_3)$ as\n",
    "\n",
    "$$\n",
    "(\\sigma_\\mu, \\sigma_\\nu) \\equiv \\frac{1}{2} {\\rm tr}(\\sigma_\\mu\\sigma_\\nu)  =  \\delta_{\\mu\\nu}\n",
    "$$\n"
   ]
  },
  {
   "cell_type": "markdown",
   "id": "23bc0867",
   "metadata": {
    "slideshow": {
     "slide_type": "slide"
    }
   },
   "source": [
    "So if $A = \\sum_\\mu a_\\mu \\sigma_\\mu$ we may recover the coefficients $a_\\mu$ thanks to this scalar product\n",
    "\n",
    "\n",
    "\\begin{eqnarray}\n",
    "(A, \\sigma_\\mu) &=& \\frac{1}{2} \\tr\\, A \\sigma_\\mu   =  \\frac{1}{2} \\tr \\big(\\sum_\\nu a_\\mu \\sigma_\\nu \\big) \\sigma_\\mu \\\\\n",
    "&=& \\sum_\\nu a_\\nu \\frac{1}{2}\\tr \\, (\\sigma_\\mu \\sigma_\\nu)  =  \\sum_\\nu a_\\nu \\delta_{\\nu\\mu} \\\\\n",
    "&=& a_\\mu\n",
    "\\end{eqnarray}\n"
   ]
  },
  {
   "cell_type": "markdown",
   "id": "2e981045",
   "metadata": {
    "slideshow": {
     "slide_type": "slide"
    }
   },
   "source": [
    "## Exponentiation\n",
    "\n"
   ]
  },
  {
   "cell_type": "markdown",
   "id": "fa25524a",
   "metadata": {
    "slideshow": {
     "slide_type": "-"
    }
   },
   "source": [
    " Let us consider the most general $2\\times 2$ Hermitian matrix\n",
    "\n",
    "\\begin{eqnarray}\n",
    "A &=& a_0 I + {\\bf a} \\cdot \\boldsymbol{\\sigma} \n",
    "\\end{eqnarray}\n",
    "with $a_\\mu\\in {\\mathbb R}$ . \n",
    "<br>\n",
    "<br>\n",
    "\n",
    "We would like to find an analytic expression for $e^{iA}$ in terms of $~~\n",
    "(a_0,{\\bf a})$ \n"
   ]
  },
  {
   "cell_type": "markdown",
   "id": "01a81624",
   "metadata": {
    "slideshow": {
     "slide_type": "slide"
    }
   },
   "source": [
    "Separate \\${\\bf a}\\$ into a modulus, $a=|{\\bf a}|=\\sqrt{a_1^2+a_2^3+a_3^2}~$, and a unit direction vector $\\hat{\\bf n} = {\\bf a}/a$\n",
    "\n",
    "$${\\bf a} = (a_1,a_2,a_3) = a \\left( \\frac{a_1}{a},\\frac{a_2}{a},\\frac{a_3}{a}\\right) =  a\\, \\hat{\\bf n}$$\n",
    "\n",
    " Then \n",
    "\n",
    "$$\n",
    "A = a_0 I +  {\\bf a} \\cdot \\boldsymbol{\\sigma} =  a_0 I + a\\, (\\hat{\\bf n} \\cdot \\boldsymbol{\\sigma})\n",
    "$$\n"
   ]
  },
  {
   "cell_type": "markdown",
   "id": "ff5c0fe8",
   "metadata": {
    "slideshow": {
     "slide_type": "fragment"
    }
   },
   "source": [
    "<div class=\"alert alert-block alert-info\",text-align:center>\n",
    "<p style=\"text-align: left ;color: navy;\">  \n",
    "<b> Lemma </b>  $~$ \n",
    "$$\n",
    "\\exp \\left( \\rule{0mm}{4mm} i\\,   {\\bf a} \\cdot \\boldsymbol{\\sigma}  \\right) = \\cos a\\, I + i \\sin a \\,(\\hat{\\bf n} \\cdot  \\boldsymbol{\\sigma}) \\, \n",
    "$$\n",
    "<br>\n",
    "</div>"
   ]
  },
  {
   "cell_type": "markdown",
   "id": "554b92e6",
   "metadata": {
    "slideshow": {
     "slide_type": "slide"
    }
   },
   "source": [
    "*Proof:*\n",
    "    \n",
    "The operator $ \\hat{\\bf n}\\cdot  \\boldsymbol{\\sigma}$ verifies $\\big(\\hat{\\bf n}\\cdot  \\boldsymbol{\\sigma}\\big)^2 = I$. Let us check\n",
    "<br>\n",
    "<br>\n",
    "$$\n",
    "(\\hat{\\bf n} \\cdot \\boldsymbol{\\sigma})^2 = n_i n_j \\sigma_i \\sigma_j =\n",
    "n_i n_j (\\delta_{ij} I + i \\epsilon_{ijk} \\sigma_k) = \\sum_i (n_i)^2 I \n",
    "$$    \n",
    "since $n_in_j$ is symmetric under exchange of $i,j$ while $\\epsilon_{ijk}$ is antisymmetric.\n",
    "The lemma follows from a previous theorem for the [Euler operator formula](#Euler_op)."
   ]
  },
  {
   "cell_type": "markdown",
   "id": "b19ec320",
   "metadata": {
    "slideshow": {
     "slide_type": "skip"
    }
   },
   "source": [
    "This generalizes Euler’s formula for a complex phase.\n",
    "\n",
    "$$ e^{i\\alpha} = \\cos\\alpha + i \\sin\\alpha $$\n",
    "<br>\n"
   ]
  },
  {
   "cell_type": "markdown",
   "id": "9dc3da4a",
   "metadata": {
    "slideshow": {
     "slide_type": "slide"
    }
   },
   "source": [
    "The final expression for \n",
    "\n",
    "$$\n",
    "e^{iA} = e^{i(a_0 I + {\\bf a} \\cdot \\boldsymbol{\\sigma}) } = e^{i\\alpha_0} \\big(\\cos a\\, I + i \\sin a \\,(\\hat{\\bf n} \\cdot  \\boldsymbol{\\sigma}) \\big)\n",
    "$$"
   ]
  },
  {
   "cell_type": "markdown",
   "id": "ab24cedf",
   "metadata": {
    "slideshow": {
     "slide_type": "skip"
    }
   },
   "source": [
    "<div class=\"alert alert-block alert-success\">\n",
    "<b> Exercise 1.3.12 </b> <br> \n",
    "\n",
    "Obtain the spectral decomposition of the three Pauli matrices, \\$\\sigma\\_x, \\sigma\\_y\\$ and \\$\\sigma\\_z\\$.\n",
    "\n",
    "Use this decomposition to prove that\n",
    "\n",
    "</div>\n",
    "$$\n",
    "e^{i \\alpha\\,  {\\bf n}\\cdot\\boldsymbol{\\sigma}} = \\cos \\alpha \\, I + i \\sin \\alpha \\, {\\bf n}\\cdot\\boldsymbol{\\sigma}\n",
    "$$\n",
    "</div>"
   ]
  },
  {
   "cell_type": "code",
   "execution_count": 13,
   "id": "b6a11eb3",
   "metadata": {
    "slideshow": {
     "slide_type": "slide"
    }
   },
   "outputs": [
    {
     "name": "stdout",
     "output_type": "stream",
     "text": [
      "a= 1.193860017140821\n"
     ]
    },
    {
     "data": {
      "text/latex": [
       "$$\n",
       "\n",
       "\\begin{bmatrix}\n",
       "0.3633607915 & 0.4809988904 & 0.7978778118  \\\\\n",
       " \\end{bmatrix}\n",
       "$$"
      ],
      "text/plain": [
       "<IPython.core.display.Latex object>"
      ]
     },
     "metadata": {},
     "output_type": "display_data"
    },
    {
     "data": {
      "text/latex": [
       "$$\n",
       "exp(s1)=\n",
       "\\begin{bmatrix}\n",
       "0.3680735922 + 0.7418641253 i & 0.4472311622 + 0.3378516507 i  \\\\\n",
       " -0.4472311622 + 0.3378516507 i & 0.3680735922 - 0.7418641253 i  \\\\\n",
       " \\end{bmatrix}\n",
       "$$"
      ],
      "text/plain": [
       "<IPython.core.display.Latex object>"
      ]
     },
     "metadata": {},
     "output_type": "display_data"
    },
    {
     "data": {
      "text/latex": [
       "$$\n",
       "exp(s1)=\n",
       "\\begin{bmatrix}\n",
       "0.3680735922 + 0.7418641253 i & 0.4472311622 + 0.3378516507 i  \\\\\n",
       " -0.4472311622 + 0.3378516507 i & 0.3680735922 - 0.7418641253 i  \\\\\n",
       " \\end{bmatrix}\n",
       "$$"
      ],
      "text/plain": [
       "<IPython.core.display.Latex object>"
      ]
     },
     "metadata": {},
     "output_type": "display_data"
    }
   ],
   "source": [
    "from scipy.linalg import expm\n",
    "\n",
    "\n",
    "avec = np.random.rand(3)\n",
    "a = np.linalg.norm(avec)\n",
    "nvec = avec/a\n",
    "print('a=',a)\n",
    "display(array_to_latex(nvec))\n",
    "\n",
    "sigvec = np.array([s1,s2,s3])\n",
    "\n",
    "\n",
    "adots= sum(list(avec[i]*sigvec[i] for i in range(3)))\n",
    "\n",
    "'exponentiating'\n",
    "e1 = expm(1j*adots)\n",
    "\n",
    "'using the Euler-like formula'\n",
    "ndots= sum(list(nvec[i]*sigvec[i] for i in range(3)))\n",
    "e2 = np.cos(a)*s0 + 1j*np.sin(a)*(nvec[0]*sigvec[0]+nvec[1]*sigvec[1]+nvec[2]*sigvec[2])\n",
    "\n",
    "'verify'\n",
    "display(array_to_latex(e1,prefix='exp(s1)='))\n",
    "display(array_to_latex(e2,prefix='exp(s1)='))\n"
   ]
  }
 ],
 "metadata": {
  "celltoolbar": "Slideshow",
  "kernelspec": {
   "display_name": "Python (ficc_notebook)",
   "language": "python",
   "name": "ficc_env"
  },
  "language_info": {
   "codemirror_mode": {
    "name": "ipython",
    "version": 3
   },
   "file_extension": ".py",
   "mimetype": "text/x-python",
   "name": "python",
   "nbconvert_exporter": "python",
   "pygments_lexer": "ipython3",
   "version": "3.9.13"
  },
  "nbTranslate": {
   "displayLangs": [
    "*"
   ],
   "hotkey": "alt-t",
   "langInMainMenu": true,
   "sourceLang": "en",
   "targetLang": "fr",
   "useGoogleTranslate": true
  },
  "toc": {
   "base_numbering": 1,
   "nav_menu": {},
   "number_sections": true,
   "sideBar": true,
   "skip_h1_title": false,
   "title_cell": "Table of Contents",
   "title_sidebar": "Contents",
   "toc_cell": false,
   "toc_position": {
    "height": "calc(100% - 180px)",
    "left": "10px",
    "top": "150px",
    "width": "310.33px"
   },
   "toc_section_display": true,
   "toc_window_display": false
  },
  "varInspector": {
   "cols": {
    "lenName": 16,
    "lenType": 16,
    "lenVar": 40
   },
   "kernels_config": {
    "python": {
     "delete_cmd_postfix": "",
     "delete_cmd_prefix": "del ",
     "library": "var_list.py",
     "varRefreshCmd": "print(var_dic_list())"
    },
    "r": {
     "delete_cmd_postfix": ") ",
     "delete_cmd_prefix": "rm(",
     "library": "var_list.r",
     "varRefreshCmd": "cat(var_dic_list()) "
    }
   },
   "types_to_exclude": [
    "module",
    "function",
    "builtin_function_or_method",
    "instance",
    "_Feature"
   ],
   "window_display": false
  }
 },
 "nbformat": 4,
 "nbformat_minor": 5
}
