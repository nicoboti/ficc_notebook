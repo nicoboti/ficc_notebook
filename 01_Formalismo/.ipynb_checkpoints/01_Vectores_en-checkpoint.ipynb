{
 "cells": [
  {
   "cell_type": "markdown",
   "id": "da0f67e0",
   "metadata": {
    "slideshow": {
     "slide_type": "slide"
    }
   },
   "source": [
    "<img src=\"../figures/logos/logo_usc.jpg\" align=right width='80px'/>\n",
    "<br>\n",
    "\n",
    "\n",
    "<table width=\"100%\"><td style=\"font-size:40px;font-style:italic;text-align:left;background-color:rgba(0,220, 170,0.7)\">\n",
    " Vectors </td></table>\n",
    "\n",
    "$ \\renewcommand{\\bra}[1]{\\langle #1|} $\n",
    "$ \\renewcommand{\\ket}[1]{|#1\\rangle} $\n",
    "$ \\renewcommand{\\braket}[2]{\\langle #1|#2\\rangle} $\n",
    "$ \\renewcommand{\\i}{{\\color{blue} i}} $ \n",
    "$ \\renewcommand{\\Hil}{{\\cal H}} $\n",
    "$ \\renewcommand{\\Lin}{\\hbox{Lin}} $\n",
    "$ \\renewcommand{\\R}{{\\mathbb R}} $\n",
    "$ \\renewcommand{\\C}{{\\mathbb C}} $\n",
    "$ \\renewcommand{\\V}{{ V}} $\n"
   ]
  },
  {
   "cell_type": "code",
   "execution_count": 4,
   "id": "cdee0489",
   "metadata": {
    "slideshow": {
     "slide_type": "-"
    }
   },
   "outputs": [],
   "source": [
    "import sys\n",
    "sys.path.append('../')\n",
    "import macro_tQ as tQ\n",
    "\n",
    "import numpy as np\n",
    "from IPython.display import display,Markdown,Latex\n",
    "from qiskit.visualization import array_to_latex\n",
    "from qiskit.quantum_info import Statevector\n"
   ]
  },
  {
   "cell_type": "markdown",
   "id": "48701357",
   "metadata": {
    "slideshow": {
     "slide_type": "skip"
    }
   },
   "source": [
    "# Complex Vector Space"
   ]
  },
  {
   "cell_type": "markdown",
   "id": "0f51488c",
   "metadata": {
    "slideshow": {
     "slide_type": "skip"
    }
   },
   "source": [
    "### Definition\n",
    "\n",
    "In a somewhat informal way, we will define a *vector of dimension* $N$ as a column of $N$ complex numbers \n",
    "<br>\n",
    "<br>\n",
    "$$\n",
    "|u\\rangle = \\begin{pmatrix} {u_1}\\\\ {u_2}\\\\ \\vdots \\\\ {u_N} \n",
    "\\end{pmatrix}\n",
    "$$\n"
   ]
  },
  {
   "cell_type": "markdown",
   "id": "097c2add",
   "metadata": {
    "slideshow": {
     "slide_type": "skip"
    }
   },
   "source": [
    "- The symbol $\\ket{u}$ *represents* the vector and is called *ket* in *Dirac notation*\n",
    "\n",
    "- The complex numbers $u_i \\in {\\mathbb C}$ with $\\, i=1,...,N$ are called *components* of the vector $\\ket{u}$ (in a given basis).\n"
   ]
  },
  {
   "cell_type": "markdown",
   "id": "2deaa11e",
   "metadata": {
    "slideshow": {
     "slide_type": "skip"
    }
   },
   "source": [
    "<div class=\"alert alert-block alert-info\",text-align:center>\n",
    "<p style=\"text-align: center;\"> <p style=\"text-align: left ;color: navy;\">  \n",
    "    <b> Definition: </b> <i>Vector Space</i>\n",
    "<br>    \n",
    "    the collection of <i>all possible vectors</i> of $N$ components, with the properties of addition and multiplication form a <b>vector space</b>, $\\V$ of complex dimension $N$\n",
    "<br>    \n",
    "</div>"
   ]
  },
  {
   "cell_type": "markdown",
   "id": "e239bbfb",
   "metadata": {
    "slideshow": {
     "slide_type": "skip"
    }
   },
   "source": [
    "that is, in a vector space we have two possible operations:\n",
    "\n",
    "- add two vectors  \n",
    "$$\n",
    " |u\\rangle + \\ket{v}~ =~\\, \n",
    "\\begin{pmatrix} {u_1}+v_1\\\\ {u_2}+v_2\\\\ \\vdots \\\\ {u_N}+v_n \\end{pmatrix} ~= ~\\ket{w}\n",
    "$$\n",
    "- multiply a vector by a complex number $\\lambda\\in {\\mathbb C}$\n",
    "<br>\n",
    "<br>\n",
    "\n",
    "$$\n",
    " \\lambda|u\\rangle ~ =~   \\begin{pmatrix} {\\lambda u_1}\\\\ {\\lambda u_2}\\\\ \\vdots \\\\ {\\lambda u_N} \\end{pmatrix} ~\\equiv~\\ket{\\lambda u}\n",
    "$$"
   ]
  },
  {
   "cell_type": "markdown",
   "id": "246749e1",
   "metadata": {
    "slideshow": {
     "slide_type": "skip"
    }
   },
   "source": [
    "- every vector of $V$ is denoted by the symbol $\\ket{v}$ except one, the *neutral element* which is written as $0$.\n",
    "<br>\n",
    "<br>\n",
    "The existence of an <i>opposite element</i> and a <i>neutral element</i> is one of the properties that define a vector space\n",
    "<br>\n",
    "\n",
    "\\begin{align}\n",
    "\\ket{v} + 0 &= \\ket{v} \\nonumber\\\\  \\rule{0mm}{5mm}\n",
    "\\ket{v} + \\ket{\\hbox{-}v} &= \\ket{v}-\\ket{v} = 0 \\nonumber\\\\\n",
    "\\end{align}"
   ]
  },
  {
   "cell_type": "markdown",
   "id": "2450c65b",
   "metadata": {
    "slideshow": {
     "slide_type": "skip"
    }
   },
   "source": [
    "<div class=\"alert alert-block alert-danger\">\n",
    "<b>Note</b>:     \n",
    "\n",
    "The <b>dimension</b> is equal to the number of quantities (<i>degrees of freedom</i>) that we must fix to specify a vector. \n",
    "\n",
    "<br>\n",
    "    \n",
    "But $N$ complex numbers are equivalent to $2N$ real numbers. \n",
    "\n",
    "<br>\n",
    "   \n",
    "Therefore, we can say that:  \n",
    "the <i>complex dimension</i> of a complex vector space $\\V$ is $N$, or that its <i>real dimension</i> is $2N$ \n",
    "<br>\n",
    "<br>\n",
    "$$\n",
    "{\\rm dim}_{\\mathbb C} \\V = N ~~~~\\Longleftrightarrow ~~~   {\\rm dim}_{\\mathbb R} \\V = 2N \n",
    "$$\n",
    "</div>\n"
   ]
  },
  {
   "cell_type": "markdown",
   "id": "b022e657",
   "metadata": {
    "slideshow": {
     "slide_type": "skip"
    }
   },
   "source": [
    "Formally, this vector space is equivalent (*isomorphic*) to the Cartesian product \n",
    "$$\\V_N \\sim {\\mathbb C}^N = \\overbrace{{\\mathbb C}\\times{\\mathbb C}\\times...{\\mathbb C}}^{N}$$ \n",
    "\n",
    "formed by strings of $N$ complex numbers $N$*-tuples*, with the property of addition and multiplication \n",
    "<br>\n",
    "<br>\n",
    "Looking ahead a bit, the case $N=2$ is the one that plays a fundamental role in quantum computing: a *qubit* is a vector of ${\\mathbb C}^2$. In the case $N=d$, we talk about a *qudit*."
   ]
  },
  {
   "cell_type": "code",
   "execution_count": 5,
   "id": "d6e8f76a",
   "metadata": {
    "slideshow": {
     "slide_type": "skip"
    }
   },
   "outputs": [
    {
     "data": {
      "text/latex": [
       "$$\n",
       "\n",
       "\\begin{bmatrix}\n",
       "1 + i  \\\\\n",
       " 2 - 3 i  \\\\\n",
       " 2  \\\\\n",
       " i  \\\\\n",
       " \\end{bmatrix}\n",
       "$$"
      ],
      "text/plain": [
       "<IPython.core.display.Latex object>"
      ]
     },
     "metadata": {},
     "output_type": "display_data"
    },
    {
     "data": {
      "text/latex": [
       "$$(1 + i) |00\\rangle+(2 - 3 i) |01\\rangle+2 |10\\rangle+i |11\\rangle$$"
      ],
      "text/plain": [
       "<IPython.core.display.Latex object>"
      ]
     },
     "execution_count": 5,
     "metadata": {},
     "output_type": "execute_result"
    }
   ],
   "source": [
    "\n",
    "uket=np.array([[1 + 1.j],[2-3*1.j],[2],[+1.j]])\n",
    " \n",
    "display(array_to_latex(uket))\n",
    "Statevector(uket).draw('latex')"
   ]
  },
  {
   "cell_type": "markdown",
   "id": "0d8812e4",
   "metadata": {
    "slideshow": {
     "slide_type": "skip"
    }
   },
   "source": [
    "## Adjoint Conjugation\n",
    "\n",
    "The operation *adjoint conjugation*,  $\\dagger$, is an *extension* of the *complex conjugation* of ${\\mathbb C}$ to all elements of $\\Hil$"
   ]
  },
  {
   "cell_type": "markdown",
   "id": "5b63c41e",
   "metadata": {
    "slideshow": {
     "slide_type": "skip"
    }
   },
   "source": [
    "Associated with each *ket* $\\ket{u}$, we define an **adjoint** vector, or *bra* $\\bra{u}\\equiv\\left(\\ket{u}\\right)^\\dagger$, which we represent as a row vector with the complex conjugate components.  \n",
    "<br>\n",
    "<br>\n",
    "$$\n",
    "\\dagger \\,: \\quad\\,|u\\rangle = \\begin{pmatrix} {u_1}\\\\ {u_2}\\\\ \\vdots \\\\ {u_N} \n",
    "\\end{pmatrix} ~~~~~{\\rightarrow}~~~~~~ \\left(\\ket{u}\\right)^\\dagger \\equiv \\bra{u} =\\begin{pmatrix} {u_1^*} & {u_2^*} & \\cdots & {u_N^*}\n",
    "\\end{pmatrix}\n",
    "$$\n",
    "\n",
    "<hr />"
   ]
  },
  {
   "cell_type": "markdown",
   "id": "0c8798dc",
   "metadata": {
    "slideshow": {
     "slide_type": "skip"
    }
   },
   "source": [
    "Consistently we find for the product of a vector by a complex number $\\lambda$\n",
    "\n",
    "$$\n",
    "\\dagger \\,:\\quad\\,  \\lambda\\ket{u}=\\ket{\\lambda u} ~~~~~{\\rightarrow}~~~~~~ \\left(\\lambda\\ket{u}\\right)^\\dagger=\\lambda^*\\bra{u} = \\bra{u}\\lambda^* = \\bra{\\lambda u}\n",
    "$$\n",
    "\n",
    "since the product of a vector by a number is commutative."
   ]
  },
  {
   "cell_type": "markdown",
   "id": "7c37fb73",
   "metadata": {
    "slideshow": {
     "slide_type": "skip"
    }
   },
   "source": [
    "Like complex conjugation, the adjoint conjugation is an *involution*: its successive application returns the original vector\n",
    "\n",
    "$$\n",
    "(\\ket{u}^\\dagger)^\\dagger =\\bra{u}^\\dagger =  \\ket{u}\n",
    "$$\n",
    "\n",
    "that is, $\\dagger^2 = I$, the identity operator.\n"
   ]
  },
  {
   "cell_type": "code",
   "execution_count": 4,
   "id": "480c365a",
   "metadata": {
    "slideshow": {
     "slide_type": "skip"
    }
   },
   "outputs": [
    {
     "data": {
      "text/latex": [
       "$$\n",
       "\n",
       "\\begin{bmatrix}\n",
       "1 + i  \\\\\n",
       " 2 - 3 i  \\\\\n",
       " \\end{bmatrix}\n",
       "$$"
      ],
      "text/plain": [
       "<IPython.core.display.Latex object>"
      ]
     },
     "metadata": {},
     "output_type": "display_data"
    },
    {
     "data": {
      "text/latex": [
       "$$\n",
       "\n",
       "\\begin{bmatrix}\n",
       "1 - i & 2 + 3 i  \\\\\n",
       " \\end{bmatrix}\n",
       "$$"
      ],
      "text/plain": [
       "<IPython.core.display.Latex object>"
      ]
     },
     "metadata": {},
     "output_type": "display_data"
    }
   ],
   "source": [
    "\n",
    "'definamos un ket'\n",
    "uket=np.array([[1+1j],[2-3*1.j]])\n",
    "display(array_to_latex(uket))\n",
    "#print(uket.shape)\n",
    "\n",
    "'el bra asociado será una fila formada por las componentes conjugadas complejas'\n",
    "ubra=uket.conj().T\n",
    "\n",
    "display(array_to_latex(ubra))\n",
    "#print(ubra.shape)\n"
   ]
  },
  {
   "cell_type": "markdown",
   "id": "cfb489a9",
   "metadata": {
    "slideshow": {
     "slide_type": "slide"
    }
   },
   "source": [
    "# Bases"
   ]
  },
  {
   "cell_type": "markdown",
   "id": "e6a1f05e",
   "metadata": {
    "slideshow": {
     "slide_type": "-"
    }
   },
   "source": [
    "<div class=\"alert alert-block alert-info\",text-align:center>\n",
    "<p style=\"text-align: center;\"> <p style=\"text-align: left ;color: navy;\">  \n",
    "<b> Definition: </b> \n",
    "<br>    \n",
    "in a vector space $V$ of dimension $N$, a <b>basis</b> is a collection of $N$ vectors $\\{\\ket{e_1},...,\\ket{e_N}\\}$ such that any vector $\\ket{v}\\in V$ can be expressed as a <i>linear combination</i> of them\n",
    "<br>\n",
    "<br>\n",
    "$$\n",
    "\\ket{v} = \\sum_{i=1}^N v_i \\ket{e_i}\n",
    "$$  \n",
    "<br>\n",
    "    The coefficients $v_i$ are the <i>\n",
    "    components</i> of $\\ket{v}$ <b>in the given basis</b>.\n",
    "</div>"
   ]
  },
  {
   "cell_type": "markdown",
   "id": "35b98edc",
   "metadata": {
    "slideshow": {
     "slide_type": "skip"
    }
   },
   "source": [
    "There are *infinite bases* in a vector space. We can choose one of them and associate it with the following set of columns\n",
    "\n",
    "<br>\n",
    "\n",
    "$$\n",
    "|e_1\\rangle \\sim \\begin{pmatrix} 1 \\\\ 0 \\\\ 0\\\\ \\vdots \n",
    "\\\\ 0 \\\\ 0 \\end{pmatrix}~~~~\n",
    "|e_2\\rangle \\sim \\begin{pmatrix} 0 \\\\ 1 \\\\ 0\\\\ \\vdots \n",
    "\\\\ 0 \\\\ 0 \\end{pmatrix}~~~~~~~~~\n",
    "\\cdots ~~~~~~~~\n",
    "|e_{N-1}\\rangle \\sim \\begin{pmatrix} 0 \\\\ 0 \\\\ 0\\\\\\vdots \n",
    "\\\\ 1 \\\\ 0 \\end{pmatrix}~~~~\n",
    "|e_N\\rangle \\sim \\begin{pmatrix} 0 \\\\ 0 \\\\0\\\\ \\vdots \n",
    "\\\\ 0 \\\\ 1 \\end{pmatrix}\n",
    "$$\n",
    "<br>\n",
    "\n",
    "\n",
    "<hr />"
   ]
  },
  {
   "cell_type": "markdown",
   "id": "97993616",
   "metadata": {
    "slideshow": {
     "slide_type": "skip"
    }
   },
   "source": [
    "Any vector, written as a linear combination of its elements, acquires the usual representation\n",
    "<br>\n",
    "\n",
    "$$\n",
    "|u\\rangle ~=~ {u_1} |e_1 \\rangle + {u_2} | e_2\\rangle +... + {u_{ N}}|e_{ N}\\rangle~=~ \\sum_{i=1}^N {u_ i} |e_i\\rangle \\,\\sim\n",
    "$$\n",
    "\n",
    "<br>\n",
    "\n",
    "$$\n",
    "\\sim~ {u_1} \\begin{pmatrix} 1 \\\\ 0 \\\\ 0\\\\ \\vdots \n",
    "\\\\ 0 \\\\ 0 \\end{pmatrix} \\,+\\,{u_2} \\begin{pmatrix} 0 \\\\ 1 \\\\ 0\\\\ \\vdots \\\\ 0 \\\\ 0 \\end{pmatrix}~+~ ... ~+ ~\n",
    "{u_{N-1}} \\begin{pmatrix} 0 \\\\ 0 \\\\ 0\\\\\\vdots \n",
    "\\\\ 1 \\\\ 0 \\end{pmatrix}+ \n",
    "\\,{u_N}\\,  \\begin{pmatrix} 0 \\\\ 0 \\\\0\\\\ \\vdots \n",
    "\\\\ 0 \\\\ 1 \\end{pmatrix}~~~= ~~~\n",
    "  \\begin{pmatrix} {u_1} \\\\ {u_2} \\\\{u_3}\\\\ \\vdots \n",
    "\\\\ \\,{u_{N-1}}\\, \\\\ {u_{N}} \\end{pmatrix}\n",
    "$$\n",
    "\n",
    "<br>"
   ]
  },
  {
   "cell_type": "markdown",
   "id": "45808943",
   "metadata": {
    "slideshow": {
     "slide_type": "skip"
    }
   },
   "source": [
    "We can use the **Statevector** class from *qiskit* to have an expansion in the basis $\\{\\ket{e_i}=\\ket{b(i)}\\}$, where $b(i)$ is the binary representation of the index $i$. For example, $b(3) = 11$."
   ]
  },
  {
   "cell_type": "code",
   "execution_count": 5,
   "id": "a68ad21a",
   "metadata": {
    "slideshow": {
     "slide_type": "skip"
    }
   },
   "outputs": [
    {
     "data": {
      "text/latex": [
       "$$\n",
       "\n",
       "\\begin{bmatrix}\n",
       "1 + i  \\\\\n",
       " 2 - 3 i  \\\\\n",
       " 2 + 2 i  \\\\\n",
       " -1 - i  \\\\\n",
       " \\end{bmatrix}\n",
       "$$"
      ],
      "text/plain": [
       "<IPython.core.display.Latex object>"
      ]
     },
     "metadata": {},
     "output_type": "display_data"
    },
    {
     "data": {
      "text/latex": [
       "$$(1 + i) |00\\rangle+(2 - 3 i) |01\\rangle+(2 + 2 i) |10\\rangle+(-1 - i) |11\\rangle$$"
      ],
      "text/plain": [
       "<IPython.core.display.Latex object>"
      ]
     },
     "execution_count": 5,
     "metadata": {},
     "output_type": "execute_result"
    }
   ],
   "source": [
    "from qiskit.quantum_info import Statevector\n",
    "uket=np.array([[ 1.+1.j], [ 2.-3.j],[ 2.+2.j],[-1.-1.j]])\n",
    "display(array_to_latex(uket))\n",
    "\n",
    "Statevector(uket).draw('latex')"
   ]
  },
  {
   "cell_type": "markdown",
   "id": "2cfce470",
   "metadata": {
    "slideshow": {
     "slide_type": "slide"
    }
   },
   "source": [
    "## Change of Basis\n",
    "\n",
    "There are *infinite* bases in a finite-dimensional vector space. All of them can be used to represent an arbitrary vector.\n",
    "\n",
    "Let's consider two bases \n",
    "$\\{\\ket{e_i}\\}$ and $\\{\\ket{\\tilde e_j}\\}$ where $ i,j = 1,...,N$:"
   ]
  },
  {
   "cell_type": "markdown",
   "id": "9138b38c",
   "metadata": {
    "slideshow": {
     "slide_type": "fragment"
    }
   },
   "source": [
    "any *element* (vector) <u>of a basis</u> can be expressed as a *linear combination of elements* <u>of the other</u> \n",
    "\n",
    "$$\n",
    "\\ket{\\tilde e_j} = \\sum_{i=1}^N C_{ i j} \\ket{e_i} ~~~~~~~j=1,..., N\n",
    "$$\n",
    "\n",
    "\n",
    "The coefficients $C_{ i j}\\in {\\mathbb C}$ constitute the *matrix* $C_{ij}$ of *basis change*\n",
    "\n"
   ]
  },
  {
   "cell_type": "markdown",
   "id": "17030dbd",
   "metadata": {
    "slideshow": {
     "slide_type": "skip"
    }
   },
   "source": [
    "<div class=\"alert alert-block alert-danger\">\n",
    "    <b>Note</b>: the way the indices are summed \n",
    "<br>\n",
    "\n",
    "$$\\ket{\\tilde e_j} = \\sum_{i=1}^N C_{ \\textcolor{blue}{i} j} \\ket{e_\\textcolor{blue}{i}}$$\n",
    "<br>\n",
    "This means that, if we want to write this equation in matrix notation, we must place the vectors in a row\n",
    "    \n",
    "$$\n",
    "\\begin{pmatrix} \\ket{\\tilde e_1} & \\cdots & \\ket{\\tilde e_N} \\end{pmatrix} = \n",
    "\\begin{pmatrix} \\ket{ e_1} & \\cdots & \\ket{e_N}\\end{pmatrix}\n",
    "\\begin{pmatrix} C_{11} & \\cdots & C_{1N} \\\\ \\vdots & \\ddots & \\vdots \\\\ C_{N1} & \\cdots & C_{NN} \\end{pmatrix}\n",
    "$$\n",
    "<br>\n",
    "</div>"
   ]
  },
  {
   "cell_type": "markdown",
   "id": "f85f42bf",
   "metadata": {
    "slideshow": {
     "slide_type": "skip"
    }
   },
   "source": [
    "<div class=\"alert alert-block alert-warning\">\n",
    "<b>Example</b>: let there be a new basis $\\{\\ket{f_1},\\ket{f_2}\\}$ defined in terms of the old one by\n",
    "\n",
    "$$\\ket{f_1} = \\frac{1}{\\sqrt{2}}\\left(\\rule{0mm}{4mm}\\ket{e_1} + i\\ket{e_2}\\right)~,~~\\ket{f_2} = \\frac{1}{\\sqrt{2}}\\left( \\rule{0mm}{4mm}\\ket{e_1} - i\\ket{e_2}\\right)\\, .\n",
    "$$\n",
    "\n",
    "The coefficient matrix is\n",
    "\n",
    "$$\n",
    "C_{ij} = \\frac{1}{\\sqrt{2}}\\begin{bmatrix} 1 & 1 \\\\ i & -i \\end{bmatrix}\\, ,\n",
    "$$\n",
    "\n",
    "The change of basis, using this matrix, is written in matrix form\n",
    "\n",
    "$$\n",
    "(\\ket{f_1},\\ket{f_2}) = (\\ket{e_1},\\ket{e_2}) \\cdot \\frac{1}{\\sqrt{2}}\\begin{bmatrix} 1 & 1 \\\\ i & -i \\end{bmatrix}\n",
    "$$"
   ]
  },
  {
   "cell_type": "markdown",
   "id": "a352fb0a",
   "metadata": {
    "slideshow": {
     "slide_type": "slide"
    }
   },
   "source": [
    "A vector can be expanded in both bases \n",
    "\n",
    "$$~~\\ket{v}  = \\sum_{i} v_i \\color{blue}{\\ket{e_i}} = \\sum_j \\tilde v_j \\color{magenta}{\\ket{\\tilde e_j}}$$\n",
    "\n",
    "<br>\n",
    "<center>\n",
    "<figure>\n",
    "<a id='fig_ref'></a>\n",
    "<img src=\"figuras/Ortogonal_Decomp.png\" align=center width='300px'/>\n",
    "    <center>Caption of the figure</center>\n",
    "</figure>\n",
    "</center>\n",
    "<br>"
   ]
  },
  {
   "cell_type": "markdown",
   "id": "07bda4d6",
   "metadata": {
    "slideshow": {
     "slide_type": "slide"
    }
   },
   "source": [
    "The relationship between the coefficients follows from the same change of basis matrix\n",
    "<br>\n",
    "<br>\n",
    "\n",
    "\\begin{align}\n",
    "\\ket{v}  ~= ~ \\sum_{i} v_i \\ket{e_i} &~=~ \\sum_j \\tilde v_j \\ket{f_j} \\nonumber\\\\\n",
    "&~=~  \\sum_j \\tilde v_j \\left( \\sum_{i} C_{ij} \\ket{e_i}\\right) \\nonumber \\\\\n",
    "&~=~  \\sum_{j}\\sum_{i} \\tilde v_j   C_{ij} \\ket{e_i} \\nonumber \\\\\n",
    "&~=~ \\sum_i \\left( \\sum_j C_{ij} \\tilde v_j \\right) \\ket{e_i}  \\nonumber \\\\\n",
    "\\end{align}"
   ]
  },
  {
   "cell_type": "markdown",
   "id": "4d6ed2d6",
   "metadata": {
    "slideshow": {
     "slide_type": "slide"
    }
   },
   "source": [
    "Comparing, we obtain the relationship of coefficients\n",
    "\n",
    "$$\n",
    "v_i = \\sum_{j} C_{i\\color{black}{j}} \\tilde v_{\\color{black}{j}}\n",
    "$$"
   ]
  },
  {
   "cell_type": "markdown",
   "id": "6524360f",
   "metadata": {
    "slideshow": {
     "slide_type": "fragment"
    }
   },
   "source": [
    "that we can invert \n",
    "\n",
    "$$\n",
    "\\tilde v_i = \\sum_{j} C^{-1}_{i\\color{black}{j}} v_{\\color{black}{j}}\n",
    "$$\n"
   ]
  },
  {
   "cell_type": "markdown",
   "id": "3768c4b7",
   "metadata": {
    "slideshow": {
     "slide_type": "fragment"
    }
   },
   "source": [
    "<div class=\"alert alert-block alert-danger\">\n",
    "    <b>Note</b>:\n",
    "    \n",
    "1. the way the indices are summed makes this operation, in matrix notation, represented as follows\n",
    "\n",
    "$$\n",
    "\\begin{pmatrix} v_1\\\\ \\vdots \\\\ v_n\\end{pmatrix} = \n",
    "\\begin{pmatrix} C_{11} & \\cdots & C_{1n} \\\\ \\vdots & \\ddots & \\vdots \\\\ C_{n1} & \\cdots & C_{nn} \\end{pmatrix}\n",
    "\\begin{pmatrix} \\tilde v_1\\\\ \\vdots \\\\ \\tilde v_n\\end{pmatrix}\n",
    "$$\n",
    "   \n",
    "<br>    \n",
    "    \n",
    "2. the same matrix $C$, which takes $\\ket{e_i} \\to \\ket{\\tilde e_i}$, takes $\\tilde v_j \\to v_j$\n",
    "</div>"
   ]
  },
  {
   "cell_type": "markdown",
   "id": "a6578955",
   "metadata": {
    "slideshow": {
     "slide_type": "skip"
    }
   },
   "source": [
    "In particular, this says that the matrix $C_{ij}$ is read immediately from expressing the new basis in the old one"
   ]
  },
  {
   "cell_type": "markdown",
   "id": "c0a9b73f",
   "metadata": {
    "slideshow": {
     "slide_type": "skip"
    }
   },
   "source": [
    "<div class=\"alert alert-block alert-warning\">\n",
    "<b>Example</b>: (continuation)\n",
    "    \n",
    "$$\n",
    "\\ket{f_1} \\sim \\frac{1}{\\sqrt{2}}\\begin{bmatrix} 1 \\\\i \\end{bmatrix}~~~,~~~~\n",
    "\\ket{f_2} \\sim \\frac{1}{\\sqrt{2}}\\begin{bmatrix} 1 \\\\-i \\end{bmatrix}~~.\n",
    "$$\n",
    "<br>\n",
    "    \n",
    "Putting the two columns into a single matrix, we obtain the matrix $C_{ij}$ that performs the change of the basis vectors\n",
    "<br>\n",
    "<br>\n",
    "    \n",
    "$$\n",
    " \\frac{1}{\\sqrt{2}}\\begin{bmatrix} 1 \\\\i \\end{bmatrix} = \\frac{1}{\\sqrt{2}}\\begin{bmatrix} 1 & 1 \\\\ i & -i \\end{bmatrix}\\begin{bmatrix} 1 \\\\0 \\end{bmatrix}~~~~~,~~~~~~~\n",
    "\\frac{1}{\\sqrt{2}}\\begin{bmatrix} 1 \\\\-i \\end{bmatrix} = \\frac{1}{\\sqrt{2}}\\begin{bmatrix} 1 & 1 \\\\ i & -i \\end{bmatrix}\\begin{bmatrix} 0 \\\\1 \\end{bmatrix}~~~~~.~~~~~~~\n",
    "$$\n",
    "</div>"
   ]
  },
  {
   "cell_type": "markdown",
   "id": "0c6607bf",
   "metadata": {
    "slideshow": {
     "slide_type": "skip"
    }
   },
   "source": [
    "<div class=\"alert alert-block alert-success\">\n",
    "Consider the orthonormal bases  $\\{\\ket{0},\\ket{1}\\}$ and $\\{\\ket{+},\\ket{-}\\}$ where $\\ket{\\pm} = \\frac{1}{\\sqrt{2}}(\\ket{0} \\pm \\ket{1})$. \n",
    "<br>\n",
    "The components of the vector $\\ket{u} \\sim \\begin{pmatrix}3\\\\1\\end{pmatrix}$ are written in the first basis. \n",
    "<br>\n",
    "<br>\n",
    "Find the components of $\\ket{u}$ in the second.\n",
    "</div>"
   ]
  },
  {
   "cell_type": "markdown",
   "id": "32f1236f",
   "metadata": {
    "slideshow": {
     "slide_type": "slide"
    }
   },
   "source": [
    "# Hilbert Space"
   ]
  },
  {
   "cell_type": "markdown",
   "id": "0a79e29a",
   "metadata": {
    "slideshow": {
     "slide_type": "fragment"
    }
   },
   "source": [
    "<div class=\"alert alert-block alert-info\",text-align:center>\n",
    "<p style=\"text-align: center;\"></p> <p style=\"text-align: left ;color: navy;\">  \n",
    "<b> Definition: </b> \n",
    "<br>\n",
    "A <i> Hilbert space</i>, ${\\Hil}$, is a vector space\n",
    "equipped with an internal operation called the <i>inner product</i>.\n",
    "</div>"
   ]
  },
  {
   "cell_type": "markdown",
   "id": "4ae954db",
   "metadata": {
    "slideshow": {
     "slide_type": "slide"
    }
   },
   "source": [
    "## Dot Product\n",
    "<div class=\"alert alert-block alert-info\",text-align:center>\n",
    "<p style=\"text-align: center;\"> <p style=\"text-align: left ;color: navy;\">  \n",
    "<b> Definition: </b> \n",
    "$~$ the <i>dot product</i> of two vectors $\\ket{u}$ and $\\ket{v}$ is a <i>complex number</i> \n",
    "$a\\in{\\mathbb C}$    \n",
    "that we denote as <i>braket</i>\n",
    "<br>\n",
    "<br>\n",
    "$$a \\equiv \\braket{u}{v} $$\n",
    "<br>\n",
    "if it satisfies the following two properties\n",
    "<br>\n",
    "<br>\n",
    "- linearity: $\\to \\bra{u}\\big(\\ket{v}+\\ket{w}\\big) = \\braket{u}{v} + \\braket{u}{w}$\n",
    "<br>\n",
    "<br>\n",
    "- hermiticity: $\\to \\braket{v}{u} = \\braket{u}{v}^*$\n",
    "<br>\n",
    "<br>\n",
    "- positivity: $\\braket{u}{u} >0$ for every ket $\\ket{u}\\neq 0$\n",
    "<br>\n",
    "<br>\n",
    "- non-degeneration: $~$ if  $\\braket{u}{v} = 0$ for every $\\bra{u}$, then necessarily $\\ket{v}=0$\n",
    "\n",
    "</div>"
   ]
  },
  {
   "cell_type": "markdown",
   "id": "58ffa1a7",
   "metadata": {
    "slideshow": {
     "slide_type": "slide"
    }
   },
   "source": [
    "Combining both properties, the dot product is also linear in the first argument\n",
    "\n",
    "$$(\\bra{u}+\\bra{w})\\ket{v} = \\braket{u}{v} + \\braket{w}{v}$$\n"
   ]
  },
  {
   "cell_type": "markdown",
   "id": "9faa8eb9",
   "metadata": {
    "slideshow": {
     "slide_type": "skip"
    }
   },
   "source": [
    "Note that the property of hermiticity is precisely the extension of the complex conjugation we talked about when defining the *adjoint* application\n",
    "\n",
    "$$\n",
    "\\braket{u}{v}^* = \\braket{u}{v}^\\dagger  = \\braket{v}{u}\n",
    "$$\n",
    "\n",
    "We have used that $\\bra{u}^\\dagger = \\ket{u}$ and  $\\ket{v}^\\dagger = \\bra{v}$ but we have added one more rule: \n",
    "<u>*when taking the adjoint map, it is necessary to reverse the order of the elements*</u>\n",
    " \n",
    " If we had not followed this rule, we would have obtained an **incorrect** result\n",
    " \n",
    " $$\n",
    "\\braket{u}{v}^\\dagger \\to \\ket{u}\\bra{v} \n",
    " $$\n",
    " \n",
    "which is not even a complex number. "
   ]
  },
  {
   "cell_type": "markdown",
   "id": "84705ed8",
   "metadata": {
    "slideshow": {
     "slide_type": "slide"
    }
   },
   "source": [
    "<a id='norm'></a>\n",
    "## Norm\n",
    "\n",
    "A **norm** is a real function $\\|\\cdot\\| : \\Lin(\\Hil) \\to {\\mathbb R}$ with the following properties \n",
    "\n",
    "- being positive definite $\\|A\\|\\geq 0$ with $\\| A\\| = 0 \\Leftrightarrow A= 0$\n",
    "<br>\n",
    "\n",
    "- homogeneity $\\|\\lambda A\\| = |\\lambda| \\|A\\|$ \n",
    "<br>\n",
    "\n",
    "- triangle inequality. $\\|A+B\\| \\leq \\| A\\| + \\|B\\|$\n"
   ]
  },
  {
   "cell_type": "markdown",
   "id": "d1124fcb",
   "metadata": {
    "slideshow": {
     "slide_type": "slide"
    }
   },
   "source": [
    "A Hilbert space is automatically a normed space. \n",
    "The positivity of the inner product of a vector with itself allows defining its *norm*.\n",
    "\n",
    "<br>\n",
    "\n",
    "$$\n",
    "\\|\\ket{v}\\| = \\sqrt{\\braket{v}{v}} \n",
    "$$\n",
    "<br>"
   ]
  },
  {
   "cell_type": "markdown",
   "id": "8a1551bd",
   "metadata": {
    "slideshow": {
     "slide_type": "skip"
    }
   },
   "source": [
    "<div class=\"alert alert-block alert-danger\">\n",
    "    <b>Note</b>:\n",
    "\n",
    "- in contrast to the definition of scalar product in real vector spaces, in the complex case it is necessary to conjugate the <i>bra</i>, so that the <i>norm</i> of a vector is always real and positive. This is the idea behind the definition of the <i>adjoint conjugation</i>.\n",
    "\n",
    "\n",
    "- the only vector that has zero norm in a Hilbert space is the neutral element\n",
    "$$\n",
    "\\braket{v}{v} = 0 ~~~ \\Leftrightarrow ~~~\\ket{v} = 0\n",
    "$$\n",
    "  \n",
    "</div>"
   ]
  },
  {
   "cell_type": "markdown",
   "id": "3753bd06",
   "metadata": {
    "slideshow": {
     "slide_type": "fragment"
    }
   },
   "source": [
    "## Distance"
   ]
  },
  {
   "cell_type": "markdown",
   "id": "fc1d97a2",
   "metadata": {
    "slideshow": {
     "slide_type": "-"
    }
   },
   "source": [
    "Given two elements $\\ket{u}$ and $\\ket{v}$ of $\\Hil$, we can define the *distance* between them as the *norm of their difference* \n",
    "<br>\n",
    "<br>\n",
    "$$\n",
    "d(\\rule{0mm}{5mm}\\ket{v},\\ket{w}) = \\| \\ket{v}-\\ket{w}\\|\n",
    "$$"
   ]
  },
  {
   "cell_type": "markdown",
   "id": "ffe89557",
   "metadata": {
    "slideshow": {
     "slide_type": "skip"
    }
   },
   "source": [
    "In particular\n",
    "\n",
    "-  $d(\\ket{v}, \\ket{w}) = d(\\ket{w}, \\ket{v})$ \n",
    "\n",
    "<br>\n",
    "\n",
    "- $d(\\ket{v}, \\ket{v}) = 0$"
   ]
  },
  {
   "cell_type": "markdown",
   "id": "2a2f1459",
   "metadata": {
    "slideshow": {
     "slide_type": "slide"
    }
   },
   "source": [
    "# Orthonormal Bases"
   ]
  },
  {
   "cell_type": "markdown",
   "id": "2de04ee2",
   "metadata": {
    "slideshow": {
     "slide_type": "skip"
    }
   },
   "source": [
    "So far, the vectors of a basis $\\{\\ket{e_i}\\}$ have only been required to be $N$ *linearly independent* vectors, where $N$ is the dimension of the vector space $\\V$:\n",
    "\n",
    "In a Hilbert space $\\Hil$, it makes sense to calculate the inner product of two elements of a basis."
   ]
  },
  {
   "cell_type": "markdown",
   "id": "ed9185c0",
   "metadata": {
    "slideshow": {
     "slide_type": "-"
    }
   },
   "source": [
    "<div class=\"alert alert-block alert-info\",text-align:center>\n",
    "<p style=\"text-align: center;\"> <p style=\"text-align: left ;color: navy;\">  \n",
    "<b> Definition: </b> \n",
    "an orthonormal basis is characterized by the following list of inner products\n",
    "<br>\n",
    "<br>\n",
    "$$\n",
    "\\braket{e_i}{e_j} = \\delta_{ij}\n",
    "$$\n",
    "</div>\n",
    "\n"
   ]
  },
  {
   "cell_type": "markdown",
   "id": "78c04284",
   "metadata": {
    "slideshow": {
     "slide_type": "skip"
    }
   },
   "source": [
    "\n",
    "- On one hand, two distinct elements of the basis are orthogonal $\\braket{e_1}{e_2} = 0$. \n",
    "<br>\n",
    "\n",
    "- On the other hand, all are normalized $ \\| e_i \\| = \\sqrt{\\braket{e_1}{e_1}} = \\sqrt{1} = 1$. \n"
   ]
  },
  {
   "cell_type": "markdown",
   "id": "91670624",
   "metadata": {
    "slideshow": {
     "slide_type": "skip"
    }
   },
   "source": [
    "In this course, we will always assume that the bases we work with are orthonormal. This is justified based on the following theorem:\n",
    "<br>\n",
    "<br>\n",
    "<div class=\"alert alert-block alert-info\",text-align:center>\n",
    "<p style=\"text-align: center;\"> <p style=\"text-align: left ;color: navy;\">  \n",
    "    <b> Theorem: </b> <i>(Gram-Schmidt Theorem) </i>\n",
    "<br>    \n",
    "Given a general basis $\\{\\braket{f_i}{f_j}\\neq \\delta_{ij}\\}$ of non-orthonormal vectors, there exists an iterative procedure (of <a href=\"https://en.wikipedia.org/wiki/Gram%E2%80%93Schmidt_process\">Gram-Schmidt</a> ) to construct, from it, a new orthonormal basis $\\{\\braket{e_i}{e_j}\\}=\\delta_{ij}$.\n",
    " </div>"
   ]
  },
  {
   "cell_type": "markdown",
   "id": "3c81d317",
   "metadata": {
    "slideshow": {
     "slide_type": "fragment"
    }
   },
   "source": [
    "\n",
    " Given a vector  $\\ket{v} = \\sum_{i=1}^N v_i \\ket{e_i}$ written in an orthonormal basis, the *component* $v_i$ is extracted through the *orthogonal projection*\n",
    "<br>\n",
    "<br>\n",
    "$$\n",
    "v_i =\\braket{e_i}{v}\n",
    "$$"
   ]
  },
  {
   "cell_type": "markdown",
   "id": "f4e790a6",
   "metadata": {
    "slideshow": {
     "slide_type": "skip"
    }
   },
   "source": [
    "<div class=\"alert alert-block alert-success\">\n",
    "<b></b> \n",
    "Verify this expression\n",
    "</div>\n",
    "<details>\n",
    "<summary><p style=\"text-align:left\"> >> <i>Solution</i> </p></summary>\n",
    "\n",
    "\\begin{align}\n",
    "\\braket{e_k}{v} &=  \\bra{e_k}\\left(\\sum_{j=1}^N v_j\\ket{e_j}\\right) \\nonumber\\\\\n",
    "                &=  \\sum_{j=1}^N  v_j\\braket{e_k}{e_j}  \\nonumber\\\\\n",
    "                &= \\sum_{j=1}^N  v_j\\delta_{kj} = v_k\n",
    "\\end{align}\n",
    "\n",
    "</details>    "
   ]
  },
  {
   "cell_type": "markdown",
   "id": "d25e7f46",
   "metadata": {
    "slideshow": {
     "slide_type": "slide"
    }
   },
   "source": [
    "In an orthonormal basis, calculating the value of a *dot product* $a=\\braket{u}{v}$ is very simple"
   ]
  },
  {
   "cell_type": "markdown",
   "id": "ba438378",
   "metadata": {
    "slideshow": {
     "slide_type": "fragment"
    }
   },
   "source": [
    "\\begin{align}\n",
    "a = \n",
    "\\braket{u}{v}&=& \\left(\\sum_{i}u_i^*\\bra{e_i}\\right)\\left(\\sum_{j}v_j\\ket{e_j} \\right) = \n",
    "\\sum_{ij} u_i^* v_j  \\braket{e_i}{e_j}\n",
    "=\n",
    "\\sum_{ij} u_i^* v_j \\delta_{ij} \n",
    "\\\\\n",
    "&=&\\sum_{i} u_i^* v_i =\n",
    "  \\begin{pmatrix}\n",
    "{u_1^*} & {u_2^*} & \\cdots & {u_N^*}\n",
    "\\end{pmatrix}\\begin{pmatrix} {v_1}\\\\ {v_2}\\\\ \\vdots \\\\ {v_N} \n",
    "\\end{pmatrix}\n",
    "\\end{align}\n",
    "\n",
    "<br>"
   ]
  },
  {
   "cell_type": "markdown",
   "id": "1a47a6f2",
   "metadata": {
    "slideshow": {
     "slide_type": "fragment"
    }
   },
   "source": [
    "<div class=\"alert alert-block alert-danger\">\n",
    "    <b>Note</b>: \n",
    "<br>\n",
    "\n",
    "the expression on the left $a = \\braket{u}{v}$ <b>does not refer to any basis</b>. Therefore, the result $\\sum_{i=1}^n{ u_i^* v_i} $ must be independent of the basis we use to represent these vectors through their components $u_i$ and $v_i$. \n",
    "    \n",
    "We emphasize the importance of this: $\\braket{u}{v}$ can be calculated in the most convenient basis.\n",
    "</div>\n"
   ]
  },
  {
   "cell_type": "markdown",
   "id": "56d12083",
   "metadata": {
    "slideshow": {
     "slide_type": "skip"
    }
   },
   "source": [
    "<div class=\"alert alert-block alert-success\">\n",
    "<b>Exercise 1.2.1</b>\n",
    "<br>\n",
    "\n",
    "- Write a function $braket(u,v)$ that calculates and returns the dot product $\\braket{u}{v}$, and, with it, a function $norm(u)$ that calculates the norm $\\| \\ket{u}\\|$.\n",
    "Verify that $\\| \\ket{u}\\| = \\sqrt{\\braket{u}{u}}$ matches the result given by the function $np.linalg.norm$.\n",
    "\n",
    "- Write a function $random\\_ket$ that generates a normalized vector $\\ket{v}\\in\\Hil$ of dimension $d$.\n",
    "        \n",
    "</div>\n",
    "\n",
    "<a href=\"../FICC_solutions.ipynb#Ex_1.2.1\">a solution</a>\n"
   ]
  },
  {
   "cell_type": "code",
   "execution_count": 9,
   "id": "2bf40235",
   "metadata": {},
   "outputs": [
    {
     "data": {
      "text/plain": [
       "(-0.3524959387797618+0.08334595985560198j)"
      ]
     },
     "execution_count": 9,
     "metadata": {},
     "output_type": "execute_result"
    }
   ],
   "source": [
    "uket = tQ.random_ket(5)\n",
    "vket = tQ.random_ket(5)\n",
    "\n",
    "#display(array_to_latex(uket))\n",
    "#display(array_to_latex(vket))\n",
    "\n",
    "\n",
    "tQ.braket(uket,vket)"
   ]
  },
  {
   "cell_type": "markdown",
   "id": "3bcd8250",
   "metadata": {
    "slideshow": {
     "slide_type": "slide"
    }
   },
   "source": [
    "## Orthogonal Decomposition\n",
    "\n",
    "<div class=\"alert alert-block alert-info\",text-align:center>\n",
    "<p style=\"text-align: center;\"> <p style=\"text-align: left ;color: navy;\">  \n",
    "<b> Definition: </b> \n",
    "<br>\n",
    "<br>   \n",
    "    we say that $\\Hil$ admits an <i>orthogonal direct sum</i> $\\Hil = \\Hil_1 \\oplus \\Hil_2$ when every vector $\\ket{u}\\in \\Hil$ can be written in the form   \n",
    "<br>\n",
    "<br>    \n",
    "$$\n",
    "\\ket{u} = \\ket{u_1} + \\ket{u_2} \n",
    "$$\n",
    "where $\\ket{u_1}\\in \\Hil_1$, $\\ket{u_2}\\in \\Hil_2$ and $\\braket{u_1}{u_2} = 0$.\n",
    "</div>\n",
    "\n",
    "<br>    \n",
    "Given a choice of $\\ket{u_1}$, the vector $\\ket{u_2}$ is unique.\n",
    "<br>    \n"
   ]
  },
  {
   "cell_type": "markdown",
   "id": "033f7b86",
   "metadata": {
    "slideshow": {
     "slide_type": "slide"
    }
   },
   "source": [
    "This result does not refer to a vector space $\\Hil$ of dimension 2. Each line in the previous figure <i>represents</i> a vector subspace $\\ket{u_1} \\in \\Hil_1$ and $\\ket{u_2}\\in \\Hil_2$.\n",
    "\n",
    "Thus, what the theorem states is that there are infinite decompositions of the form $\\Hil = \\Hil_1\\oplus \\Hil_2$ where the dimensions add up.\n",
    "\n",
    "$$\n",
    "\\hbox{dim}\\,\\Hil = \\hbox{dim}\\,\\Hil_1  + \\hbox{dim}\\,\\Hil_2  \n",
    "$$"
   ]
  },
  {
   "cell_type": "markdown",
   "id": "51dbbf50",
   "metadata": {
    "slideshow": {
     "slide_type": "fragment"
    }
   },
   "source": [
    "The previous expression defines what is known as the *direct sum* of vector spaces. In particular, an *orthogonal* direct sum."
   ]
  }
 ],
 "metadata": {
  "celltoolbar": "Slideshow",
  "kernelspec": {
   "display_name": "Python 3 (ipykernel)",
   "language": "python",
   "name": "python3"
  },
  "language_info": {
   "codemirror_mode": {
    "name": "ipython",
    "version": 3
   },
   "file_extension": ".py",
   "mimetype": "text/x-python",
   "name": "python",
   "nbconvert_exporter": "python",
   "pygments_lexer": "ipython3",
   "version": "3.12.3"
  },
  "nbTranslate": {
   "displayLangs": [
    "*"
   ],
   "hotkey": "alt-t",
   "langInMainMenu": true,
   "sourceLang": "en",
   "targetLang": "fr",
   "useGoogleTranslate": true
  },
  "toc": {
   "base_numbering": 1,
   "nav_menu": {},
   "number_sections": true,
   "sideBar": true,
   "skip_h1_title": false,
   "title_cell": "Table of Contents",
   "title_sidebar": "Contents",
   "toc_cell": false,
   "toc_position": {},
   "toc_section_display": true,
   "toc_window_display": false
  },
  "varInspector": {
   "cols": {
    "lenName": 16,
    "lenType": 16,
    "lenVar": 40
   },
   "kernels_config": {
    "python": {
     "delete_cmd_postfix": "",
     "delete_cmd_prefix": "del ",
     "library": "var_list.py",
     "varRefreshCmd": "print(var_dic_list())"
    },
    "r": {
     "delete_cmd_postfix": ") ",
     "delete_cmd_prefix": "rm(",
     "library": "var_list.r",
     "varRefreshCmd": "cat(var_dic_list()) "
    }
   },
   "types_to_exclude": [
    "module",
    "function",
    "builtin_function_or_method",
    "instance",
    "_Feature"
   ],
   "window_display": false
  }
 },
 "nbformat": 4,
 "nbformat_minor": 5
}
