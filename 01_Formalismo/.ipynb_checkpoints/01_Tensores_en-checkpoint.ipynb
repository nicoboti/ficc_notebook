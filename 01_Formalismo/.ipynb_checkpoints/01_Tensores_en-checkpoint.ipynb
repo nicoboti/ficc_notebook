{
 "cells": [
  {
   "cell_type": "markdown",
   "id": "106a3297",
   "metadata": {
    "slideshow": {
     "slide_type": "slide"
    }
   },
   "source": [
    "<img src=\"../figuras/logos/logo_usc.jpg\" align=right width='80px'/>\n",
    "<br>\n",
    "\n",
    "<table width=\"100%\">\n",
    "<td style=\"font-size:40px;font-style:italic;text-align:left;background-color:rgba(0, 220, 170,0.7)\">\n",
    "Tensors \n",
    "</td></table>\n",
    "$ \\newcommand{\\bra}[1]{\\langle #1|} $\n",
    "$ \\newcommand{\\ket}[1]{|#1\\rangle} $\n",
    "$ \\newcommand{\\braket}[2]{\\langle #1|#2\\rangle} $\n",
    "$ \\newcommand{\\ketbra}[2]{| #1\\rangle \\langle #2|} $\n",
    "$ \\newcommand{\\tr}{{\\rm tr}} $\n",
    "$ \\newcommand{\\i}{{\\color{blue} i}} $ \n",
    "$ \\newcommand{\\Hil}{{\\cal H}} $\n",
    "$ \\newcommand{\\V}{{\\cal V}} $\n",
    "$ \\newcommand{\\Lin}{\\hbox{Lin}} $\n"
   ]
  },
  {
   "cell_type": "code",
   "execution_count": 8,
   "id": "26f3c88f",
   "metadata": {
    "slideshow": {
     "slide_type": "-"
    }
   },
   "outputs": [],
   "source": [
    "import sys\n",
    "sys.path.append('../')\n",
    "import macro_tQ as tQ\n",
    "\n",
    "import numpy as np\n",
    "import scipy.linalg as la\n",
    "from IPython.display import display,Markdown,Latex\n",
    "import matplotlib.pyplot as plt\n",
    "from qiskit.visualization import array_to_latex"
   ]
  },
  {
   "cell_type": "markdown",
   "id": "0f7dab73",
   "metadata": {
    "slideshow": {
     "slide_type": "skip"
    }
   },
   "source": [
    "<a id='top'></a>\n",
    "\n",
    "- [Tensor product](#tens_prod) \n",
    "\n",
    "<br>\n",
    "\n",
    "- [Entanglement](#entangl)\n",
    "\n",
    "    - [Concurrence](#concurr)\n",
    "    \n",
    "    - [Schmidt decomposition](#Schmidt)\n",
    "\n",
    "<br>\n",
    "\n",
    "- [Multiple tensor product $\\Hil^{\\otimes n}$](#multip_tens)\n",
    "\n",
    "    - [Multipartite entanglement](#gen_state)\n",
    "    \n",
    "        - [Matrix product state](#mps)\n",
    "\n",
    "<br>\n",
    "\n",
    "\n",
    "- [Operators on $\\Hil^{\\otimes n}$](#ops_Hn)\n",
    "\n",
    "    - [Tensor product operators](#tp_op)\n",
    "    \n",
    "    - [Kronecker product of matrices](#Kronecker_mat)\n"
   ]
  },
  {
   "cell_type": "markdown",
   "id": "bd919b35",
   "metadata": {
    "slideshow": {
     "slide_type": "slide"
    }
   },
   "source": [
    "<a id='tens_prod'></a>\n",
    "# Tensor product\n",
    "\n",
    "[<<<](#top)"
   ]
  },
  {
   "cell_type": "markdown",
   "id": "72d66123",
   "metadata": {
    "slideshow": {
     "slide_type": "skip"
    }
   },
   "source": [
    "A classical computer is capable of processing large amounts of bits by assembling single‑bit devices. For a quantum computer, we would consider a collection of systems, each implementing a qubit. We need to describe how to group quantum systems.\n",
    "\n",
    "Suppose two systems to which we can associate respective Hilbert spaces $\\Hil_1$ and $\\Hil_2$.  \n",
    "The joint quantum system is described by elements in the tensor‑product space $\\Hil = \\Hil_1 \\otimes \\Hil_2$. Let’s see how this vector space is defined. We’ll start with its elements.\n",
    "\n"
   ]
  },
  {
   "cell_type": "markdown",
   "id": "98198eef",
   "metadata": {
    "slideshow": {
     "slide_type": "slide"
    }
   },
   "source": [
    "<div class=\"alert alert-block alert-info\",text-align:center>\n",
    "<p style=\"text-align: left ;color: navy;\">  \n",
    "<b> Definition</b> : Given two vectors $\\ket{u}_1\\in \\Hil_1$ and  $\\ket{v}_2\\in \\Hil_2$, we call the <i>tensor product</i> the ordered pair\n",
    "<br>\n",
    "<br>\n",
    "$$\n",
    " \\ket{u}_1\\otimes \\ket{v}_2 \\equiv \\ket{uv}\n",
    "$$\n",
    "with the <i>bilinear</i> property.    \n",
    "</div>\n"
   ]
  },
  {
   "cell_type": "markdown",
   "id": "43b5a97e",
   "metadata": {
    "slideshow": {
     "slide_type": "skip"
    }
   },
   "source": [
    " The *bilinearity* is equivalent to the distributive property.\n",
    "<br>\n",
    "<br>\n",
    "\\begin{align}\n",
    "\\big(\\ket{u}+\\ket{v}\\big)\\otimes \\big(\\ket{y}+\\ket{z}\\big) ~&\\equiv ~~ ~~\n",
    "\\ket{u}\\otimes\\ket{y} ~+~ \\ket{u}\\otimes\\ket{z} ~+~ \\ket{v}\\otimes\\ket{y} ~+~~\n",
    " \\ket{v}\\otimes\\ket{z} \n",
    "\\end{align}\n",
    "\n",
    "<br>"
   ]
  },
  {
   "cell_type": "markdown",
   "id": "85c95625",
   "metadata": {
    "slideshow": {
     "slide_type": "skip"
    }
   },
   "source": [
    "$$\n",
    "\\neq  ~~~~\\ket{u}\\otimes \\ket{y} +  \\ket{v}\\otimes \\ket{z} ~~~\\hbox{!!!}\n",
    "$$"
   ]
  },
  {
   "cell_type": "markdown",
   "id": "ac2a90b4",
   "metadata": {
    "slideshow": {
     "slide_type": "skip"
    }
   },
   "source": [
    "Next, we construct a vector space that includes *all possible linear combinations of ordered pairs*\n"
   ]
  },
  {
   "cell_type": "markdown",
   "id": "4af23ecb",
   "metadata": {
    "slideshow": {
     "slide_type": "slide"
    }
   },
   "source": [
    "<div class=\"alert alert-block alert-info\",text-align:center>\n",
    "<p style=\"text-align: left ;color: navy;\">  \n",
    "<b> Definition</b>  \n",
    "<br>    \n",
    "The <i>tensor-product space</i> $\\Hil = \\Hil_1 \\otimes \\Hil_2$ consists of <u>all possible linear combinations</u> of <u>ordered pairs</u> \n",
    "<br>\n",
    "<br> \n",
    "$$\n",
    "\\ket{w}= a\\,\\ket{u}_1\\otimes\\ket{u}_2 \\;+\\; b\\,\\ket{v}_1\\otimes\\ket{v}_2 \\;+\\; \\dots\n",
    "$$\n",
    "<br>     \n",
    "where $\\ket{u}_1,\\ket{v}_1,\\dots\\in \\Hil_1$ and $\\ket{u}_2,\\ket{v}_2,\\dots\\in \\Hil_2$,  \n",
    "and $a,b,\\dots \\in \\mathbb{C}$ are complex coefficients.\n",
    "<br> \n",
    "</div>\n"
   ]
  },
  {
   "cell_type": "markdown",
   "id": "688bbca7",
   "metadata": {
    "slideshow": {
     "slide_type": "skip"
    }
   },
   "source": [
    "What this theorem tells us is that when combining two systems, the degrees of freedom are far greater than the sum of the degrees of freedom of each subsystem. *All possible combinations* of these appear, as well as their linear superpositions.\n"
   ]
  },
  {
   "cell_type": "markdown",
   "id": "6b5b5e93",
   "metadata": {
    "slideshow": {
     "slide_type": "slide"
    }
   },
   "source": [
    "## Basis and Dimensión"
   ]
  },
  {
   "cell_type": "markdown",
   "id": "d53df9ba",
   "metadata": {
    "slideshow": {
     "slide_type": "-"
    }
   },
   "source": [
    "Let $\\ket{i_1}$ be a basis of $\\Hil_1$ and $\\ket{i_2}$ a basis of $\\Hil_2$. Then, a basis of $\\Hil_1 \\otimes \\Hil_2$ is obtained from *all* pairings  \n",
    "<br>\n",
    "<br>\n",
    "$$\n",
    "\\ket{i_1 i_2} = \\ket{i_1} \\otimes \\ket{i_2}\n",
    "$$  \n",
    "<br>\n",
    "with  $(i_1 = 0,\\dots,(d_1-1)$ and $i_2 = 0,\\dots,(d_2-1)$. Each element thus formed is <i>linearly independent</i> from the others.\n"
   ]
  },
  {
   "cell_type": "markdown",
   "id": "69049687",
   "metadata": {
    "slideshow": {
     "slide_type": "-"
    }
   },
   "source": [
    "  The number of possible pairs is $d_1 d_2$, which coincides with the **dimension** of $\\Hil_1 \\otimes \\Hil_2$.\n"
   ]
  },
  {
   "cell_type": "markdown",
   "id": "0afcbcce",
   "metadata": {
    "slideshow": {
     "slide_type": "slide"
    }
   },
   "source": [
    "We see that the **labels** of the basis vectors form a *bi-index* $\\to i_1 i_2$ that takes $d_1 d_2$ distinct pairs of values.\n"
   ]
  },
  {
   "cell_type": "markdown",
   "id": "d5baf4fb",
   "metadata": {
    "slideshow": {
     "slide_type": "-"
    }
   },
   "source": [
    "A *vector* is similarly written using $d_1 d_2$ complex _components_ $w_{i_1 i_2}$, labeled with a bi‑index instead of a single index  \n",
    "\n",
    "$$\n",
    "\\ket{\\omega} ~= ~ \\sum_{i_1=0}^{d_1-1}\\sum_{i_2=0}^{d_2-1} w_{i_1i_2} \\ket{i_1 i_2} \n",
    "~=~ w_{00}\\ket{00} + w_{01}\\ket{01} +  w_{10}\\ket{10} + ...\\ldots + w_{(d_1-1) (d_2-1)}\\ket{(d_1-1) (d_2-1)}   \n",
    "$$\n"
   ]
  },
  {
   "cell_type": "markdown",
   "id": "16ec7912",
   "metadata": {
    "slideshow": {
     "slide_type": "skip"
    }
   },
   "source": [
    "<br>\n",
    "\n",
    "<div class=\"alert alert-block alert-danger\">\n",
    "<b> Note: </b>\n",
    "    \n",
    "    \n",
    "- We will omit the subscript $\\ket{u}_1\\otimes \\ket{y}_2=\\ket{u}\\otimes \\ket{y} \\equiv \\ket{uy}$, which will be implicit in the ordering. \n",
    "<br>   \n",
    "    \n",
    "    \n",
    "- For quantum computing with <i>qubits (qudits)</i>, the relevant dimension is $d=2\\,(d\\geq 3)$. \n",
    "<div>\n"
   ]
  },
  {
   "cell_type": "markdown",
   "id": "2700a049",
   "metadata": {
    "slideshow": {
     "slide_type": "skip"
    }
   },
   "source": [
    "<div class=\"alert alert-block alert-warning\">\n",
    "<b>Example:</b>  \n",
    "Suppose that \\(d_1 = 2\\) and \\(d_2 = 3\\), then\n",
    "\n",
    "$$\n",
    "\\ket{w} = w_{00}\\ket{00} + w_{01}\\ket{01} + w_{02}\\ket{02} + w_{10}\\ket{10} + w_{11}\\ket{11} + w_{12}\\ket{12}\n",
    "$$\n",
    "\n",
    "or, in matrix notation\n",
    "\n",
    "$$\n",
    "\\ket{w} \\sim \\begin{pmatrix} w_{00}\\\\ w_{01} \\\\ w_{02} \\\\ w_{10} \\\\ w_{11} \\\\ w_{12} \\end{pmatrix}\n",
    "$$\n",
    "</div>\n"
   ]
  },
  {
   "cell_type": "markdown",
   "id": "b433016d",
   "metadata": {
    "slideshow": {
     "slide_type": "slide"
    }
   },
   "source": [
    "## Equivalent indexing\n",
    "\n",
    "We can label the components (or basis elements) with single indices instead of bi‑indices.\n",
    "\n",
    "To do this, we just need to define a mapping between the two bi‑indices \\(i_1,i_2\\) and a single index \\(a\\):\n",
    "\n",
    "$$\n",
    "\\ket{w} ~=~ \\sum_{i_1=0}^{d_1-1}\\sum_{i_2=0}^{d_2-1} w_{i_1 i_2} \\ket{i_1 i_2}\n",
    "~=~ \\sum_{a=0}^{(d_1-1)(d_2-1)} w_{a} \\ket{a}\n",
    "$$\n",
    "<br>\n",
    "where we want to highlight that the components and the vectors are the same, just labeled differently.\n"
   ]
  },
  {
   "cell_type": "markdown",
   "id": "cfc5b166",
   "metadata": {
    "slideshow": {
     "slide_type": "skip"
    }
   },
   "source": [
    "<div class=\"alert alert-block alert-warning\">\n",
    "<b>Example: </b>\n",
    "\\begin{align}\n",
    "\\ket{w} & = w_{00}\\ket{00} + w_{01}\\ket{01} + w_{02}\\ket{02} + w_{10}\\ket{10} + w_{11}\\ket{11} + w_{12}\\ket{12}\n",
    "    \\\\  \\nonumber\\\\\n",
    "    & = w_0 \\ket{0} + w_1\\ket{1} + w_2\\ket{2} + w_3\\ket{3} + w_4 \\ket{4} + w_5 \\ket{5} \n",
    "\\end{align}\n",
    "\n",
    "</div>"
   ]
  },
  {
   "cell_type": "markdown",
   "id": "20e6f6ed",
   "metadata": {
    "slideshow": {
     "slide_type": "slide"
    }
   },
   "source": [
    "In the general case the map is  \n",
    "<br>\n",
    "\n",
    "$$\n",
    "i_1 i_2 ~~\\to~~ a = d_2 * i_1 + i_2\n",
    "$$\n",
    "<br>\n",
    "Clearly $a = 0,\\dots,(d_1-1)(d_2-1)$ takes $(d_1-1)(d_2-1)$ distinct values\n"
   ]
  },
  {
   "cell_type": "markdown",
   "id": "c281e3e4",
   "metadata": {
    "slideshow": {
     "slide_type": "fragment"
    }
   },
   "source": [
    "<div class=\"alert alert-block alert-danger\">\n",
    "<b> Note: </b>  \n",
    "The method  <i>numpy.reshape</i> reorganizes the $d_1d_2$ data into either of the two forms.  \n",
    "</div>\n"
   ]
  },
  {
   "cell_type": "code",
   "execution_count": 9,
   "id": "0169df3b",
   "metadata": {
    "slideshow": {
     "slide_type": "slide"
    }
   },
   "outputs": [
    {
     "data": {
      "text/latex": [
       "$$\n",
       "\n",
       "\\begin{bmatrix}\n",
       "0.9183577643 & 0.5513738997 & 0.6253397336 & 0.213250878  \\\\\n",
       " \\frac{644972544 \\cdot 2^{\\frac{3}{5}} \\cdot 3^{\\frac{29}{30}} \\cdot 5^{\\frac{7}{20}} \\sqrt[6]{7}}{7061881225} & 0.8095587069 & 0.9223757691 & 0.2406851246  \\\\\n",
       " \\end{bmatrix}\n",
       "$$"
      ],
      "text/plain": [
       "<IPython.core.display.Latex object>"
      ]
     },
     "metadata": {},
     "output_type": "display_data"
    }
   ],
   "source": [
    "d1 = 2 \n",
    "d2 = 4  \n",
    "\n",
    "wij = np.random.rand(d1,d2)\n",
    "display(array_to_latex(wij))\n"
   ]
  },
  {
   "cell_type": "code",
   "execution_count": 10,
   "id": "bc081d15",
   "metadata": {},
   "outputs": [
    {
     "data": {
      "text/latex": [
       "$$\n",
       "\n",
       "\\begin{bmatrix}\n",
       "0.9183577643 & 0.5513738997 & 0.6253397336 & 0.213250878 & \\frac{644972544 \\cdot 2^{\\frac{3}{5}} \\cdot 3^{\\frac{29}{30}} \\cdot 5^{\\frac{7}{20}} \\sqrt[6]{7}}{7061881225} & 0.8095587069 & 0.9223757691 & 0.2406851246  \\\\\n",
       " \\end{bmatrix}\n",
       "$$"
      ],
      "text/plain": [
       "<IPython.core.display.Latex object>"
      ]
     },
     "metadata": {},
     "output_type": "display_data"
    }
   ],
   "source": [
    "'component map'\n",
    "i1=1 \n",
    "i2=2 \n",
    "\n",
    "a = d2*(i1) + i2  \n",
    "\n",
    "wa = wij.reshape(d1*d2)\n",
    "display(array_to_latex(wa))"
   ]
  },
  {
   "cell_type": "code",
   "execution_count": 11,
   "id": "7026bff1",
   "metadata": {},
   "outputs": [
    {
     "data": {
      "text/latex": [
       "$$\n",
       "\n",
       "\\begin{bmatrix}\n",
       "0.9183577643 & 0.5513738997 & 0.6253397336 & 0.213250878  \\\\\n",
       " \\frac{644972544 \\cdot 2^{\\frac{3}{5}} \\cdot 3^{\\frac{29}{30}} \\cdot 5^{\\frac{7}{20}} \\sqrt[6]{7}}{7061881225} & 0.8095587069 & 0.9223757691 & 0.2406851246  \\\\\n",
       " \\end{bmatrix}\n",
       "$$"
      ],
      "text/plain": [
       "<IPython.core.display.Latex object>"
      ]
     },
     "metadata": {},
     "output_type": "display_data"
    }
   ],
   "source": [
    "wpij = wa.reshape(d1,d2)\n",
    "display(array_to_latex(wpij))"
   ]
  },
  {
   "cell_type": "markdown",
   "id": "ccdf7696",
   "metadata": {
    "slideshow": {
     "slide_type": "skip"
    }
   },
   "source": [
    "<a id='Kronecker'></a>\n",
    "##  Kronecker product"
   ]
  },
  {
   "cell_type": "markdown",
   "id": "087e57c1",
   "metadata": {
    "slideshow": {
     "slide_type": "skip"
    }
   },
   "source": [
    "Repeat: any vector admits, in a basis, a representation as a column vector with its coefficients as entries  \n",
    "\n",
    "<br>\n",
    "<br>\n",
    "$$\n",
    "\\ket{w} ~=~ \\sum_{i,j=1}^2 w_{ij}\\,\\ket{e_{ij}} \\;\\sim\\;\n",
    "\\begin{pmatrix}\n",
    "w_{11}\\\\\n",
    "w_{12}\\\\\n",
    "w_{21}\\\\\n",
    "w_{22}\n",
    "\\end{pmatrix}\n",
    "$$\n"
   ]
  },
  {
   "cell_type": "markdown",
   "id": "29d206c4",
   "metadata": {
    "slideshow": {
     "slide_type": "skip"
    }
   },
   "source": [
    "The associated column matrix \\(\\ket{uv}= \\ket{u}\\otimes \\ket{v}\\) is formed from the column matrices of \\(\\ket{u}\\) and \\(\\ket{v}\\) by the so‑called *Kronecker product* or *tensor product*.  \n",
    "<br>\n",
    "<br>\n",
    "\n",
    "$$\n",
    " \\ket{uv} = \\ket{u}\\otimes \\ket{v} ~\\sim~ \n",
    "\\begin{pmatrix}u_1\\\\ u_2 \\end{pmatrix}\\otimes \\begin{pmatrix}v_1\\\\ v_2 \\end{pmatrix} ~\\equiv ~\n",
    "\\begin{pmatrix}u_1 \\begin{pmatrix}v_1\\\\ v_2 \\end{pmatrix} \\\\ u_2 \\begin{pmatrix}v_1\\\\ v_2 \\end{pmatrix}  \\end{pmatrix}\n",
    "~=~\\begin{pmatrix}u_1v_1\\\\ u_1v_2 \\\\ u_2 v_1 \\\\ u_2 v_2  \\end{pmatrix}\n",
    "$$\n"
   ]
  },
  {
   "cell_type": "markdown",
   "id": "07847719",
   "metadata": {
    "slideshow": {
     "slide_type": "skip"
    }
   },
   "source": [
    "<div class=\"alert alert-block alert-danger\">\n",
    "<b>Note:</b>  \n",
    "With two vectors $\\ket{u} = \\sum_i u_i \\ket{e_i}$ and $\\ket{v} = \\sum_i v_i \\ket{e_i} \\in \\Hil$, there are two very similar objects we can form\n",
    "<br>    \n",
    "<br>\n",
    "1. an operator  \n",
    "$$\n",
    "\\Omega = \\ketbra{u}{v} = \\sum_{ij} u_i v^*_j \\ketbra{e_i}{e_j} \\;\\in\\; \\Lin(\\Hil)\n",
    "$$  \n",
    "<br>    \n",
    "2. a vector  \n",
    "$$\n",
    "\\ket{\\omega} = \\ket{u}\\ket{v} = \\sum_{ij} u_i v_j \\ket{e_i}\\ket{e_j} \\;\\in\\; \\Hil\\otimes \\Hil\n",
    "$$ \n",
    "<br>\n",
    "</div>\n"
   ]
  },
  {
   "cell_type": "markdown",
   "id": "638b696a",
   "metadata": {
    "slideshow": {
     "slide_type": "skip"
    }
   },
   "source": [
    "<div class=\"alert alert-block alert-success\">\n",
    "<b>Exercise</b>: <i>(explain it to your computer)</i>\n",
    "<br>\n",
    "    \n",
    "Write a function <i>kronecker(u, v)</i> that takes two kets (as column vectors) and returns their Kronecker product. Verify the result with NumPy’s `kron` function.  \n",
    "</div>\n"
   ]
  },
  {
   "cell_type": "markdown",
   "id": "2ce09e57",
   "metadata": {
    "slideshow": {
     "slide_type": "slide"
    }
   },
   "source": [
    "<a id='entangl'></a>\n",
    "# Entanglement"
   ]
  },
  {
   "cell_type": "markdown",
   "id": "669914c9",
   "metadata": {
    "slideshow": {
     "slide_type": "-"
    }
   },
   "source": [
    "\n",
    "<div class=\"alert alert-block alert-info\" text-align=\"center\">\n",
    "<p style=\"text-align: left; color: navy;\">  \n",
    "<b>Definition</b>: <i>(Entangled vector)</i>\n",
    "<br><br>\n",
    "We say that a vector \\(\\ket{w} \\in \\Hil \\otimes \\Hil\\) is <b>factorizable</b> when there exist vectors \\(\\ket{u}, \\ket{v} \\in \\Hil\\) such that\n",
    "<br><br>    \n",
    "$$\n",
    "\\ket{w} = \\ket{u} \\otimes \\ket{v}\n",
    "$$\n",
    "<br><br>\n",
    "When this is not possible, we say that \\(\\ket{w}\\) is an <b>entangled vector</b>.\n",
    "<br>\n",
    "</div>\n"
   ]
  },
  {
   "cell_type": "markdown",
   "id": "3e84df8c",
   "metadata": {
    "slideshow": {
     "slide_type": "skip"
    }
   },
   "source": [
    "We have already seen that, given a basis $\\ket{e_i}$ of $\\Hil$, the most general vector belonging to the product space admits a decomposition  \n",
    "\n",
    "$$\n",
    "\\ket{w} = \\sum_{i,j=1}^d w_{ij}\\ket{e_{i}}\\otimes \\ket{e_j} = w_{11}\\ket{e_1}\\otimes\\ket{e_1} + w_{12}\\ket{e_1}\\otimes\\ket{e_2} + ...\\, .\n",
    "$$"
   ]
  },
  {
   "cell_type": "markdown",
   "id": "713945ce",
   "metadata": {
    "slideshow": {
     "slide_type": "skip"
    }
   },
   "source": [
    "It could happen that in another basis\n",
    "$$\n",
    "\\ket{w} = \\tilde w_{11} \\ket{f_1}\\otimes\\ket{f_1}\n",
    "$$\n",
    "it would have only a single term and therefore be factorizable.\n"
   ]
  },
  {
   "cell_type": "markdown",
   "id": "b0210a63",
   "metadata": {
    "slideshow": {
     "slide_type": "skip"
    }
   },
   "source": [
    "\n",
    "Determining whether a vector is factorizable or entangled is not something that can be done at first glance.\n"
   ]
  },
  {
   "cell_type": "markdown",
   "id": "7e48ac8d",
   "metadata": {
    "slideshow": {
     "slide_type": "slide"
    }
   },
   "source": [
    "<div class=\"alert alert-block alert-info\" text-align=\"center\">\n",
    "<p style=\"text-align: left; color: navy;\">  \n",
    "<b>Lemma</b>:  \n",
    "<br>    \n",
    "    The state $\\ket{w}$ is factorizable <i>if and only if</i> the components $w_{ij}$ factorize in the form \n",
    "<br>\n",
    "<br>    \n",
    "$$w_{ij} = u_i\\,v_j$$\n",
    "with $i=1,\\dots,d_1$ and $j=1,\\dots,d_2$.  \n",
    "</div>\n"
   ]
  },
  {
   "cell_type": "markdown",
   "id": "3b54c71c",
   "metadata": {
    "slideshow": {
     "slide_type": "fragment"
    }
   },
   "source": [
    "    \n",
    "\\begin{align}\n",
    "\\ket{w} &= \\sum_{i,j=1}^d w_{ij} \\ket{e_{ij}} \\\\\n",
    "& = \\sum_{i,j} u_{i}v_j \\ket{e_i}\\otimes \\ket{e_j} \\\\\n",
    "& = \\sum_{i,j} u_{i} \\ket{e_i}\\otimes v_j\\ket{e_j}  \\\\\n",
    "& = \\left(\\sum_i u_i\\ket{e_i}\\right) \\otimes \\left(\\sum_j v_j\\ket{e_j}\\right) \\\\\n",
    "& =   \\ket{u}\\otimes \\ket{v}\n",
    "\\end{align}\n"
   ]
  },
  {
   "cell_type": "markdown",
   "id": "e65e2ff0",
   "metadata": {
    "slideshow": {
     "slide_type": "slide"
    }
   },
   "source": [
    "<div class=\"alert alert-block alert-danger\">\n",
    "<b>Note:</b>  \n",
    "\n",
    "The entangled nature of a vector is <i>generic</i>, while the factorizable nature is <i>accidental</i>.\n",
    "This follows from a simple counting argument:\n",
    "\n",
    "   - as a function of $d_1$ and $d_2$, $\\{w_{ij}\\}$ forms a set of $d_1 d_2$ complex parameters (degrees of freedom).\n",
    "\n",
    "   - however, in $\\{u_i v_j\\}$ there are only $d_1 + d_2$ independent numbers. It is evident that $d_1 d_2 \\gg d_1 + d_2$.\n",
    "\n",
    "\n",
    "<br>\n",
    "</div>\n",
    "\n",
    "   "
   ]
  },
  {
   "cell_type": "markdown",
   "id": "da36c2c9",
   "metadata": {
    "slideshow": {
     "slide_type": "slide"
    }
   },
   "source": [
    "## Measures of entanglemente in $\\Hil^{\\otimes 2}$\n",
    "\n",
    "   \n",
    "In general, it will not be possible to determine whether a vector is factorizable or entangled. \n",
    "\n",
    "Let us look at some useful tools in this regard for the case of bi-partite systems.   \n"
   ]
  },
  {
   "cell_type": "markdown",
   "id": "49afacfe",
   "metadata": {
    "slideshow": {
     "slide_type": "slide"
    }
   },
   "source": [
    "<a id='concurr'></a>\n",
    "\n",
    "### Concurrence\n",
    "\n",
    "In the case $d_1 = d_2 = 2$ the condition of *factorizability* $~\\Rightarrow~w_{ij} = u_i v_j$ is <i>equivalent</i> to verifying that the determinant of the $2\\times 2$ matrix formed by the components vanishes\n",
    "\n",
    "$$\n",
    "\\det w_{ij} = w_{11}w_{22} - w_{12}w_{21} = u_1v_1u_2v_2 - u_1v_2u_2v_1 = 0\n",
    "$$\n",
    "\n",
    "Motivated by this, we now define our first *entanglement monotone*"
   ]
  },
  {
   "cell_type": "markdown",
   "id": "ba66ef6c",
   "metadata": {
    "slideshow": {
     "slide_type": "fragment"
    }
   },
   "source": [
    "<div class=\"alert alert-block alert-info\",text-align:center>\n",
    "<p style=\"text-align: left ;color: navy;\">  \n",
    "<b>Definition</b>: <i>(Concurrence)</i>\n",
    "<br>\n",
    "The <i>concurrence</i> of a two-dimensional bipartite state $ \\ket{\\psi} = \\sum_{ij} w_{ij} \\ket{e_i}\\ket{e_j} $ is\n",
    "<br>\n",
    "<br>\n",
    "$$\n",
    "\\mathcal{C} = 2|\\det w_{ij}|\n",
    "$$\n",
    "</div>\n"
   ]
  },
  {
   "cell_type": "markdown",
   "id": "7420b742",
   "metadata": {
    "slideshow": {
     "slide_type": "slide"
    }
   },
   "source": [
    "\n",
    "La **concurrence** is a measure of entanglement. \n",
    "\n",
    "<div class=\"alert alert-block alert-info\",text-align:center>\n",
    "<p style=\"text-align: left ;color: navy;\">  \n",
    "<b>Theorem</b>: \n",
    "$$\n",
    "0 \\leq {\\cal C} \\leq 1\n",
    "$$\n",
    "</div>    \n",
    "<details>\n",
    "    <summary><p style=\"text-align: right\"> >> <i>Proof</i> </p></summary>\n",
    "The concurrence can be rewritten as follows\n",
    "\n",
    "\\begin{align}\n",
    "\\frac{\\cal C}{4} &= (|w_{11}|^2 + |w_{12}|^2)(|w_{21}|^2 + |w_{22}|^2) - |w_{11}w_{12}^* + w_{21}w_{22}|^2\n",
    "\\\\ \\rule{0mm}{7mm}\n",
    "& \\leq  (|w_{11}|^2 + |w_{12}|^2)(|w_{21}|^2 + |w_{22}|^2)\n",
    "\\end{align}\n",
    "    \n",
    "    \n",
    "\n",
    "Using that from unit norm  of $\\ket{\\psi}$ it follows that  $|w_{11}|^2 + |w_{12}|^2 \\equiv x  \\Rightarrow |w_{21}|^2 + |w_{22}|^2 = 1-x$. From here\n",
    "\n",
    "$$\n",
    "{\\cal C} \\leq f(x) \\equiv 4x(1-x)\n",
    "$$\n",
    "\n",
    "$f(x)$ is a symmetric funcion with range in $[0,1]$ and maximum at $f(1/2) = 1$. This proves the theorem. \n",
    "</details>\n",
    "\n",
    "- for ${\\cal C} = 0$ the state is factorizable\n",
    "\n",
    "- when ${\\cal C} = 1$ the state is maximally entangled\n"
   ]
  },
  {
   "cell_type": "markdown",
   "id": "fda8a7d3",
   "metadata": {
    "slideshow": {
     "slide_type": "slide"
    }
   },
   "source": [
    "<a id='Schmidt'></a>\n",
    "\n",
    "\n",
    "###   Schmidt number\n",
    "\n",
    " "
   ]
  },
  {
   "cell_type": "markdown",
   "id": "27453c66",
   "metadata": {
    "slideshow": {
     "slide_type": "skip"
    }
   },
   "source": [
    "In the case where one of the dimensions \\(d_1, d_2 > 2\\), the search for a criterion to detect whether \\(w_{ij}\\) is factorizable or entangled involves the Schmidt decomposition.\n"
   ]
  },
  {
   "cell_type": "markdown",
   "id": "4fefa3a9",
   "metadata": {
    "slideshow": {
     "slide_type": "-"
    }
   },
   "source": [
    "Consider a bi-partite system over $\\Hil_1\\otimes \\Hil_2$. \n",
    "\n",
    "In arbitrary bases $\\{\\ket{e_{1,i}},\\; i=1,\\dots,d_1\\}$   and $\\{\\ket{e_{2,a}},\\; a=1,\\dots,d_2\\}$ our vector is written\n",
    "\n",
    "$$\n",
    "\\ket{w} = \\sum_{i=1}^{d_1}\\sum_{a=1}^{d_2} w_{ia} \\ket{e_{1,i}}\\otimes \\ket{e_{2,a}}\n",
    "$$"
   ]
  },
  {
   "cell_type": "markdown",
   "id": "6f19b2df",
   "metadata": {
    "slideshow": {
     "slide_type": "skip"
    }
   },
   "source": [
    "The values of the *components* $w_{ia}$ **depend on the chosen bases**. In *other* bases $\\ket{\\tilde e_{1,i}}\\otimes\\ket{\\tilde e_{2,a}}$ we will find *other* components $\\tilde w_{ia}$ for the *same* vector  \n",
    "<br>\n"
   ]
  },
  {
   "cell_type": "markdown",
   "id": "b0229b6e",
   "metadata": {
    "slideshow": {
     "slide_type": "skip"
    }
   },
   "source": [
    "If there exists a basis in which $\\tilde w_{ia} = 0$ for all \\(i,a\\) except one (for example $\\tilde w_{11} \\neq 0$), then  \n",
    "<br>  \n",
    "$$\n",
    "\\ket{w} = \\tilde w_{11}\\,\\ket{\\tilde e_{1,1}}\\otimes \\ket{\\tilde e_{2,1}}\n",
    "$$  \n",
    "<br>  \n",
    "and, secretly, the vector $\\ket{w}$ was factorizable.\n"
   ]
  },
  {
   "cell_type": "markdown",
   "id": "8a9e7ac3",
   "metadata": {
    "slideshow": {
     "slide_type": "skip"
    }
   },
   "source": [
    "The following theorem allows us to determine **how close we can get to this situation**\n"
   ]
  },
  {
   "cell_type": "markdown",
   "id": "d71a1812",
   "metadata": {
    "slideshow": {
     "slide_type": "slide"
    }
   },
   "source": [
    "<div class=\"alert alert-block alert-info\",text-align:center>\n",
    "<p style=\"text-align: left ;color: navy;\">  \n",
    "<b>Theorem</b>: (<i>Schmidt</i>)  \n",
    "<br>  \n",
    "<br>  \n",
    "For each vector $\\ket{w}\\in \\Hil_1\\otimes \\Hil_2$, there exist bases $\\{\\ket{f_{1,i}}\\}$ of $\\Hil_1$ and $\\{\\ket{f_{2,a}}\\}$ of $\\Hil_2$ such that  \n",
    "<br>  \n",
    "we can express  \n",
    "<br>  \n",
    "<br>  \n",
    "$$\n",
    "\\ket{w} = \\sum_{i=1}^r \\sqrt{\\lambda_i}\\,\\ket{f_{1,i}}\\otimes\\ket{f_{2,i}} \\,,\n",
    "$$  \n",
    "<br>  \n",
    "where the sum involves the <i>minimum number</i>, $r$, of terms.  \n",
    "</div>\n"
   ]
  },
  {
   "cell_type": "markdown",
   "id": "039ed843",
   "metadata": {
    "slideshow": {
     "slide_type": "fragment"
    }
   },
   "source": [
    "The number $1 \\le r \\le \\min(d_1,d_2)$ is the <b>rank</b> of $w$ and is called the <i>Schmidt number</i>. It is the relevant information because\n",
    "\n",
    "- if $r = 1$ the state $\\ket{w}$ is *factorizable*\n",
    "<br>\n",
    "<br>\n",
    "- if $r \\ge 2$ the state is *entangled*\n"
   ]
  },
  {
   "cell_type": "markdown",
   "id": "640148f9",
   "metadata": {
    "slideshow": {
     "slide_type": "fragment"
    }
   },
   "source": [
    "The matrix  $w_{ia}$, has dimension $d_1\\times d_2$.\n",
    "By the **SVD theorem** we can express this matrix in the following form  \n",
    "<br>\n",
    "$$\n",
    "w_{ia} = \\sum_{j=1}^{d_1}\\sum_{b=1}^{d_2} U_{ij}\\Sigma_{jb}V_{ab}^*\n",
    "$$\n",
    "\n",
    "where $U$ and $V$ are unitary $(d_1\\times d_1)$ and $(d_2\\times d_2)$ respectively, while $\\Sigma$ is diagonal. Let us take $d_1\\geq d_2$ for example  \n",
    "\n"
   ]
  },
  {
   "cell_type": "markdown",
   "id": "15f505ee",
   "metadata": {
    "slideshow": {
     "slide_type": "slide"
    }
   },
   "source": [
    "$$\n",
    "\\Sigma_{jb} = \n",
    "\\overbrace{\\left.\n",
    "\\begin{bmatrix}\n",
    "\\sqrt{\\lambda_1} &\\cdots  &    &  & & &  0  \\\\  \\vdots & \\ddots & & & & & \\vdots  \\\\  & & \\sqrt{\\lambda_r} & & & &  \\\\\n",
    "   & &  & 0  & &  &    \\\\ & & & & & \\ddots &  \\\\  0 & &\\cdots  & & & & 0  \\\\ \\vdots & &&&& & \\vdots \\\\ 0 & & \\cdots & & & & 0\n",
    "\\end{bmatrix}   \\right\\}  }^{\\displaystyle d_2} \\, d_1 ~~~~~~\\Rightarrow ~~~~~ \\Sigma_{jb} = \\sqrt{\\lambda_j}\\delta_{jb}\n",
    "$$\n",
    "\n",
    "$\\lambda_1,...,\\lambda_r >0$  are the eigenvalues of the matrix $w^\\dagger w$."
   ]
  },
  {
   "cell_type": "markdown",
   "id": "9d07ae56",
   "metadata": {
    "slideshow": {
     "slide_type": "slide"
    }
   },
   "source": [
    "\n",
    "This means that we can replace\n",
    "\n",
    "\\begin{eqnarray}\n",
    "\\ket{w} &=& \\sum_{i=1}^{d_1}\\sum_{a=1}^{d_2}\\left( \\sum_{j=1}^{d_1}\\sum_{b=1}^{d_2} U_{ij}\\Sigma_{jb}V_{ab}^* \\right)\\ket{e_{1,i}}\\otimes \\ket{e_{2,a}}\n",
    "\\\\  \\rule{0mm}{10mm}\n",
    "&=& \\sum_{j=1}^{d_1}\\sum_{b=1}^{d_2}\\Sigma_{jb}\\left( \\sum_{i=1}^{d_1} U_{ij}\\ket{e_{1,i}} \\right)\\otimes  \\left( \\sum_{a=1}^{d_2} V_{ab}^* \\ket{e_{2,a}}\\right)\n",
    "\\\\   \\rule{0mm}{10mm}\n",
    "&=& \\sum_{j=1}^{d_1}\\sum_{b=1}^{d_2}\\sqrt{\\lambda_j}\\, \\delta_{jb} \\ket{f_{1,j}}\\otimes \\ket{f_{2,b}}\\\\   \\rule{0mm}{10mm}\n",
    "&=& \\sum_{j=1}^r \\sqrt{\\lambda_j} \\,  \\ket{f_{1,j}}\\otimes \\ket{f_{2,j}}\n",
    "\\end{eqnarray}"
   ]
  },
  {
   "cell_type": "markdown",
   "id": "ea87a2f7",
   "metadata": {
    "slideshow": {
     "slide_type": "slide"
    }
   },
   "source": [
    "Therefore, we can determine whether a *bipartite state* is entangled by computing the singular value decomposition of its coefficient matrix in any basis.\n",
    "\n",
    "The `numpy.linalg.svd` function allows us to obtain the SVD decomposition.\n",
    "\n"
   ]
  },
  {
   "cell_type": "code",
   "execution_count": 5,
   "id": "7124247a",
   "metadata": {
    "slideshow": {
     "slide_type": "-"
    }
   },
   "outputs": [],
   "source": [
    "d1=4 # Dimensión de H1\n",
    "d2=3 # Dimensión de H2"
   ]
  },
  {
   "cell_type": "markdown",
   "id": "1474fdd9",
   "metadata": {
    "slideshow": {
     "slide_type": "fragment"
    }
   },
   "source": [
    "We generate the coefficient matrix $w_{ia}$ of an arbitrary entangled state\n"
   ]
  },
  {
   "cell_type": "code",
   "execution_count": 6,
   "id": "951ba9db",
   "metadata": {
    "scrolled": true,
    "slideshow": {
     "slide_type": "-"
    }
   },
   "outputs": [
    {
     "data": {
      "text/latex": [
       "$$\n",
       "\n",
       "\\begin{bmatrix}\n",
       "0.6069278661 + 0.6590082212 i & 1.0435322696 + 0.6753217505 i & 0.9218345678 + 0.2641462648 i  \\\\\n",
       " 0.6843506187 + 0.0782184275 i & 1.3969810837 - 0.3389154352 i & -0.326685719 - 1.0462539967 i  \\\\\n",
       " -1.452374943 + 1.2704759449 i & -0.3756632776 + 1.0698963868 i & 0.4582621612 + 1.0842134574 i  \\\\\n",
       " -0.8280563732 - 0.0888492587 i & 0.2225224293 - 1.0689672386 i & 0.014566307 + 0.0114660038 i  \\\\\n",
       " \\end{bmatrix}\n",
       "$$"
      ],
      "text/plain": [
       "<IPython.core.display.Latex object>"
      ]
     },
     "metadata": {},
     "output_type": "display_data"
    }
   ],
   "source": [
    "w = np.random.randn(d1,d2)+ np.random.randn(d1,d2) * 1j  # coeficientes w_{ia} de un estado genérico\n",
    "display(array_to_latex(w))"
   ]
  },
  {
   "cell_type": "markdown",
   "id": "9f23c8da",
   "metadata": {
    "slideshow": {
     "slide_type": "slide"
    }
   },
   "source": [
    "We compute the Schmidt number"
   ]
  },
  {
   "cell_type": "code",
   "execution_count": 14,
   "id": "0adfca00",
   "metadata": {
    "slideshow": {
     "slide_type": "-"
    }
   },
   "outputs": [
    {
     "name": "stdout",
     "output_type": "stream",
     "text": [
      "singular values s_i =  [3.365 2.748 1.199]\n",
      "The Schmidt number is r = 3\n"
     ]
    }
   ],
   "source": [
    "from numpy import linalg as la\n",
    "u, s, vh = la.svd(w)\n",
    "np.round(s,3)\n",
    "\n",
    "print('singular values s_i = ',np.round(s,3))\n",
    "print('The Schmidt number is r =', np.count_nonzero(s))"
   ]
  },
  {
   "cell_type": "markdown",
   "id": "18765345",
   "metadata": {
    "slideshow": {
     "slide_type": "fragment"
    }
   },
   "source": [
    "Run the previous cell several times to see whether you can find any case in which $r<{\\rm min}(d_1,d_2)$"
   ]
  },
  {
   "cell_type": "markdown",
   "id": "e3fef374",
   "metadata": {
    "slideshow": {
     "slide_type": "slide"
    }
   },
   "source": [
    "Let us see next the case of a factorizable state"
   ]
  },
  {
   "cell_type": "code",
   "execution_count": 15,
   "id": "1b0877bb",
   "metadata": {
    "slideshow": {
     "slide_type": "-"
    }
   },
   "outputs": [
    {
     "data": {
      "text/plain": [
       "array([[ 0.37411717-0.02045275j],\n",
       "       [ 0.0606012 -0.4442515j ],\n",
       "       [-0.12014684-0.10257255j],\n",
       "       [ 0.45648221+0.48342859j],\n",
       "       [-0.09137814+0.42801934j]])"
      ]
     },
     "execution_count": 15,
     "metadata": {},
     "output_type": "execute_result"
    }
   ],
   "source": [
    "d1=5\n",
    "d2=3\n",
    "\n",
    "u = tQ.random_ket(d1)\n",
    "v = tQ.random_ket(d2)\n",
    "\n",
    "u"
   ]
  },
  {
   "cell_type": "markdown",
   "id": "73fad416",
   "metadata": {
    "slideshow": {
     "slide_type": "fragment"
    }
   },
   "source": [
    "We form the components  $w_{ia} = u_iv_a$ "
   ]
  },
  {
   "cell_type": "code",
   "execution_count": 16,
   "id": "feca820a",
   "metadata": {
    "slideshow": {
     "slide_type": "-"
    }
   },
   "outputs": [
    {
     "data": {
      "text/latex": [
       "$$\n",
       "\n",
       "\\begin{bmatrix}\n",
       "0.1867700508 + 0.1195079083 i & 0.1020329674 - 0.2192677634 i & 0.1665775391 + 0.0705664432 i  \\\\\n",
       " 0.1826858939 - 0.1924373728 i & -0.234578682 - 0.1695029572 i & 0.1206067683 - 0.179781034 i  \\\\\n",
       " -0.0222508449 - 0.0908032876 i & -0.0949214046 + 0.0372534172 i & -0.030322261 - 0.0699908852 i  \\\\\n",
       " 0.0521410972 + 0.3900105606 i & 0.4140119371 - 0.1130621718 i & 0.095306563 + 0.306561587 i  \\\\\n",
       " -0.1918575273 + 0.1740010237 i & 0.2159827814 + 0.1820975103 i & -0.1305065518 + 0.1662071832 i  \\\\\n",
       " \\end{bmatrix}\n",
       "$$"
      ],
      "text/plain": [
       "<IPython.core.display.Latex object>"
      ]
     },
     "metadata": {},
     "output_type": "display_data"
    }
   ],
   "source": [
    "w = np.outer(u,v)\n",
    "display(array_to_latex(w))"
   ]
  },
  {
   "cell_type": "code",
   "execution_count": 17,
   "id": "62eef781",
   "metadata": {
    "slideshow": {
     "slide_type": "slide"
    }
   },
   "outputs": [
    {
     "name": "stdout",
     "output_type": "stream",
     "text": [
      "principal values s_i =  [1. 0. 0.]\n",
      "The Schmidt number is p = 1\n"
     ]
    }
   ],
   "source": [
    "u, s, vh = la.svd(w, full_matrices=True)\n",
    "\n",
    "print('principal values s_i = ',np.round(s,3))\n",
    "print('The Schmidt number is p =', np.count_nonzero(np.round(s,3)))"
   ]
  },
  {
   "cell_type": "markdown",
   "id": "3ab4dad0",
   "metadata": {
    "slideshow": {
     "slide_type": "fragment"
    }
   },
   "source": [
    "You can run the cell several times to check that  $r>1$ is never attained"
   ]
  },
  {
   "cell_type": "markdown",
   "id": "ad5a7080",
   "metadata": {
    "slideshow": {
     "slide_type": "slide"
    }
   },
   "source": [
    "<a id='mult_tens'></a>\n",
    "\n",
    "\n",
    "# Multiple tensor product\n",
    "[<<<](#top)"
   ]
  },
  {
   "cell_type": "markdown",
   "id": "fc4a6f79",
   "metadata": {
    "slideshow": {
     "slide_type": "slide"
    }
   },
   "source": [
    "- The tensor product can be generalized to more than one factor.\n"
   ]
  },
  {
   "cell_type": "markdown",
   "id": "da4e3cb1",
   "metadata": {
    "slideshow": {
     "slide_type": "fragment"
    }
   },
   "source": [
    "- The space $\\Hil_1\\otimes \\Hil_2 \\otimes \\dots \\otimes \\Hil_n$ is formed by all *n‑tuples* of ordered vectors  \n",
    "<br>\n",
    "<br>\n",
    "$$\n",
    "\\ket{u} = \\ket{u_1u_2\\dots u_n} \\equiv \\ket{u_1}\\otimes\\ket{u_2}\\otimes \\dots \\otimes \\ket{u_n}\n",
    "$$  \n",
    "<br>\n",
    "where $\\ket{u_i}\\in \\Hil_i$ and their linear combinations $\\{ a\\ket{u} + b\\ket{v} + \\dots\\}$.  \n",
    "<br>\n"
   ]
  },
  {
   "cell_type": "markdown",
   "id": "c19e810d",
   "metadata": {
    "slideshow": {
     "slide_type": "skip"
    }
   },
   "source": [
    "\n",
    "- Unless otherwise stated, we will assume that all $\\Hil_j=\\Hil$ are identical and of dimension $d$. In the usual quantum computing context with qubits $\\Rightarrow\\, d=2$  \n"
   ]
  },
  {
   "cell_type": "markdown",
   "id": "464d2665",
   "metadata": {
    "slideshow": {
     "slide_type": "skip"
    }
   },
   "source": [
    "<div class=\"alert alert-block alert-success\">\n",
    "<b>Exercise:</b>  \n",
    "Write a function <i>kronecker($u_1,u_2,\\dots,u_n$)</i> that takes $n$ kets (as column vectors) and returns their multiple Kronecker product.  \n",
    "</div>\n"
   ]
  },
  {
   "cell_type": "markdown",
   "id": "ead7df7e",
   "metadata": {
    "slideshow": {
     "slide_type": "slide"
    }
   },
   "source": [
    "<a id='basis_Hn'></a>\n",
    "\n",
    "## Basis of $\\Hil^{\\otimes n}$\n",
    "\n",
    "A basis of $\\Hil^{\\otimes n}$ is obtained from strings  \n",
    "<br>\n",
    "\n",
    "$$\n",
    "\\ket{i_1 i_2 \\dots i_n} = \\ket{i_1}\\ket{i_2}\\dots\\ket{i_n}\n",
    "$$  \n",
    "where $i_1,\\dots,i_n = 0,\\dots,d-1$.\n"
   ]
  },
  {
   "cell_type": "markdown",
   "id": "c772ecbf",
   "metadata": {
    "slideshow": {
     "slide_type": "fragment"
    }
   },
   "source": [
    "- The number of possible strings is $d^n$, which is the dimension of $\\Hil^{\\otimes n}$\n",
    "\n",
    "\n",
    "$$\n",
    "{\\rm dim}_{\\mathbb C} \\Hil^{\\otimes n} = d^n\n",
    "$$\n"
   ]
  },
  {
   "cell_type": "markdown",
   "id": "c36c253c",
   "metadata": {
    "slideshow": {
     "slide_type": "slide"
    }
   },
   "source": [
    "- We can relabel  \n",
    "<br>\n",
    "\n",
    "$$\\ket{i_1 \\dots i_n} \\to \\ket{a}$$  \n",
    "\n",
    "with  \n",
    "\n",
    "$$\n",
    "a = d^{n-1}\\,i_1 + d^{n-2}\\,i_2  + \\dots +   d\\,i_{n-1} + i_n\n",
    "$$  \n",
    "Clearly $~a \\in (0,d^n-1)$.\n"
   ]
  },
  {
   "cell_type": "code",
   "execution_count": 18,
   "id": "ae2e20e9",
   "metadata": {},
   "outputs": [
    {
     "name": "stdout",
     "output_type": "stream",
     "text": [
      "[[[-0.56426569  0.40884116]\n",
      "  [ 0.53902142  1.49456374]]\n",
      "\n",
      " [[-0.98724937  1.65260519]\n",
      "  [ 0.199554    0.40195454]]]\n"
     ]
    }
   ],
   "source": [
    "tensor = np.random.randn(2,2,2)\n",
    "\n",
    "print(tensor)"
   ]
  },
  {
   "cell_type": "markdown",
   "id": "ddebde6d",
   "metadata": {
    "slideshow": {
     "slide_type": "skip"
    }
   },
   "source": [
    "-  If each basis $\\{\\ket{i}\\}$ is otrhonormal, the *tensor product basis* will also be\n",
    "<br>\n",
    "\n",
    "$$\n",
    "\\braket{i_1 i_2... i_n}{j_1j_2...j_n} = \\delta_{i_1j_1}\\delta_{i_2j_2}...\\delta_{i_nj_n} ~~~~\\leftrightarrow ~~~~\n",
    "\\braket{a}{b} = \\delta_{ab}\n",
    "$$"
   ]
  },
  {
   "cell_type": "markdown",
   "id": "8170d922",
   "metadata": {
    "slideshow": {
     "slide_type": "slide"
    }
   },
   "source": [
    "\n",
    "A *general vector* admits an expansion in this basis with $d^n$ *complex components* $u_{i_1 i_2 \\dots i_n}$ in the form  \n",
    "<br>\n",
    "<br>\n",
    "$$\n",
    "\\ket{u} ~=~ \\sum_{i_1,\\dots,i_n=0}^{d-1} u_{i_1 i_2 \\dots i_n}\\,\\ket{i_1 i_2 \\dots i_n}\n",
    "~~=~\n",
    "\\sum_{a=0}^{d^n-1} u_a\\,\\ket{a}\\,.\n",
    "$$\n"
   ]
  },
  {
   "cell_type": "markdown",
   "id": "db885ab3",
   "metadata": {
    "slideshow": {
     "slide_type": "fragment"
    }
   },
   "source": [
    "We can obtain any complex component by projecting onto the corresponding basis element\n",
    "\n",
    "$$\n",
    "u_{i_1i_2...i_n} = \\braket{i_1 i_2... i_n}{u}~~~~~~\\leftrightarrow~~~~~~~~u_a = \\braket{a}{u}\n",
    "$$\n"
   ]
  },
  {
   "cell_type": "markdown",
   "id": "12ce8ebf",
   "metadata": {
    "slideshow": {
     "slide_type": "slide"
    }
   },
   "source": [
    "<div class=\"alert alert-block alert-info\" text-align=\"center\">\n",
    "<p style=\"text-align: left; color: navy;\">  \n",
    "<b>Definition:</b>  \n",
    "<br>\n",
    "<br>\n",
    "We say that the $u_{i_1i_2\\dots i_n}$ are the components of a <b>rank‑$n$ tensor</b>.  \n",
    "<br>\n",
    "<br>\n",
    "</div>  \n",
    "<br>  \n",
    "\n",
    "A rank‑$n$ tensor has $d^n$ independent components $u_{i_1i_2\\dots i_n}$, which form the components of a generic entangled state.  \n"
   ]
  },
  {
   "cell_type": "markdown",
   "id": "fa8887d3",
   "metadata": {
    "slideshow": {
     "slide_type": "slide"
    }
   },
   "source": [
    "<a id='gen_state'></a>\n",
    "\n",
    "\n",
    "## Multipartite entanglement\n"
   ]
  },
  {
   "cell_type": "markdown",
   "id": "da03dc3b",
   "metadata": {
    "slideshow": {
     "slide_type": "slide"
    }
   },
   "source": [
    "### Factorizable state\n",
    "\n",
    "As before, *only in very special cases*, a vector in $\\Hil^{\\otimes n}$ can be written in factorized form  \n",
    "<br>\n",
    "<br>\n",
    "$$\n",
    "\\ket{w} = \\ket{v_1}\\ket{v_2}\\ldots\\ket{v_n}\n",
    "$$\n"
   ]
  },
  {
   "cell_type": "markdown",
   "id": "49345ea5",
   "metadata": {
    "slideshow": {
     "slide_type": "fragment"
    }
   },
   "source": [
    "The components of a factorizable vector are themselves factorizable.\n",
    "\n",
    "\\begin{align}\n",
    " \\ket{w} & ~=~ \\sum_{i_1=0}^{d-1}v_{i_1}\\ket{i_1}.... \\sum_{i_n=0}^{d-1}v_{i_n}\\ket{i_n} \n",
    " ~ = \\sum_{i_1,...,i_n=0}^{d-1} v_{i_1}... v_{i_n} \\ket{i_1...i_n}\n",
    "\\end{align}\n",
    "\n",
    "That is\n",
    "$$\n",
    "v_{i_1i_2...i_n}  = v_{i_1} v_{i_2}.... v_{i_n}\n",
    "$$"
   ]
  },
  {
   "cell_type": "markdown",
   "id": "72fe7bbf",
   "metadata": {
    "slideshow": {
     "slide_type": "fragment"
    }
   },
   "source": [
    "The <i>set of coefficients</i> is parameterized by $d + d + \\dots + d = n d$ quantities $v_{i_k}$, $i_k = 1,\\dots,d$, $k = 1,\\dots,n$.\n"
   ]
  },
  {
   "cell_type": "markdown",
   "id": "65c19010",
   "metadata": {
    "slideshow": {
     "slide_type": "slide"
    }
   },
   "source": [
    "<a id='mps'></a>\n",
    "### Matrix product states *(MPS)*\n",
    "\n"
   ]
  },
  {
   "cell_type": "markdown",
   "id": "3cad2b0e",
   "metadata": {
    "slideshow": {
     "slide_type": "slide"
    }
   },
   "source": [
    "Between the *two extreme cases above* we find the possibility that the tensor components can be written as products, not of complex numbers $v_i$, but of matrices $A_i^{\\alpha\\beta}$  \n"
   ]
  },
  {
   "cell_type": "markdown",
   "id": "25790ed0",
   "metadata": {
    "slideshow": {
     "slide_type": "fragment"
    }
   },
   "source": [
    "For example, let\n",
    "$$\n",
    "v_i \\to A_i^{\\alpha\\beta} \\Rightarrow \\left\\{ \n",
    "\\begin{align}  \\alpha,\\beta &=1,\\dots,D ~~~\\hbox{local dimension} \\\\ i &= 1,\\dots, d ~~~\\hbox{number of matrices} \\end{align} \\right.\n",
    "$$\n",
    "\n",
    "be a set of $d$ matrices of *(local)* dimension $D$\n"
   ]
  },
  {
   "cell_type": "markdown",
   "id": "72d0c451",
   "metadata": {
    "slideshow": {
     "slide_type": "fragment"
    }
   },
   "source": [
    "Replace the product of numbers  by the product of matrices\n",
    "$$\n",
    "A_i A_j ~~\\to~~  \\mathrm{tr}\\,(A_i \\cdot A_j) = \\sum_{\\alpha=1}^D\\sum_{\\gamma=1}^D A_i^{\\alpha\\gamma}A_j^{\\gamma\\alpha}\n",
    "$$\n",
    "\n",
    "There are more independent degrees of freedom in the expression on the right $\\to d\\,D^2 \\ge d$.\n",
    "\n",
    "This allows to represent states that have an amount of *entanglement* proportional to $D$.  \n"
   ]
  },
  {
   "cell_type": "markdown",
   "id": "1a244f80",
   "metadata": {
    "slideshow": {
     "slide_type": "slide"
    }
   },
   "source": [
    "<div class=\"alert alert-block alert-info\">\n",
    "<p style=\"text-align:left;color:navy\"> <b>Definition</b>:\n",
    "<br>\n",
    "<br>\n",
    "    A state $\\ket{v}$ is a <b>MPS</b> <i>(Matrix Product State)</i> if its components in any basis can be written as the total trace of a product of matrices\n",
    "<br>\n",
    "$$\n",
    "v_{i_1 i_2 i_3... i_n} = \\tr \\, ( A_{i_1}\\, A_{i_2}\\, A_{i_3} \\cdots A_{i_n} )\n",
    "$$\n",
    "</div>\n"
   ]
  },
  {
   "cell_type": "markdown",
   "id": "dd451a1a",
   "metadata": {
    "slideshow": {
     "slide_type": "fragment"
    }
   },
   "source": [
    "For example, with $n=4$, $\\ket{v} =  \\sum v_{i_1i_2i_3i_4} \\ket{e_{i_1i_2i_3i_4} }$\n",
    " $$\n",
    "v_{i_1i_2i_3i_4} =  \\sum_{\\alpha\\beta\\gamma\\mu = 1}^DA_{i_1}^{\\mu \\alpha}A_{i_2}^{\\alpha\\beta}A_{i_3}^{\\beta\\gamma}A_{i_4}^{\\gamma\\mu}\n",
    "$$\n",
    "<br>\n",
    "<div>\n",
    "<img src=\"figuras/XTN4.png\" width=\"50%\" style='margin:auto'/>\n",
    "</div>\n",
    "<br>\n",
    "<br>\n"
   ]
  },
  {
   "cell_type": "markdown",
   "id": "973049f9",
   "metadata": {
    "slideshow": {
     "slide_type": "skip"
    }
   },
   "source": [
    "<a id='tens_netw'></a>\n",
    "\n",
    "### Tensor networks\n",
    "\n"
   ]
  },
  {
   "cell_type": "markdown",
   "id": "1abe6f2b",
   "metadata": {
    "slideshow": {
     "slide_type": "skip"
    }
   },
   "source": [
    "\n",
    "If we want to increase the entanglement of the state, we can, in addition to increasing $D$, resort to index contractions of higher‑rank tensors.\n",
    "\n",
    "The figure on the right corresponds to the following contraction\n",
    "<br>\n",
    "<br>\n",
    "$$\n",
    "v_{i_1i_2i_3i_4} = \\sum_{\\alpha\\beta\\gamma\\mu\\delta = 1}^D A_{i_1}^{\\mu \\alpha\\delta}A_{i_2}^{\\alpha\\beta}A_{i_3}^{\\beta\\delta\\gamma}A_{i_4}^{\\gamma\\mu}\n",
    "$$\n"
   ]
  },
  {
   "cell_type": "markdown",
   "id": "23a21672",
   "metadata": {
    "slideshow": {
     "slide_type": "skip"
    }
   },
   "source": [
    "In general, any component may hide an arbitrary number of contracted indices so that they can be represented by a graph with external lines.\n",
    "\n",
    "<br>\n",
    "<br>\n",
    "<div>\n",
    "<img src=\"figuras/XTensNet.png\" width=\"50%\" style='margin:auto'/>\n",
    "</div>\n",
    "<br>\n",
    "<br>\n",
    "\n",
    "\n"
   ]
  },
  {
   "cell_type": "markdown",
   "id": "3cc9cc27",
   "metadata": {
    "slideshow": {
     "slide_type": "skip"
    }
   },
   "source": [
    "MPS states, and TN states with a finite local bond dimension $D$, are not expressive enough to capture the maximal possible entanglement in a state.\n",
    "\n",
    "<br>\n",
    "<br>\n",
    "<div>\n",
    "<img src=\"figuras/XTN_complete.png\" width=\"50%\" style='margin:auto'/>\n",
    "</div>\n",
    "<br>\n",
    "<br>\n"
   ]
  },
  {
   "cell_type": "markdown",
   "id": "7403067d",
   "metadata": {
    "slideshow": {
     "slide_type": "skip"
    }
   },
   "source": [
    "<br>\n",
    "\n",
    "<div class=\"alert alert-block alert-danger\">\n",
    "    <b>Note:</b> \n",
    "<br>\n",
    "    \n",
    "- $n d \\ll d^n$. The exponential growth of entangled states is the crucial ingredient for quantum computing. Note that $d^n$ is the <i>number of integers</i> reachable by $n$ bits. But in quantum computing it is the <i>number of dimensions</i> in which we can place $d^n$ complex amplitudes.  \n",
    "<br>\n",
    "\n",
    "- There is no general criterion to know whether a state is, a priori, factorizable or entangled.  \n",
    "<br>\n",
    "\n",
    "- Furthermore, there are ways to mathematically characterize the level of entanglement (*entanglement witnesses, entanglement monotones*, etc.) from zero (factorizable state) up to maximal.\n",
    "\n",
    "</div>\n"
   ]
  },
  {
   "cell_type": "markdown",
   "id": "c597d921",
   "metadata": {
    "slideshow": {
     "slide_type": "slide"
    }
   },
   "source": [
    "<a id='ops_Hn'></a>\n",
    "\n",
    "# Operators over  $\\Hil^{\\otimes n}$\n",
    "\n",
    "[<<<](#top)\n"
   ]
  },
  {
   "cell_type": "markdown",
   "id": "bfcb699b",
   "metadata": {
    "slideshow": {
     "slide_type": "slide"
    }
   },
   "source": [
    "\n",
    "The space $\\Hil^{\\otimes n}$ admits, as any vector space, the action of *linear operators* $A: \\Hil^{\\otimes n} \\to \\Hil^{\\otimes n}$ where\n",
    "\n",
    "$$\n",
    "A: \\ket{u} \\to \\ket{v} \\equiv A\\ket{u}\n",
    "$$    \n",
    "\n",
    "The set of all linear operators forms the vector space $\\Lin(\\Hil^{\\otimes n})$.\n"
   ]
  },
  {
   "cell_type": "markdown",
   "id": "9e33d019",
   "metadata": {
    "slideshow": {
     "slide_type": "slide"
    }
   },
   "source": [
    "## Matrices\n",
    "\n",
    "- To each operator, $A$, we can associate a *matrix*, once we choose our basis $\\{\\ket{i_1 i_2 \\dots i_n}\\}$ where $i_k = 1,\\dots,d$.  \n",
    "<br>  \n",
    "<br>  \n",
    "\n",
    "- The *matrix elements* will now be labeled by two *multi-indices*  \n",
    "<br>  \n",
    "<br>  \n",
    "$$\n",
    "A_{i_1 \\dots i_n,\\, j_1 \\dots j_n} = \\bra{i_1 \\dots i_n}A\\ket{j_1 \\dots j_n}\n",
    "~~~~~\\leftrightarrow~~~~~\n",
    "A_{ab} = \\bra{a}A\\ket{b}\n",
    "$$  \n",
    "<br>\n"
   ]
  },
  {
   "cell_type": "markdown",
   "id": "5b4b4413",
   "metadata": {
    "slideshow": {
     "slide_type": "slide"
    }
   },
   "source": [
    "- With the matrix, the operator is reconstructed in the canonical basis of outer products  \n",
    "<br>\n",
    "\n",
    "\\begin{eqnarray} \n",
    " A &~=~& \n",
    " \\sum_{i_1,\\dots,i_n,\\, j_1,\\dots,j_n=0}^{d-1} A_{i_1\\dots i_n, \\, j_1\\dots j_n} \\,\\ket{i_1\\dots i_n}\\bra{j_1\\dots j_n}\n",
    " ~~=~~\n",
    "  \\sum_{a,b=0}^{d^{n}-1} A_{ab} \\,\\ket{a}\\bra{b}\n",
    "\\end{eqnarray}\n"
   ]
  },
  {
   "cell_type": "markdown",
   "id": "f8a42ede",
   "metadata": {
    "slideshow": {
     "slide_type": "fragment"
    }
   },
   "source": [
    "- In $A_{i_1...i_n,\\,j_1...j_n} = A_{ab}$ there are $d^n \\times d^n = d^{2n}$ degrees of freedom. This would be the dimension of the space $\\Lin(\\Hil^{\\otimes n})$.\n",
    "<br>\n"
   ]
  },
  {
   "cell_type": "markdown",
   "id": "6431cabb",
   "metadata": {
    "slideshow": {
     "slide_type": "slide"
    }
   },
   "source": [
    "<a id='tp_op'></a>\n",
    "## Tensor product operators"
   ]
  },
  {
   "cell_type": "markdown",
   "id": "eceed79b",
   "metadata": {
    "slideshow": {
     "slide_type": "slide"
    }
   },
   "source": [
    "In $\\Lin(\\Hil^{\\otimes n})$ there is an analogue of the factorizable vectors of $\\Hil^{\\otimes n}$: the <u>*factorizable operators*</u>\n"
   ]
  },
  {
   "cell_type": "markdown",
   "id": "9aa24cb3",
   "metadata": {
    "slideshow": {
     "slide_type": "fragment"
    }
   },
   "source": [
    "Suppose there exist $n$ linear operators $A^{(a)}$, $a=1,\\dots,n$, each defined on a factor space $\\Hil$.\n"
   ]
  },
  {
   "cell_type": "markdown",
   "id": "68e7c0d1",
   "metadata": {
    "slideshow": {
     "slide_type": "fragment"
    }
   },
   "source": [
    "<div class=\"alert alert-block alert-info\">\n",
    "<p style=\"text-align:left;color:navy\"> <b>Definition</b>:\n",
    "<br>\n",
    "The action of the tensor product of operators  \n",
    "$$\n",
    "A = A^{(1)}\\otimes A^{(2)} \\otimes \\dots \\otimes A^{(n)}\n",
    "$$  \n",
    "on a vector  \n",
    "$$\n",
    "\\ket{v} = \\ket{v_1}\\otimes \\dots \\otimes \\ket{v_n} \\in \\Hil\n",
    "$$  \n",
    "is defined as\n",
    "<br>\n",
    "<br>\n",
    "$$\n",
    "A\\ket{v} = A^{(1)}\\ket{v_1}\\otimes \\dots \\otimes A^{(n)}\\ket{v_n}\\,.\n",
    "$$\n",
    "<br>\n",
    "</p>\n",
    "</div>\n",
    "\n"
   ]
  },
  {
   "cell_type": "markdown",
   "id": "488e9bdb",
   "metadata": {
    "slideshow": {
     "slide_type": "skip"
    }
   },
   "source": [
    "\n",
    "The action on general vectors follows by enforcing linearity.\n",
    "$$\n",
    "A(\\ket{v} + \\ket{w}) = A\\ket{v} + A\\ket{w}\\, .\n",
    "$$\n"
   ]
  },
  {
   "cell_type": "markdown",
   "id": "639d37f3",
   "metadata": {
    "slideshow": {
     "slide_type": "skip"
    }
   },
   "source": [
    "- The adjoint of a tensor product of operators is the tensor product of the adjoints (the order is not permuted)\n",
    "\n",
    "$$\n",
    "A^\\dagger = A^{(1)\\dagger} \\otimes ... \\otimes A^{(n)\\dagger}\n",
    "$$"
   ]
  },
  {
   "cell_type": "markdown",
   "id": "3660653f",
   "metadata": {
    "slideshow": {
     "slide_type": "skip"
    }
   },
   "source": [
    "- The tensor product of Hermitian operators is Hermitian\n",
    "\n",
    "$$ A^{(a)\\dagger} = A^{(a)} ~~\\Longrightarrow A^{\\dagger} = A $$"
   ]
  },
  {
   "cell_type": "markdown",
   "id": "659181ec",
   "metadata": {
    "slideshow": {
     "slide_type": "skip"
    }
   },
   "source": [
    "- The tensor product of unitary operators is unitary\n",
    "\n",
    "$$ A^{(a)\\dagger} = A^{(a)\\, -1} \\,  ~~\\Longrightarrow ~~A^{\\dagger} = A^{-1} $$"
   ]
  },
  {
   "cell_type": "markdown",
   "id": "d706f452",
   "metadata": {
    "slideshow": {
     "slide_type": "slide"
    }
   },
   "source": [
    "<a id='Kronecker_mat'></a>\n",
    "## Kronecker product of matrices"
   ]
  },
  {
   "cell_type": "markdown",
   "id": "f47b2df4",
   "metadata": {
    "slideshow": {
     "slide_type": "slide"
    }
   },
   "source": [
    "Similar to the case for factorizable states, for a factorizable operator  \n",
    "\n",
    "$$\n",
    "A = A^{(1)} \\otimes A^{(2)} \\otimes \\dots \\otimes A^{(n)}\\,,\n",
    "$$  \n",
    "\n",
    "the matrix elements   factorize \n",
    "\n",
    "$$\n",
    "A_{i_1 \\dots i_n,\\;j_1 \\dots j_n}\n",
    "= A^{(1)}_{i_1 j_1}\\;A^{(2)}_{i_2 j_2}\\;\\dots\\;A^{(n)}_{i_n j_n}\\,.\n",
    "$$\n",
    "\n"
   ]
  },
  {
   "cell_type": "markdown",
   "id": "3446b977",
   "metadata": {
    "slideshow": {
     "slide_type": "slide"
    }
   },
   "source": [
    "Let us take  $n=2$ for simplicity\n",
    "\\begin{eqnarray}\n",
    "A = A^{(1)}\\otimes  A^{(2)} &=&\\left( \\sum_{i_1i_2}A^{(1)}_{i_1 j_1} \\ket{i_1}\\bra{j_1}\\right)\\left( \\sum_{i_2j_2}A^{(2)}_{i_2 j_2} \\ket{i_2}\\bra{j_2}\\right)\\\\\n",
    "&=& \\sum_{i_1 i_2 , j_1 j_2} A^{(1)}_{i_1 j_1}A^{(2)}_{i_2 j_2}\\ket{i_1 i_2}\\bra{j_1j_2} \\\\\n",
    "&=& \\sum_{i_1 i_2 , j_1 j_2} A_{i_1i_2,\\, j_1j_2}\\ket{i_1 i_2}\\bra{j_1j_2}\n",
    "\\end{eqnarray}\n"
   ]
  },
  {
   "cell_type": "markdown",
   "id": "c3d3bfeb",
   "metadata": {
    "slideshow": {
     "slide_type": "fragment"
    }
   },
   "source": [
    "We see that the matrix associated with \\(A\\) is obtained from the matrices of $A^{(a)}$ by the *outer product of matrices*, or *Kronecker product*.\n",
    "\n",
    "$$\n",
    "  A_{i_1i_2,\\,j_1j_2} = A^{(1)}_{i_1j_1}A^{(2)}_{i_2 j_2} \n",
    "$$\n"
   ]
  },
  {
   "cell_type": "markdown",
   "id": "0b9a52c7",
   "metadata": {
    "slideshow": {
     "slide_type": "slide"
    }
   },
   "source": [
    "- The method to **represent** in matrix form the Kronecker product of two matrices $A \\otimes B$ is straightforward. Suppose $d=2$ and we have a product operator $A \\otimes B$. Then its matrix\n",
    "<br>\n",
    "\n",
    "$$\n",
    "(A\\otimes B)_{ab} = \\begin{pmatrix} A_{00}B & A_{01}B \\\\ A_{10}B & A_{11}B \\end{pmatrix} = \\begin{pmatrix} A_{00}B_{00} & A_{00}B_{01} & A_{01}B_{00} & A_{01}B_{01} \\\\\n",
    "                A_{00}B_{10} & A_{00}B_{11} & A_{01}B_{10} & A_{01}B_{11} \\\\\n",
    "                A_{10}B_{00} & A_{10}B_{01} & A_{11}B_{00} & A_{11}B_{01} \\\\\n",
    "                A_{10}B_{10} & A_{10}B_{11} & A_{11}B_{10} & A_{11}B_{11} \\end{pmatrix}.\n",
    "$$"
   ]
  },
  {
   "cell_type": "markdown",
   "id": "59774885",
   "metadata": {
    "slideshow": {
     "slide_type": "slide"
    }
   },
   "source": [
    "- The Kronecker product satisfies the following properties for two matrices $A$ and $B$ of dimensions\n",
    "$d_A$ y $d_B$. \n",
    "<br>\n",
    "<br>\n",
    "\n",
    "\\begin{eqnarray}\n",
    "(A\\otimes B)(C\\otimes D) &=& (AC)\\otimes (BD) \\nonumber\\\\ \\rule{0mm}{6mm}\n",
    "\\tr(A\\otimes B) &=& (\\tr A)(\\tr B) \\nonumber\\\\ \\rule{0mm}{6mm}\n",
    "A\\otimes(B+D) &=& A\\otimes B + A\\otimes D \\nonumber\\\\ \\rule{0mm}{6mm}\n",
    "(A\\otimes B)^\\dagger &=& A^\\dagger\\otimes B^\\dagger \\nonumber\\\\ \\rule{0mm}{6mm}\n",
    "(A\\otimes B)^{-1} &=& A^{-1} \\otimes B^{-1} \\nonumber\\\\ \\rule{0mm}{6mm}\n",
    "\\det (A\\otimes B) &=& (\\det A)^{d_B}(\\det B)^{d_A}\n",
    "\\end{eqnarray}\n",
    "\n",
    "\n",
    "where $AC$ stands for the matrix product of $A$ and $C$"
   ]
  },
  {
   "cell_type": "markdown",
   "id": "72f70295",
   "metadata": {
    "slideshow": {
     "slide_type": "skip"
    }
   },
   "source": [
    "<div class=\"alert alert-block alert-success\">\n",
    "<b>Exercise:</b> \n",
    "\n",
    "1. Prove these results.  \n",
    "<br><br>  \n",
    "2. Rewrite the function <i>kronecker(A, B)</i> so that it accepts two matrices $A$ and $B$ of dimensions $d_A$ and $d_B$ and returns their Kronecker product $A \\otimes B$. Verify the result using NumPy’s `kron` function. Verify the properties listed above.  \n",
    "<br><br>  \n",
    "3. Compute $\\sigma_1 \\otimes \\sigma_2 \\otimes \\sigma_3$ and verify the result.  \n",
    "<br>\n",
    "</div>\n"
   ]
  },
  {
   "cell_type": "markdown",
   "id": "e0066901",
   "metadata": {
    "slideshow": {
     "slide_type": "slide"
    }
   },
   "source": [
    "The generalization to arbitrary $n$ is obvious. The Kronecker product of $n$ matrices $A^{(a)}_{i_a j_a}$ associated with operators $A^{(a)}$ is\n",
    "\n",
    "$$\n",
    " A_{i_1...i_n,\\,j_1...j_n} = A^{(1)}_{i_1j_1}...A^{(n)}_{i_n j_n} \n",
    "$$"
   ]
  },
  {
   "cell_type": "markdown",
   "id": "67fe5e23",
   "metadata": {
    "slideshow": {
     "slide_type": "slide"
    }
   },
   "source": [
    "<div class=\"alert alert-block alert-danger\">\n",
    "    <b>Note:</b> \n",
    "<br>\n",
    " Observe that for a general operator, the matrix $ A_{i_1...i_n,\\,j_1...j_n}$ has $d^n\\times d^n = d^{2n}$ independent entries. \n",
    "\n",
    "However, in a Kronecker product $A^{(1)}_{i_1j_1}\\cdots A^{(n)}_{i_n j_n}$ there are only $n d^2$. \n",
    "    \n",
    "Therefore, the *factorizable operators* form a very small subset within the set of all general operators.\n",
    "</div>\n"
   ]
  },
  {
   "cell_type": "markdown",
   "id": "05fd8d47",
   "metadata": {
    "slideshow": {
     "slide_type": "slide"
    }
   },
   "source": [
    "## Generation of entanglement\n",
    "\n",
    "Suppose that $\\ket{u} = \\ket{u_1}\\otimes\\ket{u_2}$ is factorizable.\n",
    "\n",
    "- If $A = A_1\\otimes A_2$ is a factorizable operator then\n",
    "\n",
    "$$\n",
    "\\ket{v} = A\\ket{u} = A_1\\ket{u_1}\\otimes A_2\\ket{u_2} = \\ket{v_1}\\otimes \\ket{v_2}\n",
    "$$\n",
    "\n",
    "is also factorizable.\n",
    "\n",
    "- Conversely, the *action of a non-factorizable operator* $A \\neq A_1\\otimes A_2$ generates entangled states\n",
    "\n",
    "$$\n",
    "\\ket{v} = A\\ket{u} \\neq \\ket{v_1}\\otimes \\ket{v_2}\n",
    "$$\n"
   ]
  },
  {
   "cell_type": "markdown",
   "id": "ca4e47a3",
   "metadata": {
    "slideshow": {
     "slide_type": "fragment"
    }
   },
   "source": [
    "In physical terms, what this means is that to generate entanglement there must be *interaction* between the degrees of freedom that reside in $\\Hil_1$ and $\\Hil_2$. If there is no interaction, factorizable states will remain factorizable in the future.\n"
   ]
  }
 ],
 "metadata": {
  "celltoolbar": "Raw Cell Format",
  "kernelspec": {
   "display_name": "Python (ficc_notebook)",
   "language": "python",
   "name": "ficc_env"
  },
  "language_info": {
   "codemirror_mode": {
    "name": "ipython",
    "version": 3
   },
   "file_extension": ".py",
   "mimetype": "text/x-python",
   "name": "python",
   "nbconvert_exporter": "python",
   "pygments_lexer": "ipython3",
   "version": "3.9.13"
  },
  "nbTranslate": {
   "displayLangs": [
    "*"
   ],
   "hotkey": "alt-t",
   "langInMainMenu": true,
   "sourceLang": "en",
   "targetLang": "fr",
   "useGoogleTranslate": true
  },
  "toc": {
   "base_numbering": 1,
   "nav_menu": {},
   "number_sections": true,
   "sideBar": true,
   "skip_h1_title": false,
   "title_cell": "Table of Contents",
   "title_sidebar": "Contents",
   "toc_cell": false,
   "toc_position": {},
   "toc_section_display": true,
   "toc_window_display": false
  },
  "varInspector": {
   "cols": {
    "lenName": 16,
    "lenType": 16,
    "lenVar": 40
   },
   "kernels_config": {
    "python": {
     "delete_cmd_postfix": "",
     "delete_cmd_prefix": "del ",
     "library": "var_list.py",
     "varRefreshCmd": "print(var_dic_list())"
    },
    "r": {
     "delete_cmd_postfix": ") ",
     "delete_cmd_prefix": "rm(",
     "library": "var_list.r",
     "varRefreshCmd": "cat(var_dic_list()) "
    }
   },
   "types_to_exclude": [
    "module",
    "function",
    "builtin_function_or_method",
    "instance",
    "_Feature"
   ],
   "window_display": false
  }
 },
 "nbformat": 4,
 "nbformat_minor": 5
}
