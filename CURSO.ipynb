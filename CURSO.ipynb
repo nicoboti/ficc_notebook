{
 "cells": [
  {
   "cell_type": "markdown",
   "metadata": {},
   "source": [
    "\n",
    "<figure>\n",
    "<a id='fig_ref'></a>\n",
    "<img src=\"figuras/logos/logo_usc.jpg\" align=right width='120px'/>\n",
    "</figure>\n",
    "\n",
    "<br>\n",
    "<br>\n",
    "<br>\n",
    "<br>\n",
    "\n",
    "<table width=\"100%\"><td style=\" font_style:italic; font-size:50px;text-align:center;background-color:rgba(0, 220, 170,0.7)\">\n",
    "<div>\n",
    "Fundaments of Quantum Information and Computation\n",
    "</div>\n",
    "</td></table>\n",
    "\n",
    "\n",
    "\n",
    "\n",
    "Octubre 2025\n",
    "\n",
    "Javier Mas \n",
    "\n",
    "\n",
    "<br>\n",
    "<br>\n",
    "\n",
    "<a rel=\"license\" href=\"http://creativecommons.org/licenses/by-sa/4.0/\"><img aling=\"left\" alt=\"Licencia Creative Commons\" style=\"border-width:0\" src=\"https://i.creativecommons.org/l/by-sa/4.0/88x31.png\" /></a><br />Licencia: <a rel=\"license\" href=\"http://creativecommons.org/licenses/by-sa/4.0/\">Licencia Creative Commons Atribución-CompartirIgual 4.0 Internacional</a>.\n",
    "\n",
    "$ \\renewcommand{\\bra}[1]{\\langle #1|} $\n",
    "$ \\renewcommand{\\ket}[1]{|#1\\rangle} $\n",
    "$ \\renewcommand{\\braket}[2]{\\langle #1|#2\\rangle} $\n",
    "$ \\renewcommand{\\i}{{\\color{blue} i}} $ \n",
    "$ \\newcommand{\\Hil}{{\\cal H}} $ \n",
    "$ \\newcommand{\\Lin}{\\hbox{Lin}} $\n",
    "$ \\newcommand{\\R}{{\\mathbb R}} $\n",
    "$ \\newcommand{\\C}{{\\mathbb C}} $\n",
    "$ \\newcommand{\\V}{{ V}} $\n",
    "\n"
   ]
  },
  {
   "cell_type": "markdown",
   "metadata": {
    "slideshow": {
     "slide_type": "slide"
    },
    "tags": []
   },
   "source": [
    "\n",
    "[**Bibliografía**](Bibliografía.ipynb#fund)\n",
    "\n",
    "\n",
    "\n",
    "\n",
    "## The rules of the game\n",
    "\n",
    "\n",
    "\n",
    "\n",
    "- ###  [Complex Numbers](01_Formalismo/01_Numeros_Complejos_en.ipynb)      \n",
    "- ###  [Vectors](01_Formalismo/01_Vectores_en.ipynb)  \n",
    "- ###  [Operators](01_Formalismo/01_Operadores_en.ipynb) \n",
    "- ###  [Tensors](01_Formalismo/01_Tensores_en.ipynb) \n",
    "- ###  [Probabilities](01_Formalismo/01_Probabilidades_en.ipynb)\n",
    "\n",
    "\n",
    "- ###  [Fundamentals of Quantum Mechanics](01_Formalismo/02_Fundamentos_MC_en.ipynb)  \n"
   ]
  },
  {
   "cell_type": "markdown",
   "metadata": {
    "slideshow": {
     "slide_type": "slide"
    }
   },
   "source": [
    "## Qubits\n",
    "\n",
    "- ###  [One qubit](02_Cubits/021_Cubits_en.ipynb) \n",
    "- ###  [The spin qubit](02_Cubits/023_Espin_en.ipynb) \n",
    "- ###  [The art of measurements I](02_Cubits/024_El_Arte_de_Medir_I_en.ipynb)\n",
    "- ###  [Multi-qubits](02_Cubits/025_Multicubits_en.ipynb)   \n",
    "- ###  [The art of measurements II](02_Cubits/026_El_Arte_de_Medir_II_en.ipynb)\n",
    "- ###  [Entanglement in action](02_Cubits/027_Entrelazamiento_en.ipynb)\n",
    "\n",
    "\n",
    "## General states\n",
    "\n",
    "- ###  [Mixed quantum states](05_QM_Advanced/051_Operador_densidad_en.ipynb)\n",
    "- ###  [Open quantum systems](05_QM_Advanced/054_Open_Quantum_Systems.ipynb)\n",
    "- ###  [Generalized measurements](05_QM_Advanced/052_Gen_Meas.ipynb)\n",
    "\n"
   ]
  },
  {
   "cell_type": "markdown",
   "metadata": {},
   "source": [
    "## Quantum Computing: basics    \n",
    "\n",
    "- ###  [Elementary quantum circuitry](03_Circuitos/031_Elementos_Basicos_en.ipynb) \n",
    "- ###  [Quantum circuits for classical computing](03_Circuitos/032_CompClasica_en.ipynb)\n",
    "\n",
    "\n",
    "## Quantum Computing: algorithms\n",
    "    \n",
    "\n",
    "- ###  [Oracle algorithms](04_Algoritmos/041_Alg_Oraculo_en.ipynb) \n",
    "- ###  [Quantum Fourier transform](04_Algoritmos/042_QFT_en.ipynb)\n",
    "- ###  [Quantum phase estimation](04_Algoritmos/043_QPE_en.ipynb)\n",
    "- ###  [Search algorithms](04_Algoritmos/044_Grover_en.ipynb)\n",
    "\n",
    "\n",
    "## Quantum Information\n",
    "\n",
    "- ###  [Classical Information Theory](06_Quantum_Info/061_Classical_Info.ipynb)\n",
    "- ###  [Quantum Information Theory](06_Quantum_Info/062_Quantum_Info.ipynb)\n",
    "\n"
   ]
  }
 ],
 "metadata": {
  "celltoolbar": "Slideshow",
  "kernelspec": {
   "display_name": "Python 3 (ipykernel)",
   "language": "python",
   "name": "python3"
  },
  "language_info": {
   "codemirror_mode": {
    "name": "ipython",
    "version": 3
   },
   "file_extension": ".py",
   "mimetype": "text/x-python",
   "name": "python",
   "nbconvert_exporter": "python",
   "pygments_lexer": "ipython3",
   "version": "3.9.7"
  },
  "nbTranslate": {
   "displayLangs": [
    "*"
   ],
   "hotkey": "alt-t",
   "langInMainMenu": true,
   "sourceLang": "en",
   "targetLang": "fr",
   "useGoogleTranslate": true
  },
  "toc": {
   "base_numbering": 1,
   "nav_menu": {},
   "number_sections": true,
   "sideBar": true,
   "skip_h1_title": true,
   "title_cell": "Table of Contents",
   "title_sidebar": "Contents",
   "toc_cell": false,
   "toc_position": {},
   "toc_section_display": true,
   "toc_window_display": false
  },
  "varInspector": {
   "cols": {
    "lenName": 16,
    "lenType": 16,
    "lenVar": 40
   },
   "kernels_config": {
    "python": {
     "delete_cmd_postfix": "",
     "delete_cmd_prefix": "del ",
     "library": "var_list.py",
     "varRefreshCmd": "print(var_dic_list())"
    },
    "r": {
     "delete_cmd_postfix": ") ",
     "delete_cmd_prefix": "rm(",
     "library": "var_list.r",
     "varRefreshCmd": "cat(var_dic_list()) "
    }
   },
   "types_to_exclude": [
    "module",
    "function",
    "builtin_function_or_method",
    "instance",
    "_Feature"
   ],
   "window_display": false
  }
 },
 "nbformat": 4,
 "nbformat_minor": 4
}
